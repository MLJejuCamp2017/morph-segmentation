{
 "cells": [
  {
   "cell_type": "markdown",
   "metadata": {
    "deletable": true,
    "editable": true
   },
   "source": [
    "# Vanilla embedding seq2seq experiment analysis\n",
    "\n",
    "[Git commit](https://github.com/juditacs/morph-segmentation-experiments/commit/af3d16a0b5a73df2ef4877e10ddf21e40f9d85bc)\n",
    "\n",
    "## Experimental setup\n",
    "\n",
    "* dataset: Hungarian Webcorpus segmented using the output of HuNLP-Gate\n",
    "  * segmentation converted to standoff tagging using two tags: B (beginning morpheme), E (continuation of morpheme)\n",
    "* architecture: embedding seq2seq with a single LSTM/GRU layer\n",
    "* 200000 unique words-segmentation pairs were used\n",
    "* fixed parameters: `batch_size`=1000\n",
    "* varying parameters uniformly sampled from these ranges:\n",
    " \n",
    "| Parameter | Range |\n",
    "| --- | --- |\n",
    "| cell type | `['LSTM', 'GRU']` |\n",
    "| cell size | `[16, 32, 64, 128, 256, 512, 1024]` | \n",
    "| embedding size | `range(2, 30)` |\n",
    "| epochs | `[100, 200, 300, 400]` |\n",
    "\n",
    "Earlier experiments used more epochs, but they obviously overfitted on the training data.\n",
    "\n",
    "### Misc\n",
    "\n",
    "* each output is prefixed with a GO symbol, but no END symbol is used (maybe I should have used one?)"
   ]
  },
  {
   "cell_type": "code",
   "execution_count": 1,
   "metadata": {
    "collapsed": false,
    "deletable": true,
    "editable": true
   },
   "outputs": [],
   "source": [
    "import pandas as pd\n",
    "import matplotlib\n",
    "\n",
    "%matplotlib inline\n",
    "matplotlib.style.use('ggplot')\n",
    "matplotlib.pyplot.rcParams['figure.figsize'] = (10, 7)\n",
    "matplotlib.pyplot.rcParams['font.family'] = 'sans-serif'"
   ]
  },
  {
   "cell_type": "code",
   "execution_count": 2,
   "metadata": {
    "collapsed": false,
    "deletable": true,
    "editable": true
   },
   "outputs": [
    {
     "data": {
      "text/html": [
       "<div>\n",
       "<table border=\"1\" class=\"dataframe\">\n",
       "  <thead>\n",
       "    <tr style=\"text-align: right;\">\n",
       "      <th></th>\n",
       "      <th>cell_size</th>\n",
       "      <th>epochs</th>\n",
       "      <th>embedding_size</th>\n",
       "      <th>train_loss</th>\n",
       "      <th>test_loss</th>\n",
       "    </tr>\n",
       "  </thead>\n",
       "  <tbody>\n",
       "    <tr>\n",
       "      <th>count</th>\n",
       "      <td>1577.000000</td>\n",
       "      <td>1577.000000</td>\n",
       "      <td>1577.000000</td>\n",
       "      <td>1577.000000</td>\n",
       "      <td>1577.000000</td>\n",
       "    </tr>\n",
       "    <tr>\n",
       "      <th>mean</th>\n",
       "      <td>156.986684</td>\n",
       "      <td>234.332276</td>\n",
       "      <td>15.334813</td>\n",
       "      <td>0.269194</td>\n",
       "      <td>2.434497</td>\n",
       "    </tr>\n",
       "    <tr>\n",
       "      <th>std</th>\n",
       "      <td>164.639864</td>\n",
       "      <td>213.660783</td>\n",
       "      <td>7.993224</td>\n",
       "      <td>0.457001</td>\n",
       "      <td>2.157002</td>\n",
       "    </tr>\n",
       "    <tr>\n",
       "      <th>min</th>\n",
       "      <td>16.000000</td>\n",
       "      <td>2.000000</td>\n",
       "      <td>2.000000</td>\n",
       "      <td>0.000244</td>\n",
       "      <td>0.104645</td>\n",
       "    </tr>\n",
       "    <tr>\n",
       "      <th>25%</th>\n",
       "      <td>32.000000</td>\n",
       "      <td>100.000000</td>\n",
       "      <td>9.000000</td>\n",
       "      <td>0.006372</td>\n",
       "      <td>0.627683</td>\n",
       "    </tr>\n",
       "    <tr>\n",
       "      <th>50%</th>\n",
       "      <td>64.000000</td>\n",
       "      <td>200.000000</td>\n",
       "      <td>15.000000</td>\n",
       "      <td>0.026376</td>\n",
       "      <td>1.781726</td>\n",
       "    </tr>\n",
       "    <tr>\n",
       "      <th>75%</th>\n",
       "      <td>256.000000</td>\n",
       "      <td>400.000000</td>\n",
       "      <td>22.000000</td>\n",
       "      <td>0.056977</td>\n",
       "      <td>3.721912</td>\n",
       "    </tr>\n",
       "    <tr>\n",
       "      <th>max</th>\n",
       "      <td>512.000000</td>\n",
       "      <td>1000.000000</td>\n",
       "      <td>29.000000</td>\n",
       "      <td>1.614853</td>\n",
       "      <td>11.198904</td>\n",
       "    </tr>\n",
       "  </tbody>\n",
       "</table>\n",
       "</div>"
      ],
      "text/plain": [
       "         cell_size       epochs  embedding_size   train_loss    test_loss\n",
       "count  1577.000000  1577.000000     1577.000000  1577.000000  1577.000000\n",
       "mean    156.986684   234.332276       15.334813     0.269194     2.434497\n",
       "std     164.639864   213.660783        7.993224     0.457001     2.157002\n",
       "min      16.000000     2.000000        2.000000     0.000244     0.104645\n",
       "25%      32.000000   100.000000        9.000000     0.006372     0.627683\n",
       "50%      64.000000   200.000000       15.000000     0.026376     1.781726\n",
       "75%     256.000000   400.000000       22.000000     0.056977     3.721912\n",
       "max     512.000000  1000.000000       29.000000     1.614853    11.198904"
      ]
     },
     "execution_count": 2,
     "metadata": {},
     "output_type": "execute_result"
    }
   ],
   "source": [
    "results = pd.read_table('../results/webcorp.tagset_BE.layer_1.sample_200000.tsv')\n",
    "results.describe()"
   ]
  },
  {
   "cell_type": "markdown",
   "metadata": {
    "deletable": true,
    "editable": true
   },
   "source": [
    "## Cell type\n",
    "\n",
    "it does not seem to matter very much"
   ]
  },
  {
   "cell_type": "code",
   "execution_count": 3,
   "metadata": {
    "collapsed": false,
    "deletable": true,
    "editable": true
   },
   "outputs": [
    {
     "data": {
      "text/html": [
       "<div>\n",
       "<table border=\"1\" class=\"dataframe\">\n",
       "  <thead>\n",
       "    <tr style=\"text-align: right;\">\n",
       "      <th></th>\n",
       "      <th></th>\n",
       "      <th>cell_size</th>\n",
       "      <th>embedding_size</th>\n",
       "      <th>epochs</th>\n",
       "      <th>test_loss</th>\n",
       "      <th>train_loss</th>\n",
       "    </tr>\n",
       "    <tr>\n",
       "      <th>cell_type</th>\n",
       "      <th></th>\n",
       "      <th></th>\n",
       "      <th></th>\n",
       "      <th></th>\n",
       "      <th></th>\n",
       "      <th></th>\n",
       "    </tr>\n",
       "  </thead>\n",
       "  <tbody>\n",
       "    <tr>\n",
       "      <th rowspan=\"8\" valign=\"top\">GRU</th>\n",
       "      <th>count</th>\n",
       "      <td>792.000000</td>\n",
       "      <td>792.000000</td>\n",
       "      <td>792.000000</td>\n",
       "      <td>792.000000</td>\n",
       "      <td>792.000000</td>\n",
       "    </tr>\n",
       "    <tr>\n",
       "      <th>mean</th>\n",
       "      <td>154.666667</td>\n",
       "      <td>15.443182</td>\n",
       "      <td>237.325758</td>\n",
       "      <td>2.583782</td>\n",
       "      <td>0.241625</td>\n",
       "    </tr>\n",
       "    <tr>\n",
       "      <th>std</th>\n",
       "      <td>162.809220</td>\n",
       "      <td>8.041096</td>\n",
       "      <td>211.766694</td>\n",
       "      <td>2.520865</td>\n",
       "      <td>0.425841</td>\n",
       "    </tr>\n",
       "    <tr>\n",
       "      <th>min</th>\n",
       "      <td>16.000000</td>\n",
       "      <td>2.000000</td>\n",
       "      <td>2.000000</td>\n",
       "      <td>0.104645</td>\n",
       "      <td>0.000244</td>\n",
       "    </tr>\n",
       "    <tr>\n",
       "      <th>25%</th>\n",
       "      <td>32.000000</td>\n",
       "      <td>9.000000</td>\n",
       "      <td>100.000000</td>\n",
       "      <td>0.489852</td>\n",
       "      <td>0.003155</td>\n",
       "    </tr>\n",
       "    <tr>\n",
       "      <th>50%</th>\n",
       "      <td>64.000000</td>\n",
       "      <td>15.000000</td>\n",
       "      <td>200.000000</td>\n",
       "      <td>1.455557</td>\n",
       "      <td>0.016441</td>\n",
       "    </tr>\n",
       "    <tr>\n",
       "      <th>75%</th>\n",
       "      <td>256.000000</td>\n",
       "      <td>23.000000</td>\n",
       "      <td>400.000000</td>\n",
       "      <td>4.369723</td>\n",
       "      <td>0.047660</td>\n",
       "    </tr>\n",
       "    <tr>\n",
       "      <th>max</th>\n",
       "      <td>512.000000</td>\n",
       "      <td>29.000000</td>\n",
       "      <td>1000.000000</td>\n",
       "      <td>11.198904</td>\n",
       "      <td>1.614853</td>\n",
       "    </tr>\n",
       "    <tr>\n",
       "      <th rowspan=\"8\" valign=\"top\">LSTM</th>\n",
       "      <th>count</th>\n",
       "      <td>785.000000</td>\n",
       "      <td>785.000000</td>\n",
       "      <td>785.000000</td>\n",
       "      <td>785.000000</td>\n",
       "      <td>785.000000</td>\n",
       "    </tr>\n",
       "    <tr>\n",
       "      <th>mean</th>\n",
       "      <td>159.327389</td>\n",
       "      <td>15.225478</td>\n",
       "      <td>231.312102</td>\n",
       "      <td>2.283880</td>\n",
       "      <td>0.297008</td>\n",
       "    </tr>\n",
       "    <tr>\n",
       "      <th>std</th>\n",
       "      <td>166.537475</td>\n",
       "      <td>7.948261</td>\n",
       "      <td>215.647780</td>\n",
       "      <td>1.701782</td>\n",
       "      <td>0.485107</td>\n",
       "    </tr>\n",
       "    <tr>\n",
       "      <th>min</th>\n",
       "      <td>16.000000</td>\n",
       "      <td>2.000000</td>\n",
       "      <td>2.000000</td>\n",
       "      <td>0.148053</td>\n",
       "      <td>0.000693</td>\n",
       "    </tr>\n",
       "    <tr>\n",
       "      <th>25%</th>\n",
       "      <td>32.000000</td>\n",
       "      <td>9.000000</td>\n",
       "      <td>100.000000</td>\n",
       "      <td>0.792478</td>\n",
       "      <td>0.012437</td>\n",
       "    </tr>\n",
       "    <tr>\n",
       "      <th>50%</th>\n",
       "      <td>64.000000</td>\n",
       "      <td>15.000000</td>\n",
       "      <td>200.000000</td>\n",
       "      <td>2.006374</td>\n",
       "      <td>0.031733</td>\n",
       "    </tr>\n",
       "    <tr>\n",
       "      <th>75%</th>\n",
       "      <td>256.000000</td>\n",
       "      <td>22.000000</td>\n",
       "      <td>300.000000</td>\n",
       "      <td>3.401764</td>\n",
       "      <td>0.061536</td>\n",
       "    </tr>\n",
       "    <tr>\n",
       "      <th>max</th>\n",
       "      <td>512.000000</td>\n",
       "      <td>29.000000</td>\n",
       "      <td>1000.000000</td>\n",
       "      <td>9.547223</td>\n",
       "      <td>1.569708</td>\n",
       "    </tr>\n",
       "  </tbody>\n",
       "</table>\n",
       "</div>"
      ],
      "text/plain": [
       "                  cell_size  embedding_size       epochs   test_loss  \\\n",
       "cell_type                                                              \n",
       "GRU       count  792.000000      792.000000   792.000000  792.000000   \n",
       "          mean   154.666667       15.443182   237.325758    2.583782   \n",
       "          std    162.809220        8.041096   211.766694    2.520865   \n",
       "          min     16.000000        2.000000     2.000000    0.104645   \n",
       "          25%     32.000000        9.000000   100.000000    0.489852   \n",
       "          50%     64.000000       15.000000   200.000000    1.455557   \n",
       "          75%    256.000000       23.000000   400.000000    4.369723   \n",
       "          max    512.000000       29.000000  1000.000000   11.198904   \n",
       "LSTM      count  785.000000      785.000000   785.000000  785.000000   \n",
       "          mean   159.327389       15.225478   231.312102    2.283880   \n",
       "          std    166.537475        7.948261   215.647780    1.701782   \n",
       "          min     16.000000        2.000000     2.000000    0.148053   \n",
       "          25%     32.000000        9.000000   100.000000    0.792478   \n",
       "          50%     64.000000       15.000000   200.000000    2.006374   \n",
       "          75%    256.000000       22.000000   300.000000    3.401764   \n",
       "          max    512.000000       29.000000  1000.000000    9.547223   \n",
       "\n",
       "                 train_loss  \n",
       "cell_type                    \n",
       "GRU       count  792.000000  \n",
       "          mean     0.241625  \n",
       "          std      0.425841  \n",
       "          min      0.000244  \n",
       "          25%      0.003155  \n",
       "          50%      0.016441  \n",
       "          75%      0.047660  \n",
       "          max      1.614853  \n",
       "LSTM      count  785.000000  \n",
       "          mean     0.297008  \n",
       "          std      0.485107  \n",
       "          min      0.000693  \n",
       "          25%      0.012437  \n",
       "          50%      0.031733  \n",
       "          75%      0.061536  \n",
       "          max      1.569708  "
      ]
     },
     "execution_count": 3,
     "metadata": {},
     "output_type": "execute_result"
    }
   ],
   "source": [
    "results.groupby('cell_type').describe()"
   ]
  },
  {
   "cell_type": "markdown",
   "metadata": {
    "deletable": true,
    "editable": true
   },
   "source": [
    "## Embedding size"
   ]
  },
  {
   "cell_type": "code",
   "execution_count": 4,
   "metadata": {
    "collapsed": false,
    "deletable": true,
    "editable": true
   },
   "outputs": [
    {
     "data": {
      "text/plain": [
       "<matplotlib.axes._subplots.AxesSubplot at 0x7f0f6bb1d1d0>"
      ]
     },
     "execution_count": 4,
     "metadata": {},
     "output_type": "execute_result"
    },
    {
     "data": {
      "image/png": "[encoded data removed]",
      "text/plain": [
       "<matplotlib.figure.Figure at 0x7f0f6bb7a5f8>"
      ]
     },
     "metadata": {},
     "output_type": "display_data"
    }
   ],
   "source": [
    "results.groupby(['embedding_size', 'cell_type']).min().unstack('cell_type').plot(y='test_loss', kind='bar', figsize=(14, 8))"
   ]
  },
  {
   "cell_type": "markdown",
   "metadata": {
    "deletable": true,
    "editable": true
   },
   "source": [
    "## Cell size"
   ]
  },
  {
   "cell_type": "code",
   "execution_count": 5,
   "metadata": {
    "collapsed": false,
    "deletable": true,
    "editable": true
   },
   "outputs": [
    {
     "data": {
      "text/plain": [
       "<matplotlib.axes._subplots.AxesSubplot at 0x7f0f69a25a20>"
      ]
     },
     "execution_count": 5,
     "metadata": {},
     "output_type": "execute_result"
    },
    {
     "data": {
      "image/png": "[encoded data removed]",
      "text/plain": [
       "<matplotlib.figure.Figure at 0x7f0f69aa6160>"
      ]
     },
     "metadata": {},
     "output_type": "display_data"
    }
   ],
   "source": [
    "results.groupby(['cell_type', 'cell_size']).min().unstack('cell_type').plot(\n",
    "    y='test_loss', kind='bar', figsize=(10, 7))"
   ]
  },
  {
   "cell_type": "markdown",
   "metadata": {
    "deletable": true,
    "editable": true
   },
   "source": [
    "## Epoch number\n",
    "\n",
    "After a few hundred epochs, it quickly overfits. Early stopping will be added to later experiments."
   ]
  },
  {
   "cell_type": "code",
   "execution_count": 6,
   "metadata": {
    "collapsed": false,
    "deletable": true,
    "editable": true
   },
   "outputs": [
    {
     "data": {
      "text/plain": [
       "<matplotlib.axes._subplots.AxesSubplot at 0x7f0f69979320>"
      ]
     },
     "execution_count": 6,
     "metadata": {},
     "output_type": "execute_result"
    },
    {
     "data": {
      "image/png": "[encoded data removed]",
      "text/plain": [
       "<matplotlib.figure.Figure at 0x7f0f69985cc0>"
      ]
     },
     "metadata": {},
     "output_type": "display_data"
    }
   ],
   "source": [
    "results.groupby(['cell_type', 'epochs']).min().unstack('cell_type').plot(\n",
    "    y='test_loss', kind='bar', figsize=(10, 7))"
   ]
  },
  {
   "cell_type": "markdown",
   "metadata": {
    "deletable": true,
    "editable": true
   },
   "source": [
    "Train loss basically disappears compared to test loss as the number of epochs increases."
   ]
  },
  {
   "cell_type": "code",
   "execution_count": 7,
   "metadata": {
    "collapsed": false,
    "deletable": true,
    "editable": true
   },
   "outputs": [
    {
     "data": {
      "text/plain": [
       "<matplotlib.axes._subplots.AxesSubplot at 0x7f0f69a956a0>"
      ]
     },
     "execution_count": 7,
     "metadata": {},
     "output_type": "execute_result"
    },
    {
     "data": {
      "image/png": "[encoded data removed]",
      "text/plain": [
       "<matplotlib.figure.Figure at 0x7f0f698ba630>"
      ]
     },
     "metadata": {},
     "output_type": "display_data"
    }
   ],
   "source": [
    "results.groupby('epochs').mean().plot(kind='bar', y=['train_loss', 'test_loss'], figsize=(10, 7))"
   ]
  }
 ],
 "metadata": {
  "kernelspec": {
   "display_name": "Python 3",
   "language": "python",
   "name": "python3"
  },
  "language_info": {
   "codemirror_mode": {
    "name": "ipython",
    "version": 3
   },
   "file_extension": ".py",
   "mimetype": "text/x-python",
   "name": "python",
   "nbconvert_exporter": "python",
   "pygments_lexer": "ipython3",
   "version": "3.4.2"
  }
 },
 "nbformat": 4,
 "nbformat_minor": 2
}
