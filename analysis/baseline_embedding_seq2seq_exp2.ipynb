{
 "cells": [
  {
   "cell_type": "markdown",
   "metadata": {
    "deletable": true,
    "editable": true
   },
   "source": [
    "# Vanilla embedding seq2seq experiment analysis, 2nd set of experiments\n",
    "\n",
    "[Git commit](https://github.com/juditacs/morph-segmentation-experiments/commit/1f58181d92286878db5823569ac19ec69b7b3792)\n",
    "## Experimental setup\n",
    "\n",
    "* dataset: Hungarian Webcorpus segmented using the output of HuNLP-Gate\n",
    "  * segmentation converted to standoff tagging using two tags: B (beginning morpheme), E (continuation of morpheme)\n",
    "* architecture: embedding seq2seq with a single LSTM/GRU layer\n",
    "* 200000 unique words-segmentation pairs were used\n",
    "* fixed parameters: `batch_size`=1000\n",
    "* early stopping: `validation split=0.1`, `patienc=10`, `val_loss_epsilon=1e-2`\n",
    "* varying parameters uniformly sampled from these ranges:\n",
    " \n",
    "| Parameter | Range |\n",
    "| --- | --- |\n",
    "| cell type | `['LSTM', 'GRU']` |\n",
    "| cell size | `[16, 32, 64, 128, 256, 512, 1024, 2048]` | \n",
    "| embedding size | `range(2, 30)` |\n",
    "\n",
    "### Misc\n",
    "\n",
    "* each output is prefixed with a GO symbol, but no END symbol is used (maybe I should have used one?)"
   ]
  },
  {
   "cell_type": "code",
   "execution_count": 1,
   "metadata": {
    "collapsed": false,
    "deletable": true,
    "editable": true
   },
   "outputs": [],
   "source": [
    "import pandas as pd\n",
    "import matplotlib\n",
    "\n",
    "%matplotlib inline\n",
    "matplotlib.style.use('ggplot')\n",
    "matplotlib.pyplot.rcParams['figure.figsize'] = (10, 7)\n",
    "matplotlib.pyplot.rcParams['font.family'] = 'sans-serif'"
   ]
  },
  {
   "cell_type": "code",
   "execution_count": 2,
   "metadata": {
    "collapsed": false,
    "deletable": true,
    "editable": true
   },
   "outputs": [
    {
     "data": {
      "text/html": [
       "<div>\n",
       "<table border=\"1\" class=\"dataframe\">\n",
       "  <thead>\n",
       "    <tr style=\"text-align: right;\">\n",
       "      <th></th>\n",
       "      <th>conf.cell_size</th>\n",
       "      <th>conf.embedding_size</th>\n",
       "      <th>result.epochs_run</th>\n",
       "      <th>result.patience</th>\n",
       "      <th>result.running_time</th>\n",
       "      <th>result.test_loss</th>\n",
       "      <th>result.train_loss</th>\n",
       "      <th>result.val_loss</th>\n",
       "      <th>result.val_loss_th</th>\n",
       "    </tr>\n",
       "  </thead>\n",
       "  <tbody>\n",
       "    <tr>\n",
       "      <th>count</th>\n",
       "      <td>199.000000</td>\n",
       "      <td>199.000000</td>\n",
       "      <td>199.000000</td>\n",
       "      <td>199.0</td>\n",
       "      <td>199.000000</td>\n",
       "      <td>199.000000</td>\n",
       "      <td>199.000000</td>\n",
       "      <td>199.000000</td>\n",
       "      <td>1.990000e+02</td>\n",
       "    </tr>\n",
       "    <tr>\n",
       "      <th>mean</th>\n",
       "      <td>157.829146</td>\n",
       "      <td>15.407035</td>\n",
       "      <td>103.517588</td>\n",
       "      <td>10.0</td>\n",
       "      <td>196.217124</td>\n",
       "      <td>2.028907</td>\n",
       "      <td>0.055382</td>\n",
       "      <td>2.028693</td>\n",
       "      <td>1.000000e-02</td>\n",
       "    </tr>\n",
       "    <tr>\n",
       "      <th>std</th>\n",
       "      <td>168.659932</td>\n",
       "      <td>8.601160</td>\n",
       "      <td>63.331965</td>\n",
       "      <td>0.0</td>\n",
       "      <td>229.743182</td>\n",
       "      <td>2.098824</td>\n",
       "      <td>0.046060</td>\n",
       "      <td>2.099216</td>\n",
       "      <td>1.739099e-18</td>\n",
       "    </tr>\n",
       "    <tr>\n",
       "      <th>min</th>\n",
       "      <td>16.000000</td>\n",
       "      <td>1.000000</td>\n",
       "      <td>18.000000</td>\n",
       "      <td>10.0</td>\n",
       "      <td>10.599116</td>\n",
       "      <td>0.099575</td>\n",
       "      <td>0.001781</td>\n",
       "      <td>0.100554</td>\n",
       "      <td>1.000000e-02</td>\n",
       "    </tr>\n",
       "    <tr>\n",
       "      <th>25%</th>\n",
       "      <td>32.000000</td>\n",
       "      <td>8.000000</td>\n",
       "      <td>74.000000</td>\n",
       "      <td>10.0</td>\n",
       "      <td>50.525958</td>\n",
       "      <td>0.315079</td>\n",
       "      <td>0.040265</td>\n",
       "      <td>0.316139</td>\n",
       "      <td>1.000000e-02</td>\n",
       "    </tr>\n",
       "    <tr>\n",
       "      <th>50%</th>\n",
       "      <td>128.000000</td>\n",
       "      <td>16.000000</td>\n",
       "      <td>89.000000</td>\n",
       "      <td>10.0</td>\n",
       "      <td>105.900904</td>\n",
       "      <td>1.633056</td>\n",
       "      <td>0.045798</td>\n",
       "      <td>1.631935</td>\n",
       "      <td>1.000000e-02</td>\n",
       "    </tr>\n",
       "    <tr>\n",
       "      <th>75%</th>\n",
       "      <td>256.000000</td>\n",
       "      <td>23.000000</td>\n",
       "      <td>110.500000</td>\n",
       "      <td>10.0</td>\n",
       "      <td>242.943961</td>\n",
       "      <td>2.988206</td>\n",
       "      <td>0.054716</td>\n",
       "      <td>2.988074</td>\n",
       "      <td>1.000000e-02</td>\n",
       "    </tr>\n",
       "    <tr>\n",
       "      <th>max</th>\n",
       "      <td>512.000000</td>\n",
       "      <td>29.000000</td>\n",
       "      <td>372.000000</td>\n",
       "      <td>10.0</td>\n",
       "      <td>1247.378381</td>\n",
       "      <td>9.527024</td>\n",
       "      <td>0.339295</td>\n",
       "      <td>9.529328</td>\n",
       "      <td>1.000000e-02</td>\n",
       "    </tr>\n",
       "  </tbody>\n",
       "</table>\n",
       "</div>"
      ],
      "text/plain": [
       "       conf.cell_size  conf.embedding_size  result.epochs_run  \\\n",
       "count      199.000000           199.000000         199.000000   \n",
       "mean       157.829146            15.407035         103.517588   \n",
       "std        168.659932             8.601160          63.331965   \n",
       "min         16.000000             1.000000          18.000000   \n",
       "25%         32.000000             8.000000          74.000000   \n",
       "50%        128.000000            16.000000          89.000000   \n",
       "75%        256.000000            23.000000         110.500000   \n",
       "max        512.000000            29.000000         372.000000   \n",
       "\n",
       "       result.patience  result.running_time  result.test_loss  \\\n",
       "count            199.0           199.000000        199.000000   \n",
       "mean              10.0           196.217124          2.028907   \n",
       "std                0.0           229.743182          2.098824   \n",
       "min               10.0            10.599116          0.099575   \n",
       "25%               10.0            50.525958          0.315079   \n",
       "50%               10.0           105.900904          1.633056   \n",
       "75%               10.0           242.943961          2.988206   \n",
       "max               10.0          1247.378381          9.527024   \n",
       "\n",
       "       result.train_loss  result.val_loss  result.val_loss_th  \n",
       "count         199.000000       199.000000        1.990000e+02  \n",
       "mean            0.055382         2.028693        1.000000e-02  \n",
       "std             0.046060         2.099216        1.739099e-18  \n",
       "min             0.001781         0.100554        1.000000e-02  \n",
       "25%             0.040265         0.316139        1.000000e-02  \n",
       "50%             0.045798         1.631935        1.000000e-02  \n",
       "75%             0.054716         2.988074        1.000000e-02  \n",
       "max             0.339295         9.529328        1.000000e-02  "
      ]
     },
     "execution_count": 2,
     "metadata": {},
     "output_type": "execute_result"
    }
   ],
   "source": [
    "results = pd.read_table('../results/webcorp.tagset_BE.layer_1.sample_200000_exp2.tsv')\n",
    "results = results.sort_index(axis=1)\n",
    "results.describe()"
   ]
  },
  {
   "cell_type": "markdown",
   "metadata": {
    "deletable": true,
    "editable": true
   },
   "source": [
    "## Cell type\n",
    "\n",
    "it does not seem to matter very much"
   ]
  },
  {
   "cell_type": "code",
   "execution_count": 3,
   "metadata": {
    "collapsed": false,
    "deletable": true,
    "editable": true
   },
   "outputs": [
    {
     "data": {
      "text/html": [
       "<div>\n",
       "<table border=\"1\" class=\"dataframe\">\n",
       "  <thead>\n",
       "    <tr style=\"text-align: right;\">\n",
       "      <th></th>\n",
       "      <th></th>\n",
       "      <th>conf.cell_size</th>\n",
       "      <th>conf.embedding_size</th>\n",
       "      <th>result.epochs_run</th>\n",
       "      <th>result.patience</th>\n",
       "      <th>result.running_time</th>\n",
       "      <th>result.test_loss</th>\n",
       "      <th>result.train_loss</th>\n",
       "      <th>result.val_loss</th>\n",
       "      <th>result.val_loss_th</th>\n",
       "    </tr>\n",
       "    <tr>\n",
       "      <th>conf.cell_type</th>\n",
       "      <th></th>\n",
       "      <th></th>\n",
       "      <th></th>\n",
       "      <th></th>\n",
       "      <th></th>\n",
       "      <th></th>\n",
       "      <th></th>\n",
       "      <th></th>\n",
       "      <th></th>\n",
       "      <th></th>\n",
       "    </tr>\n",
       "  </thead>\n",
       "  <tbody>\n",
       "    <tr>\n",
       "      <th rowspan=\"8\" valign=\"top\">GRU</th>\n",
       "      <th>count</th>\n",
       "      <td>103.000000</td>\n",
       "      <td>103.000000</td>\n",
       "      <td>103.000000</td>\n",
       "      <td>103.0</td>\n",
       "      <td>103.000000</td>\n",
       "      <td>103.000000</td>\n",
       "      <td>103.000000</td>\n",
       "      <td>103.000000</td>\n",
       "      <td>1.030000e+02</td>\n",
       "    </tr>\n",
       "    <tr>\n",
       "      <th>mean</th>\n",
       "      <td>143.689320</td>\n",
       "      <td>15.223301</td>\n",
       "      <td>126.980583</td>\n",
       "      <td>10.0</td>\n",
       "      <td>191.004667</td>\n",
       "      <td>2.434621</td>\n",
       "      <td>0.040431</td>\n",
       "      <td>2.434375</td>\n",
       "      <td>1.000000e-02</td>\n",
       "    </tr>\n",
       "    <tr>\n",
       "      <th>std</th>\n",
       "      <td>160.688411</td>\n",
       "      <td>8.442344</td>\n",
       "      <td>76.309866</td>\n",
       "      <td>0.0</td>\n",
       "      <td>215.257620</td>\n",
       "      <td>2.627587</td>\n",
       "      <td>0.025413</td>\n",
       "      <td>2.628010</td>\n",
       "      <td>1.743206e-18</td>\n",
       "    </tr>\n",
       "    <tr>\n",
       "      <th>min</th>\n",
       "      <td>16.000000</td>\n",
       "      <td>1.000000</td>\n",
       "      <td>23.000000</td>\n",
       "      <td>10.0</td>\n",
       "      <td>12.673757</td>\n",
       "      <td>0.099575</td>\n",
       "      <td>0.001781</td>\n",
       "      <td>0.100554</td>\n",
       "      <td>1.000000e-02</td>\n",
       "    </tr>\n",
       "    <tr>\n",
       "      <th>25%</th>\n",
       "      <td>32.000000</td>\n",
       "      <td>8.000000</td>\n",
       "      <td>82.000000</td>\n",
       "      <td>10.0</td>\n",
       "      <td>58.182913</td>\n",
       "      <td>0.264926</td>\n",
       "      <td>0.031737</td>\n",
       "      <td>0.261386</td>\n",
       "      <td>1.000000e-02</td>\n",
       "    </tr>\n",
       "    <tr>\n",
       "      <th>50%</th>\n",
       "      <td>64.000000</td>\n",
       "      <td>16.000000</td>\n",
       "      <td>98.000000</td>\n",
       "      <td>10.0</td>\n",
       "      <td>104.588750</td>\n",
       "      <td>1.117313</td>\n",
       "      <td>0.040962</td>\n",
       "      <td>1.117134</td>\n",
       "      <td>1.000000e-02</td>\n",
       "    </tr>\n",
       "    <tr>\n",
       "      <th>75%</th>\n",
       "      <td>256.000000</td>\n",
       "      <td>22.000000</td>\n",
       "      <td>146.500000</td>\n",
       "      <td>10.0</td>\n",
       "      <td>214.200208</td>\n",
       "      <td>4.003555</td>\n",
       "      <td>0.045962</td>\n",
       "      <td>4.011431</td>\n",
       "      <td>1.000000e-02</td>\n",
       "    </tr>\n",
       "    <tr>\n",
       "      <th>max</th>\n",
       "      <td>512.000000</td>\n",
       "      <td>29.000000</td>\n",
       "      <td>372.000000</td>\n",
       "      <td>10.0</td>\n",
       "      <td>1117.586323</td>\n",
       "      <td>9.527024</td>\n",
       "      <td>0.159313</td>\n",
       "      <td>9.529328</td>\n",
       "      <td>1.000000e-02</td>\n",
       "    </tr>\n",
       "    <tr>\n",
       "      <th rowspan=\"8\" valign=\"top\">LSTM</th>\n",
       "      <th>count</th>\n",
       "      <td>96.000000</td>\n",
       "      <td>96.000000</td>\n",
       "      <td>96.000000</td>\n",
       "      <td>96.0</td>\n",
       "      <td>96.000000</td>\n",
       "      <td>96.000000</td>\n",
       "      <td>96.000000</td>\n",
       "      <td>96.000000</td>\n",
       "      <td>9.600000e+01</td>\n",
       "    </tr>\n",
       "    <tr>\n",
       "      <th>mean</th>\n",
       "      <td>173.000000</td>\n",
       "      <td>15.604167</td>\n",
       "      <td>78.343750</td>\n",
       "      <td>10.0</td>\n",
       "      <td>201.809657</td>\n",
       "      <td>1.593611</td>\n",
       "      <td>0.071423</td>\n",
       "      <td>1.593430</td>\n",
       "      <td>1.000000e-02</td>\n",
       "    </tr>\n",
       "    <tr>\n",
       "      <th>std</th>\n",
       "      <td>176.394773</td>\n",
       "      <td>8.808464</td>\n",
       "      <td>29.497485</td>\n",
       "      <td>0.0</td>\n",
       "      <td>245.351844</td>\n",
       "      <td>1.182453</td>\n",
       "      <td>0.056798</td>\n",
       "      <td>1.182916</td>\n",
       "      <td>1.743830e-18</td>\n",
       "    </tr>\n",
       "    <tr>\n",
       "      <th>min</th>\n",
       "      <td>16.000000</td>\n",
       "      <td>1.000000</td>\n",
       "      <td>18.000000</td>\n",
       "      <td>10.0</td>\n",
       "      <td>10.599116</td>\n",
       "      <td>0.118685</td>\n",
       "      <td>0.031778</td>\n",
       "      <td>0.118364</td>\n",
       "      <td>1.000000e-02</td>\n",
       "    </tr>\n",
       "    <tr>\n",
       "      <th>25%</th>\n",
       "      <td>32.000000</td>\n",
       "      <td>8.750000</td>\n",
       "      <td>63.750000</td>\n",
       "      <td>10.0</td>\n",
       "      <td>40.716751</td>\n",
       "      <td>0.366361</td>\n",
       "      <td>0.046166</td>\n",
       "      <td>0.365226</td>\n",
       "      <td>1.000000e-02</td>\n",
       "    </tr>\n",
       "    <tr>\n",
       "      <th>50%</th>\n",
       "      <td>128.000000</td>\n",
       "      <td>13.500000</td>\n",
       "      <td>82.500000</td>\n",
       "      <td>10.0</td>\n",
       "      <td>106.913763</td>\n",
       "      <td>1.857305</td>\n",
       "      <td>0.052971</td>\n",
       "      <td>1.858715</td>\n",
       "      <td>1.000000e-02</td>\n",
       "    </tr>\n",
       "    <tr>\n",
       "      <th>75%</th>\n",
       "      <td>256.000000</td>\n",
       "      <td>24.250000</td>\n",
       "      <td>94.250000</td>\n",
       "      <td>10.0</td>\n",
       "      <td>267.607995</td>\n",
       "      <td>2.633700</td>\n",
       "      <td>0.065495</td>\n",
       "      <td>2.637762</td>\n",
       "      <td>1.000000e-02</td>\n",
       "    </tr>\n",
       "    <tr>\n",
       "      <th>max</th>\n",
       "      <td>512.000000</td>\n",
       "      <td>29.000000</td>\n",
       "      <td>183.000000</td>\n",
       "      <td>10.0</td>\n",
       "      <td>1247.378381</td>\n",
       "      <td>3.885032</td>\n",
       "      <td>0.339295</td>\n",
       "      <td>3.889423</td>\n",
       "      <td>1.000000e-02</td>\n",
       "    </tr>\n",
       "  </tbody>\n",
       "</table>\n",
       "</div>"
      ],
      "text/plain": [
       "                      conf.cell_size  conf.embedding_size  result.epochs_run  \\\n",
       "conf.cell_type                                                                 \n",
       "GRU            count      103.000000           103.000000         103.000000   \n",
       "               mean       143.689320            15.223301         126.980583   \n",
       "               std        160.688411             8.442344          76.309866   \n",
       "               min         16.000000             1.000000          23.000000   \n",
       "               25%         32.000000             8.000000          82.000000   \n",
       "               50%         64.000000            16.000000          98.000000   \n",
       "               75%        256.000000            22.000000         146.500000   \n",
       "               max        512.000000            29.000000         372.000000   \n",
       "LSTM           count       96.000000            96.000000          96.000000   \n",
       "               mean       173.000000            15.604167          78.343750   \n",
       "               std        176.394773             8.808464          29.497485   \n",
       "               min         16.000000             1.000000          18.000000   \n",
       "               25%         32.000000             8.750000          63.750000   \n",
       "               50%        128.000000            13.500000          82.500000   \n",
       "               75%        256.000000            24.250000          94.250000   \n",
       "               max        512.000000            29.000000         183.000000   \n",
       "\n",
       "                      result.patience  result.running_time  result.test_loss  \\\n",
       "conf.cell_type                                                                 \n",
       "GRU            count            103.0           103.000000        103.000000   \n",
       "               mean              10.0           191.004667          2.434621   \n",
       "               std                0.0           215.257620          2.627587   \n",
       "               min               10.0            12.673757          0.099575   \n",
       "               25%               10.0            58.182913          0.264926   \n",
       "               50%               10.0           104.588750          1.117313   \n",
       "               75%               10.0           214.200208          4.003555   \n",
       "               max               10.0          1117.586323          9.527024   \n",
       "LSTM           count             96.0            96.000000         96.000000   \n",
       "               mean              10.0           201.809657          1.593611   \n",
       "               std                0.0           245.351844          1.182453   \n",
       "               min               10.0            10.599116          0.118685   \n",
       "               25%               10.0            40.716751          0.366361   \n",
       "               50%               10.0           106.913763          1.857305   \n",
       "               75%               10.0           267.607995          2.633700   \n",
       "               max               10.0          1247.378381          3.885032   \n",
       "\n",
       "                      result.train_loss  result.val_loss  result.val_loss_th  \n",
       "conf.cell_type                                                                \n",
       "GRU            count         103.000000       103.000000        1.030000e+02  \n",
       "               mean            0.040431         2.434375        1.000000e-02  \n",
       "               std             0.025413         2.628010        1.743206e-18  \n",
       "               min             0.001781         0.100554        1.000000e-02  \n",
       "               25%             0.031737         0.261386        1.000000e-02  \n",
       "               50%             0.040962         1.117134        1.000000e-02  \n",
       "               75%             0.045962         4.011431        1.000000e-02  \n",
       "               max             0.159313         9.529328        1.000000e-02  \n",
       "LSTM           count          96.000000        96.000000        9.600000e+01  \n",
       "               mean            0.071423         1.593430        1.000000e-02  \n",
       "               std             0.056798         1.182916        1.743830e-18  \n",
       "               min             0.031778         0.118364        1.000000e-02  \n",
       "               25%             0.046166         0.365226        1.000000e-02  \n",
       "               50%             0.052971         1.858715        1.000000e-02  \n",
       "               75%             0.065495         2.637762        1.000000e-02  \n",
       "               max             0.339295         3.889423        1.000000e-02  "
      ]
     },
     "execution_count": 3,
     "metadata": {},
     "output_type": "execute_result"
    }
   ],
   "source": [
    "results.groupby('conf.cell_type').describe()"
   ]
  },
  {
   "cell_type": "markdown",
   "metadata": {
    "deletable": true,
    "editable": true
   },
   "source": [
    "## Embedding size"
   ]
  },
  {
   "cell_type": "code",
   "execution_count": 4,
   "metadata": {
    "collapsed": false,
    "deletable": true,
    "editable": true
   },
   "outputs": [
    {
     "data": {
      "text/plain": [
       "<matplotlib.axes._subplots.AxesSubplot at 0x7f78177f48d0>"
      ]
     },
     "execution_count": 4,
     "metadata": {},
     "output_type": "execute_result"
    },
    {
     "data": {
      "image/png": "[encoded data removed]",
      "text/plain": [
       "<matplotlib.figure.Figure at 0x7f7817839240>"
      ]
     },
     "metadata": {},
     "output_type": "display_data"
    }
   ],
   "source": [
    "results.groupby(['conf.embedding_size', 'conf.cell_type']).min().unstack(\n",
    "    'conf.cell_type').plot(y='result.test_loss', kind='bar', figsize=(14, 8))"
   ]
  },
  {
   "cell_type": "code",
   "execution_count": 5,
   "metadata": {
    "collapsed": false
   },
   "outputs": [
    {
     "data": {
      "text/plain": [
       "conf.embedding_size  conf.cell_type\n",
       "1.0                  GRU               2\n",
       "                     LSTM              2\n",
       "2.0                  GRU               6\n",
       "                     LSTM              2\n",
       "3.0                  GRU               4\n",
       "                     LSTM              2\n",
       "4.0                  GRU               4\n",
       "                     LSTM              5\n",
       "5.0                  GRU               3\n",
       "                     LSTM              5\n",
       "6.0                  GRU               2\n",
       "7.0                  GRU               4\n",
       "                     LSTM              6\n",
       "8.0                  GRU               2\n",
       "                     LSTM              2\n",
       "9.0                  GRU               3\n",
       "                     LSTM              3\n",
       "10.0                 GRU               2\n",
       "                     LSTM              7\n",
       "11.0                 GRU               5\n",
       "                     LSTM              5\n",
       "12.0                 GRU               5\n",
       "                     LSTM              5\n",
       "13.0                 GRU               3\n",
       "                     LSTM              4\n",
       "14.0                 GRU               2\n",
       "                     LSTM              1\n",
       "15.0                 GRU               2\n",
       "16.0                 GRU               6\n",
       "                     LSTM              4\n",
       "17.0                 GRU               5\n",
       "                     LSTM              2\n",
       "18.0                 GRU               1\n",
       "                     LSTM              4\n",
       "19.0                 GRU               5\n",
       "                     LSTM              4\n",
       "20.0                 GRU               2\n",
       "                     LSTM              2\n",
       "21.0                 GRU               5\n",
       "                     LSTM              1\n",
       "22.0                 GRU               6\n",
       "                     LSTM              2\n",
       "23.0                 GRU               6\n",
       "                     LSTM              1\n",
       "24.0                 GRU               3\n",
       "                     LSTM              3\n",
       "25.0                 GRU               1\n",
       "                     LSTM              4\n",
       "26.0                 GRU               2\n",
       "                     LSTM              1\n",
       "27.0                 GRU               3\n",
       "                     LSTM              7\n",
       "28.0                 GRU               4\n",
       "                     LSTM              4\n",
       "29.0                 GRU               5\n",
       "                     LSTM              8\n",
       "dtype: int64"
      ]
     },
     "execution_count": 5,
     "metadata": {},
     "output_type": "execute_result"
    }
   ],
   "source": [
    "results.groupby(['conf.embedding_size', 'conf.cell_type']).size()"
   ]
  },
  {
   "cell_type": "markdown",
   "metadata": {
    "deletable": true,
    "editable": true
   },
   "source": [
    "## Cell size\n",
    "\n",
    "Larger cell size than 512 seems to run out of memory."
   ]
  },
  {
   "cell_type": "code",
   "execution_count": 6,
   "metadata": {
    "collapsed": false,
    "deletable": true,
    "editable": true
   },
   "outputs": [
    {
     "data": {
      "text/plain": [
       "<matplotlib.axes._subplots.AxesSubplot at 0x7f781566a1d0>"
      ]
     },
     "execution_count": 6,
     "metadata": {},
     "output_type": "execute_result"
    },
    {
     "data": {
      "image/png": "[encoded data removed]",
      "text/plain": [
       "<matplotlib.figure.Figure at 0x7f78157c95c0>"
      ]
     },
     "metadata": {},
     "output_type": "display_data"
    }
   ],
   "source": [
    "results.groupby(['conf.cell_type', 'conf.cell_size']).min().unstack('conf.cell_type').plot(\n",
    "    y=['result.test_loss', 'result.val_loss'], kind='bar', figsize=(10, 7))"
   ]
  },
  {
   "cell_type": "markdown",
   "metadata": {
    "deletable": true,
    "editable": true
   },
   "source": [
    "## Epoch number\n",
    "\n",
    "Let's see how early stopping affects the number of epochs."
   ]
  },
  {
   "cell_type": "code",
   "execution_count": 7,
   "metadata": {
    "collapsed": false,
    "deletable": true,
    "editable": true
   },
   "outputs": [
    {
     "data": {
      "text/plain": [
       "<matplotlib.axes._subplots.AxesSubplot at 0x7f783e061748>"
      ]
     },
     "execution_count": 7,
     "metadata": {},
     "output_type": "execute_result"
    },
    {
     "data": {
      "image/png": "[encoded data removed]",
      "text/plain": [
       "<matplotlib.figure.Figure at 0x7f78152d3898>"
      ]
     },
     "metadata": {},
     "output_type": "display_data"
    }
   ],
   "source": [
    "results.groupby(['conf.cell_type', 'result.epochs_run']).min().unstack('conf.cell_type').plot(\n",
    "    y='result.test_loss', figsize=(10, 7))"
   ]
  },
  {
   "cell_type": "markdown",
   "metadata": {},
   "source": [
    "# Val loss vs. test loss"
   ]
  },
  {
   "cell_type": "code",
   "execution_count": 8,
   "metadata": {
    "collapsed": false
   },
   "outputs": [
    {
     "data": {
      "text/plain": [
       "count    199.000000\n",
       "mean      -0.000214\n",
       "std        0.006727\n",
       "min       -0.046844\n",
       "25%       -0.002127\n",
       "50%       -0.000247\n",
       "75%        0.000984\n",
       "max        0.033112\n",
       "Name: val_test_diff, dtype: float64"
      ]
     },
     "execution_count": 8,
     "metadata": {},
     "output_type": "execute_result"
    }
   ],
   "source": [
    "results['val_test_diff'] = results['result.val_loss'] - results['result.test_loss']\n",
    "results['val_test_diff'].describe()"
   ]
  },
  {
   "cell_type": "code",
   "execution_count": 9,
   "metadata": {
    "collapsed": false
   },
   "outputs": [
    {
     "data": {
      "text/plain": [
       "<matplotlib.axes._subplots.AxesSubplot at 0x7f783cf5e7b8>"
      ]
     },
     "execution_count": 9,
     "metadata": {},
     "output_type": "execute_result"
    },
    {
     "data": {
      "image/png": "[encoded data removed]",
      "text/plain": [
       "<matplotlib.figure.Figure at 0x7f781579d898>"
      ]
     },
     "metadata": {},
     "output_type": "display_data"
    }
   ],
   "source": [
    "results.plot(x='result.epochs_run', y='val_test_diff', kind='scatter')"
   ]
  }
 ],
 "metadata": {
  "kernelspec": {
   "display_name": "Python 3",
   "language": "python",
   "name": "python3"
  },
  "language_info": {
   "codemirror_mode": {
    "name": "ipython",
    "version": 3
   },
   "file_extension": ".py",
   "mimetype": "text/x-python",
   "name": "python",
   "nbconvert_exporter": "python",
   "pygments_lexer": "ipython3",
   "version": "3.4.2"
  }
 },
 "nbformat": 4,
 "nbformat_minor": 2
}
