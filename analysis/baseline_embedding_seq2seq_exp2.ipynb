{
 "cells": [
  {
   "cell_type": "markdown",
   "metadata": {
    "deletable": true,
    "editable": true
   },
   "source": [
    "# Vanilla embedding seq2seq experiment analysis, 2nd set of experiments\n",
    "\n",
    "[Git commit](https://github.com/juditacs/morph-segmentation-experiments/commit/1f58181d92286878db5823569ac19ec69b7b3792)\n",
    "## Experimental setup\n",
    "\n",
    "* dataset: Hungarian Webcorpus segmented using the output of HuNLP-Gate\n",
    "  * segmentation converted to standoff tagging using two tags: B (beginning morpheme), E (continuation of morpheme)\n",
    "* architecture: embedding seq2seq with a single LSTM/GRU layer\n",
    "* 200000 unique words-segmentation pairs were used\n",
    "* fixed parameters: `batch_size`=1000\n",
    "* early stopping: `validation split=0.1`, `patienc=10`, `val_loss_epsilon=1e-2`\n",
    "* varying parameters uniformly sampled from these ranges:\n",
    " \n",
    "| Parameter | Range |\n",
    "| --- | --- |\n",
    "| cell type | `['LSTM', 'GRU']` |\n",
    "| cell size | `[16, 32, 64, 128, 256, 512, 1024, 2048]` | \n",
    "| embedding size | `range(2, 30)` |\n",
    "\n",
    "### Misc\n",
    "\n",
    "* each output is prefixed with a GO symbol, but no END symbol is used (maybe I should have used one?)"
   ]
  },
  {
   "cell_type": "code",
   "execution_count": 15,
   "metadata": {
    "collapsed": false,
    "deletable": true,
    "editable": true
   },
   "outputs": [],
   "source": [
    "import pandas as pd\n",
    "import matplotlib\n",
    "\n",
    "%matplotlib inline\n",
    "matplotlib.style.use('ggplot')\n",
    "matplotlib.pyplot.rcParams['figure.figsize'] = (10, 7)\n",
    "matplotlib.pyplot.rcParams['font.family'] = 'sans-serif'"
   ]
  },
  {
   "cell_type": "code",
   "execution_count": 16,
   "metadata": {
    "collapsed": false,
    "deletable": true,
    "editable": true
   },
   "outputs": [
    {
     "data": {
      "text/html": [
       "<div>\n",
       "<table border=\"1\" class=\"dataframe\">\n",
       "  <thead>\n",
       "    <tr style=\"text-align: right;\">\n",
       "      <th></th>\n",
       "      <th>conf.cell_size</th>\n",
       "      <th>conf.cell_type</th>\n",
       "      <th>conf.embedding_size</th>\n",
       "      <th>data.dec_shape</th>\n",
       "      <th>data.enc_shape</th>\n",
       "      <th>data.label_counts</th>\n",
       "      <th>data.length_limit</th>\n",
       "      <th>data.test_dec_shape</th>\n",
       "      <th>data.test_enc_shape</th>\n",
       "      <th>data.train_dec_shape</th>\n",
       "      <th>data.train_enc_shape</th>\n",
       "      <th>data.val_dec_shape</th>\n",
       "      <th>data.val_enc_shape</th>\n",
       "      <th>result.epochs_run</th>\n",
       "      <th>result.patience</th>\n",
       "      <th>result.running_time</th>\n",
       "      <th>result.test_loss</th>\n",
       "      <th>result.train_loss</th>\n",
       "      <th>result.val_loss</th>\n",
       "      <th>result.val_loss_th</th>\n",
       "    </tr>\n",
       "  </thead>\n",
       "  <tbody>\n",
       "    <tr>\n",
       "      <th>1801</th>\n",
       "      <td>64.0</td>\n",
       "      <td>GRU</td>\n",
       "      <td>17.0</td>\n",
       "      <td>(200000, 11)</td>\n",
       "      <td>(200000, 10)</td>\n",
       "      <td>{'E': 1099937, 'B': 455775, 'GO': 200000, 'PAD...</td>\n",
       "      <td>10</td>\n",
       "      <td>(20109, 11)</td>\n",
       "      <td>(20109, 10)</td>\n",
       "      <td>(159979, 11)</td>\n",
       "      <td>(159979, 10)</td>\n",
       "      <td>(19912, 11)</td>\n",
       "      <td>(19912, 10)</td>\n",
       "      <td>125.0</td>\n",
       "      <td>10.0</td>\n",
       "      <td>8.463373</td>\n",
       "      <td>5.928728</td>\n",
       "      <td>0.002008</td>\n",
       "      <td>5.920024</td>\n",
       "      <td>0.01</td>\n",
       "    </tr>\n",
       "    <tr>\n",
       "      <th>1802</th>\n",
       "      <td>128.0</td>\n",
       "      <td>GRU</td>\n",
       "      <td>2.0</td>\n",
       "      <td>(200000, 11)</td>\n",
       "      <td>(200000, 10)</td>\n",
       "      <td>{'E': 1099937, 'B': 455775, 'GO': 200000, 'PAD...</td>\n",
       "      <td>10</td>\n",
       "      <td>(20109, 11)</td>\n",
       "      <td>(20109, 10)</td>\n",
       "      <td>(159979, 11)</td>\n",
       "      <td>(159979, 10)</td>\n",
       "      <td>(19912, 11)</td>\n",
       "      <td>(19912, 10)</td>\n",
       "      <td>117.0</td>\n",
       "      <td>10.0</td>\n",
       "      <td>11.140123</td>\n",
       "      <td>3.365416</td>\n",
       "      <td>0.002534</td>\n",
       "      <td>3.361622</td>\n",
       "      <td>0.01</td>\n",
       "    </tr>\n",
       "    <tr>\n",
       "      <th>1803</th>\n",
       "      <td>32.0</td>\n",
       "      <td>LSTM</td>\n",
       "      <td>20.0</td>\n",
       "      <td>(200000, 11)</td>\n",
       "      <td>(200000, 10)</td>\n",
       "      <td>{'E': 1099937, 'B': 455775, 'GO': 200000, 'PAD...</td>\n",
       "      <td>10</td>\n",
       "      <td>(20109, 11)</td>\n",
       "      <td>(20109, 10)</td>\n",
       "      <td>(159979, 11)</td>\n",
       "      <td>(159979, 10)</td>\n",
       "      <td>(19912, 11)</td>\n",
       "      <td>(19912, 10)</td>\n",
       "      <td>133.0</td>\n",
       "      <td>10.0</td>\n",
       "      <td>6.332430</td>\n",
       "      <td>4.810430</td>\n",
       "      <td>0.009308</td>\n",
       "      <td>4.800393</td>\n",
       "      <td>0.01</td>\n",
       "    </tr>\n",
       "    <tr>\n",
       "      <th>1804</th>\n",
       "      <td>32.0</td>\n",
       "      <td>LSTM</td>\n",
       "      <td>18.0</td>\n",
       "      <td>(200000, 11)</td>\n",
       "      <td>(200000, 10)</td>\n",
       "      <td>{'E': 1099937, 'B': 455775, 'GO': 200000, 'PAD...</td>\n",
       "      <td>10</td>\n",
       "      <td>(20109, 11)</td>\n",
       "      <td>(20109, 10)</td>\n",
       "      <td>(159979, 11)</td>\n",
       "      <td>(159979, 10)</td>\n",
       "      <td>(19912, 11)</td>\n",
       "      <td>(19912, 10)</td>\n",
       "      <td>91.0</td>\n",
       "      <td>10.0</td>\n",
       "      <td>4.421916</td>\n",
       "      <td>3.664111</td>\n",
       "      <td>0.015847</td>\n",
       "      <td>3.667831</td>\n",
       "      <td>0.01</td>\n",
       "    </tr>\n",
       "    <tr>\n",
       "      <th>1805</th>\n",
       "      <td>32.0</td>\n",
       "      <td>GRU</td>\n",
       "      <td>21.0</td>\n",
       "      <td>(200000, 11)</td>\n",
       "      <td>(200000, 10)</td>\n",
       "      <td>{'E': 1099937, 'B': 455775, 'GO': 200000, 'PAD...</td>\n",
       "      <td>10</td>\n",
       "      <td>(20109, 11)</td>\n",
       "      <td>(20109, 10)</td>\n",
       "      <td>(159979, 11)</td>\n",
       "      <td>(159979, 10)</td>\n",
       "      <td>(19912, 11)</td>\n",
       "      <td>(19912, 10)</td>\n",
       "      <td>110.0</td>\n",
       "      <td>10.0</td>\n",
       "      <td>5.878537</td>\n",
       "      <td>5.590149</td>\n",
       "      <td>0.003468</td>\n",
       "      <td>5.581711</td>\n",
       "      <td>0.01</td>\n",
       "    </tr>\n",
       "  </tbody>\n",
       "</table>\n",
       "</div>"
      ],
      "text/plain": [
       "      conf.cell_size conf.cell_type  conf.embedding_size data.dec_shape  \\\n",
       "1801            64.0            GRU                 17.0   (200000, 11)   \n",
       "1802           128.0            GRU                  2.0   (200000, 11)   \n",
       "1803            32.0           LSTM                 20.0   (200000, 11)   \n",
       "1804            32.0           LSTM                 18.0   (200000, 11)   \n",
       "1805            32.0            GRU                 21.0   (200000, 11)   \n",
       "\n",
       "     data.enc_shape                                  data.label_counts  \\\n",
       "1801   (200000, 10)  {'E': 1099937, 'B': 455775, 'GO': 200000, 'PAD...   \n",
       "1802   (200000, 10)  {'E': 1099937, 'B': 455775, 'GO': 200000, 'PAD...   \n",
       "1803   (200000, 10)  {'E': 1099937, 'B': 455775, 'GO': 200000, 'PAD...   \n",
       "1804   (200000, 10)  {'E': 1099937, 'B': 455775, 'GO': 200000, 'PAD...   \n",
       "1805   (200000, 10)  {'E': 1099937, 'B': 455775, 'GO': 200000, 'PAD...   \n",
       "\n",
       "      data.length_limit data.test_dec_shape data.test_enc_shape  \\\n",
       "1801                 10         (20109, 11)         (20109, 10)   \n",
       "1802                 10         (20109, 11)         (20109, 10)   \n",
       "1803                 10         (20109, 11)         (20109, 10)   \n",
       "1804                 10         (20109, 11)         (20109, 10)   \n",
       "1805                 10         (20109, 11)         (20109, 10)   \n",
       "\n",
       "     data.train_dec_shape data.train_enc_shape data.val_dec_shape  \\\n",
       "1801         (159979, 11)         (159979, 10)        (19912, 11)   \n",
       "1802         (159979, 11)         (159979, 10)        (19912, 11)   \n",
       "1803         (159979, 11)         (159979, 10)        (19912, 11)   \n",
       "1804         (159979, 11)         (159979, 10)        (19912, 11)   \n",
       "1805         (159979, 11)         (159979, 10)        (19912, 11)   \n",
       "\n",
       "     data.val_enc_shape  result.epochs_run  result.patience  \\\n",
       "1801        (19912, 10)              125.0             10.0   \n",
       "1802        (19912, 10)              117.0             10.0   \n",
       "1803        (19912, 10)              133.0             10.0   \n",
       "1804        (19912, 10)               91.0             10.0   \n",
       "1805        (19912, 10)              110.0             10.0   \n",
       "\n",
       "      result.running_time  result.test_loss  result.train_loss  \\\n",
       "1801             8.463373          5.928728           0.002008   \n",
       "1802            11.140123          3.365416           0.002534   \n",
       "1803             6.332430          4.810430           0.009308   \n",
       "1804             4.421916          3.664111           0.015847   \n",
       "1805             5.878537          5.590149           0.003468   \n",
       "\n",
       "      result.val_loss  result.val_loss_th  \n",
       "1801         5.920024                0.01  \n",
       "1802         3.361622                0.01  \n",
       "1803         4.800393                0.01  \n",
       "1804         3.667831                0.01  \n",
       "1805         5.581711                0.01  "
      ]
     },
     "execution_count": 16,
     "metadata": {},
     "output_type": "execute_result"
    }
   ],
   "source": [
    "results = pd.read_table('../results/webcorp.tagset_BE.layer_1.sample_200000_exp2.tsv')\n",
    "results.tail()"
   ]
  },
  {
   "cell_type": "code",
   "execution_count": 17,
   "metadata": {
    "collapsed": false,
    "deletable": true,
    "editable": true
   },
   "outputs": [
    {
     "data": {
      "text/plain": [
       "<matplotlib.axes._subplots.AxesSubplot at 0x7ff8b973aeb8>"
      ]
     },
     "execution_count": 17,
     "metadata": {},
     "output_type": "execute_result"
    },
    {
     "data": {
      "image/png": "[encoded data removed]",
      "text/plain": [
       "<matplotlib.figure.Figure at 0x7ff8d4ec6d30>"
      ]
     },
     "metadata": {},
     "output_type": "display_data"
    }
   ],
   "source": [
    "#results['result.running_time'].hist()\n",
    "results.plot(x='conf.embedding_size', y='result.running_time', kind='scatter')"
   ]
  },
  {
   "cell_type": "markdown",
   "metadata": {
    "deletable": true,
    "editable": true
   },
   "source": [
    "# Best config (lowest test loss)"
   ]
  },
  {
   "cell_type": "code",
   "execution_count": 18,
   "metadata": {
    "collapsed": false,
    "deletable": true,
    "editable": true
   },
   "outputs": [
    {
     "data": {
      "text/plain": [
       "conf.cell_size                                                        512\n",
       "conf.cell_type                                                        GRU\n",
       "conf.embedding_size                                                    16\n",
       "data.dec_shape                                              (200000, 118)\n",
       "data.enc_shape                                              (200000, 117)\n",
       "data.label_counts       {'B': 557404, 'E': 1488310, 'PAD': 21354286, '...\n",
       "data.length_limit                                                       0\n",
       "data.test_dec_shape                                          (20030, 118)\n",
       "data.test_enc_shape                                          (20030, 117)\n",
       "data.train_dec_shape                                        (159819, 118)\n",
       "data.train_enc_shape                                        (159819, 117)\n",
       "data.val_dec_shape                                           (20151, 118)\n",
       "data.val_enc_shape                                           (20151, 117)\n",
       "result.epochs_run                                                      42\n",
       "result.patience                                                        10\n",
       "result.running_time                                               234.054\n",
       "result.test_loss                                                0.0995755\n",
       "result.train_loss                                               0.0599396\n",
       "result.val_loss                                                  0.100554\n",
       "result.val_loss_th                                                   0.01\n",
       "Name: 125, dtype: object"
      ]
     },
     "execution_count": 18,
     "metadata": {},
     "output_type": "execute_result"
    }
   ],
   "source": [
    "results.loc[results['result.test_loss'].argmin()]"
   ]
  },
  {
   "cell_type": "markdown",
   "metadata": {
    "deletable": true,
    "editable": true
   },
   "source": [
    "## Limiting the length of input and output sequences"
   ]
  },
  {
   "cell_type": "code",
   "execution_count": 19,
   "metadata": {
    "collapsed": false,
    "deletable": true,
    "editable": true
   },
   "outputs": [
    {
     "data": {
      "text/plain": [
       "conf.cell_size                                                        256\n",
       "conf.cell_type                                                        GRU\n",
       "conf.embedding_size                                                     1\n",
       "data.dec_shape                                               (200000, 16)\n",
       "data.enc_shape                                               (200000, 15)\n",
       "data.label_counts       {'PAD': 1075393, 'E': 1390571, 'B': 534036, 'G...\n",
       "data.length_limit                                                      15\n",
       "data.test_dec_shape                                           (19870, 16)\n",
       "data.test_enc_shape                                           (19870, 15)\n",
       "data.train_dec_shape                                         (160405, 16)\n",
       "data.train_enc_shape                                         (160405, 15)\n",
       "data.val_dec_shape                                            (19725, 16)\n",
       "data.val_enc_shape                                            (19725, 15)\n",
       "result.epochs_run                                                      53\n",
       "result.patience                                                        10\n",
       "result.running_time                                                15.813\n",
       "result.test_loss                                                 0.412263\n",
       "result.train_loss                                                0.404232\n",
       "result.val_loss                                                  0.409734\n",
       "result.val_loss_th                                                   0.01\n",
       "Name: 538, dtype: object"
      ]
     },
     "execution_count": 19,
     "metadata": {},
     "output_type": "execute_result"
    }
   ],
   "source": [
    "results.loc[results[results['data.length_limit'] > 0]['result.test_loss'].argmin()]"
   ]
  },
  {
   "cell_type": "code",
   "execution_count": 20,
   "metadata": {
    "collapsed": false,
    "deletable": true,
    "editable": true
   },
   "outputs": [
    {
     "data": {
      "text/html": [
       "<div>\n",
       "<table border=\"1\" class=\"dataframe\">\n",
       "  <thead>\n",
       "    <tr style=\"text-align: right;\">\n",
       "      <th></th>\n",
       "      <th>conf.cell_size</th>\n",
       "      <th>conf.cell_type</th>\n",
       "      <th>conf.embedding_size</th>\n",
       "      <th>data.dec_shape</th>\n",
       "      <th>data.enc_shape</th>\n",
       "      <th>data.label_counts</th>\n",
       "      <th>data.length_limit</th>\n",
       "      <th>data.test_dec_shape</th>\n",
       "      <th>data.test_enc_shape</th>\n",
       "      <th>data.train_dec_shape</th>\n",
       "      <th>data.train_enc_shape</th>\n",
       "      <th>data.val_dec_shape</th>\n",
       "      <th>data.val_enc_shape</th>\n",
       "      <th>result.epochs_run</th>\n",
       "      <th>result.patience</th>\n",
       "      <th>result.running_time</th>\n",
       "      <th>result.test_loss</th>\n",
       "      <th>result.train_loss</th>\n",
       "      <th>result.val_loss</th>\n",
       "      <th>result.val_loss_th</th>\n",
       "    </tr>\n",
       "  </thead>\n",
       "  <tbody>\n",
       "    <tr>\n",
       "      <th>125</th>\n",
       "      <td>512.0</td>\n",
       "      <td>GRU</td>\n",
       "      <td>16.0</td>\n",
       "      <td>(200000, 118)</td>\n",
       "      <td>(200000, 117)</td>\n",
       "      <td>{'B': 557404, 'E': 1488310, 'PAD': 21354286, '...</td>\n",
       "      <td>0</td>\n",
       "      <td>(20030, 118)</td>\n",
       "      <td>(20030, 117)</td>\n",
       "      <td>(159819, 118)</td>\n",
       "      <td>(159819, 117)</td>\n",
       "      <td>(20151, 118)</td>\n",
       "      <td>(20151, 117)</td>\n",
       "      <td>42.0</td>\n",
       "      <td>10.0</td>\n",
       "      <td>234.054403</td>\n",
       "      <td>0.099575</td>\n",
       "      <td>0.059940</td>\n",
       "      <td>0.100554</td>\n",
       "      <td>0.01</td>\n",
       "    </tr>\n",
       "    <tr>\n",
       "      <th>1766</th>\n",
       "      <td>16.0</td>\n",
       "      <td>GRU</td>\n",
       "      <td>1.0</td>\n",
       "      <td>(200000, 11)</td>\n",
       "      <td>(200000, 10)</td>\n",
       "      <td>{'E': 1099937, 'B': 455775, 'GO': 200000, 'PAD...</td>\n",
       "      <td>10</td>\n",
       "      <td>(20109, 11)</td>\n",
       "      <td>(20109, 10)</td>\n",
       "      <td>(159979, 11)</td>\n",
       "      <td>(159979, 10)</td>\n",
       "      <td>(19912, 11)</td>\n",
       "      <td>(19912, 10)</td>\n",
       "      <td>28.0</td>\n",
       "      <td>10.0</td>\n",
       "      <td>1.117940</td>\n",
       "      <td>0.851627</td>\n",
       "      <td>0.838258</td>\n",
       "      <td>0.851686</td>\n",
       "      <td>0.01</td>\n",
       "    </tr>\n",
       "    <tr>\n",
       "      <th>538</th>\n",
       "      <td>256.0</td>\n",
       "      <td>GRU</td>\n",
       "      <td>1.0</td>\n",
       "      <td>(200000, 16)</td>\n",
       "      <td>(200000, 15)</td>\n",
       "      <td>{'PAD': 1075393, 'E': 1390571, 'B': 534036, 'G...</td>\n",
       "      <td>15</td>\n",
       "      <td>(19870, 16)</td>\n",
       "      <td>(19870, 15)</td>\n",
       "      <td>(160405, 16)</td>\n",
       "      <td>(160405, 15)</td>\n",
       "      <td>(19725, 16)</td>\n",
       "      <td>(19725, 15)</td>\n",
       "      <td>53.0</td>\n",
       "      <td>10.0</td>\n",
       "      <td>15.812958</td>\n",
       "      <td>0.412263</td>\n",
       "      <td>0.404232</td>\n",
       "      <td>0.409734</td>\n",
       "      <td>0.01</td>\n",
       "    </tr>\n",
       "    <tr>\n",
       "      <th>1196</th>\n",
       "      <td>64.0</td>\n",
       "      <td>LSTM</td>\n",
       "      <td>1.0</td>\n",
       "      <td>(200000, 26)</td>\n",
       "      <td>(200000, 25)</td>\n",
       "      <td>{'GO': 200000, 'E': 1485572, 'B': 556825, 'PAD...</td>\n",
       "      <td>25</td>\n",
       "      <td>(20098, 26)</td>\n",
       "      <td>(20098, 25)</td>\n",
       "      <td>(159858, 26)</td>\n",
       "      <td>(159858, 25)</td>\n",
       "      <td>(20044, 26)</td>\n",
       "      <td>(20044, 25)</td>\n",
       "      <td>35.0</td>\n",
       "      <td>10.0</td>\n",
       "      <td>5.951293</td>\n",
       "      <td>0.455391</td>\n",
       "      <td>0.456617</td>\n",
       "      <td>0.458025</td>\n",
       "      <td>0.01</td>\n",
       "    </tr>\n",
       "  </tbody>\n",
       "</table>\n",
       "</div>"
      ],
      "text/plain": [
       "      conf.cell_size conf.cell_type  conf.embedding_size data.dec_shape  \\\n",
       "125            512.0            GRU                 16.0  (200000, 118)   \n",
       "1766            16.0            GRU                  1.0   (200000, 11)   \n",
       "538            256.0            GRU                  1.0   (200000, 16)   \n",
       "1196            64.0           LSTM                  1.0   (200000, 26)   \n",
       "\n",
       "     data.enc_shape                                  data.label_counts  \\\n",
       "125   (200000, 117)  {'B': 557404, 'E': 1488310, 'PAD': 21354286, '...   \n",
       "1766   (200000, 10)  {'E': 1099937, 'B': 455775, 'GO': 200000, 'PAD...   \n",
       "538    (200000, 15)  {'PAD': 1075393, 'E': 1390571, 'B': 534036, 'G...   \n",
       "1196   (200000, 25)  {'GO': 200000, 'E': 1485572, 'B': 556825, 'PAD...   \n",
       "\n",
       "      data.length_limit data.test_dec_shape data.test_enc_shape  \\\n",
       "125                   0        (20030, 118)        (20030, 117)   \n",
       "1766                 10         (20109, 11)         (20109, 10)   \n",
       "538                  15         (19870, 16)         (19870, 15)   \n",
       "1196                 25         (20098, 26)         (20098, 25)   \n",
       "\n",
       "     data.train_dec_shape data.train_enc_shape data.val_dec_shape  \\\n",
       "125         (159819, 118)        (159819, 117)       (20151, 118)   \n",
       "1766         (159979, 11)         (159979, 10)        (19912, 11)   \n",
       "538          (160405, 16)         (160405, 15)        (19725, 16)   \n",
       "1196         (159858, 26)         (159858, 25)        (20044, 26)   \n",
       "\n",
       "     data.val_enc_shape  result.epochs_run  result.patience  \\\n",
       "125        (20151, 117)               42.0             10.0   \n",
       "1766        (19912, 10)               28.0             10.0   \n",
       "538         (19725, 15)               53.0             10.0   \n",
       "1196        (20044, 25)               35.0             10.0   \n",
       "\n",
       "      result.running_time  result.test_loss  result.train_loss  \\\n",
       "125            234.054403          0.099575           0.059940   \n",
       "1766             1.117940          0.851627           0.838258   \n",
       "538             15.812958          0.412263           0.404232   \n",
       "1196             5.951293          0.455391           0.456617   \n",
       "\n",
       "      result.val_loss  result.val_loss_th  \n",
       "125          0.100554                0.01  \n",
       "1766         0.851686                0.01  \n",
       "538          0.409734                0.01  \n",
       "1196         0.458025                0.01  "
      ]
     },
     "execution_count": 20,
     "metadata": {},
     "output_type": "execute_result"
    }
   ],
   "source": [
    "results.loc[results.groupby('data.length_limit')['result.test_loss'].idxmin()]"
   ]
  },
  {
   "cell_type": "code",
   "execution_count": 21,
   "metadata": {
    "collapsed": false,
    "deletable": true,
    "editable": true
   },
   "outputs": [
    {
     "data": {
      "text/plain": [
       "data.length_limit\n",
       "0     207\n",
       "10     88\n",
       "15    696\n",
       "25    815\n",
       "dtype: int64"
      ]
     },
     "execution_count": 21,
     "metadata": {},
     "output_type": "execute_result"
    }
   ],
   "source": [
    "results.groupby('data.length_limit').size()"
   ]
  },
  {
   "cell_type": "markdown",
   "metadata": {
    "deletable": true,
    "editable": true
   },
   "source": [
    "## Cell type\n",
    "\n",
    "it does not seem to matter very much"
   ]
  },
  {
   "cell_type": "code",
   "execution_count": 22,
   "metadata": {
    "collapsed": false,
    "deletable": true,
    "editable": true
   },
   "outputs": [
    {
     "data": {
      "text/html": [
       "<div>\n",
       "<table border=\"1\" class=\"dataframe\">\n",
       "  <thead>\n",
       "    <tr style=\"text-align: right;\">\n",
       "      <th></th>\n",
       "      <th></th>\n",
       "      <th>conf.cell_size</th>\n",
       "      <th>conf.embedding_size</th>\n",
       "      <th>data.length_limit</th>\n",
       "      <th>result.epochs_run</th>\n",
       "      <th>result.patience</th>\n",
       "      <th>result.running_time</th>\n",
       "      <th>result.test_loss</th>\n",
       "      <th>result.train_loss</th>\n",
       "      <th>result.val_loss</th>\n",
       "      <th>result.val_loss_th</th>\n",
       "    </tr>\n",
       "    <tr>\n",
       "      <th>conf.cell_type</th>\n",
       "      <th></th>\n",
       "      <th></th>\n",
       "      <th></th>\n",
       "      <th></th>\n",
       "      <th></th>\n",
       "      <th></th>\n",
       "      <th></th>\n",
       "      <th></th>\n",
       "      <th></th>\n",
       "      <th></th>\n",
       "      <th></th>\n",
       "    </tr>\n",
       "  </thead>\n",
       "  <tbody>\n",
       "    <tr>\n",
       "      <th rowspan=\"8\" valign=\"top\">GRU</th>\n",
       "      <th>count</th>\n",
       "      <td>893.000000</td>\n",
       "      <td>893.000000</td>\n",
       "      <td>893.000000</td>\n",
       "      <td>893.000000</td>\n",
       "      <td>893.0</td>\n",
       "      <td>893.000000</td>\n",
       "      <td>893.000000</td>\n",
       "      <td>893.000000</td>\n",
       "      <td>893.000000</td>\n",
       "      <td>8.930000e+02</td>\n",
       "    </tr>\n",
       "    <tr>\n",
       "      <th>mean</th>\n",
       "      <td>150.898096</td>\n",
       "      <td>14.930571</td>\n",
       "      <td>17.368421</td>\n",
       "      <td>129.374020</td>\n",
       "      <td>10.0</td>\n",
       "      <td>55.667701</td>\n",
       "      <td>4.189873</td>\n",
       "      <td>0.017848</td>\n",
       "      <td>4.190781</td>\n",
       "      <td>1.000000e-02</td>\n",
       "    </tr>\n",
       "    <tr>\n",
       "      <th>std</th>\n",
       "      <td>165.494028</td>\n",
       "      <td>8.396942</td>\n",
       "      <td>8.161472</td>\n",
       "      <td>42.854366</td>\n",
       "      <td>0.0</td>\n",
       "      <td>99.060463</td>\n",
       "      <td>1.669567</td>\n",
       "      <td>0.070592</td>\n",
       "      <td>1.669044</td>\n",
       "      <td>0.000000e+00</td>\n",
       "    </tr>\n",
       "    <tr>\n",
       "      <th>min</th>\n",
       "      <td>16.000000</td>\n",
       "      <td>1.000000</td>\n",
       "      <td>0.000000</td>\n",
       "      <td>17.000000</td>\n",
       "      <td>10.0</td>\n",
       "      <td>1.047810</td>\n",
       "      <td>0.099575</td>\n",
       "      <td>0.001121</td>\n",
       "      <td>0.100554</td>\n",
       "      <td>1.000000e-02</td>\n",
       "    </tr>\n",
       "    <tr>\n",
       "      <th>25%</th>\n",
       "      <td>32.000000</td>\n",
       "      <td>8.000000</td>\n",
       "      <td>15.000000</td>\n",
       "      <td>104.000000</td>\n",
       "      <td>10.0</td>\n",
       "      <td>11.344814</td>\n",
       "      <td>3.474796</td>\n",
       "      <td>0.002626</td>\n",
       "      <td>3.472355</td>\n",
       "      <td>1.000000e-02</td>\n",
       "    </tr>\n",
       "    <tr>\n",
       "      <th>50%</th>\n",
       "      <td>64.000000</td>\n",
       "      <td>15.000000</td>\n",
       "      <td>15.000000</td>\n",
       "      <td>124.000000</td>\n",
       "      <td>10.0</td>\n",
       "      <td>21.233293</td>\n",
       "      <td>4.381539</td>\n",
       "      <td>0.003806</td>\n",
       "      <td>4.385377</td>\n",
       "      <td>1.000000e-02</td>\n",
       "    </tr>\n",
       "    <tr>\n",
       "      <th>75%</th>\n",
       "      <td>256.000000</td>\n",
       "      <td>22.000000</td>\n",
       "      <td>25.000000</td>\n",
       "      <td>148.000000</td>\n",
       "      <td>10.0</td>\n",
       "      <td>59.488672</td>\n",
       "      <td>5.174995</td>\n",
       "      <td>0.006471</td>\n",
       "      <td>5.178844</td>\n",
       "      <td>1.000000e-02</td>\n",
       "    </tr>\n",
       "    <tr>\n",
       "      <th>max</th>\n",
       "      <td>512.000000</td>\n",
       "      <td>29.000000</td>\n",
       "      <td>25.000000</td>\n",
       "      <td>372.000000</td>\n",
       "      <td>10.0</td>\n",
       "      <td>1117.586323</td>\n",
       "      <td>11.529238</td>\n",
       "      <td>0.995807</td>\n",
       "      <td>11.522448</td>\n",
       "      <td>1.000000e-02</td>\n",
       "    </tr>\n",
       "    <tr>\n",
       "      <th rowspan=\"8\" valign=\"top\">LSTM</th>\n",
       "      <th>count</th>\n",
       "      <td>913.000000</td>\n",
       "      <td>913.000000</td>\n",
       "      <td>913.000000</td>\n",
       "      <td>913.000000</td>\n",
       "      <td>913.0</td>\n",
       "      <td>913.000000</td>\n",
       "      <td>913.000000</td>\n",
       "      <td>913.000000</td>\n",
       "      <td>913.000000</td>\n",
       "      <td>9.130000e+02</td>\n",
       "    </tr>\n",
       "    <tr>\n",
       "      <th>mean</th>\n",
       "      <td>171.338445</td>\n",
       "      <td>14.733844</td>\n",
       "      <td>17.727273</td>\n",
       "      <td>140.304491</td>\n",
       "      <td>10.0</td>\n",
       "      <td>74.923858</td>\n",
       "      <td>3.984506</td>\n",
       "      <td>0.043467</td>\n",
       "      <td>3.985318</td>\n",
       "      <td>1.000000e-02</td>\n",
       "    </tr>\n",
       "    <tr>\n",
       "      <th>std</th>\n",
       "      <td>175.748226</td>\n",
       "      <td>8.251151</td>\n",
       "      <td>8.047222</td>\n",
       "      <td>53.498948</td>\n",
       "      <td>0.0</td>\n",
       "      <td>119.103936</td>\n",
       "      <td>1.516685</td>\n",
       "      <td>0.115941</td>\n",
       "      <td>1.516299</td>\n",
       "      <td>1.735674e-18</td>\n",
       "    </tr>\n",
       "    <tr>\n",
       "      <th>min</th>\n",
       "      <td>16.000000</td>\n",
       "      <td>1.000000</td>\n",
       "      <td>0.000000</td>\n",
       "      <td>16.000000</td>\n",
       "      <td>10.0</td>\n",
       "      <td>0.908107</td>\n",
       "      <td>0.118685</td>\n",
       "      <td>0.001123</td>\n",
       "      <td>0.118364</td>\n",
       "      <td>1.000000e-02</td>\n",
       "    </tr>\n",
       "    <tr>\n",
       "      <th>25%</th>\n",
       "      <td>32.000000</td>\n",
       "      <td>8.000000</td>\n",
       "      <td>15.000000</td>\n",
       "      <td>108.000000</td>\n",
       "      <td>10.0</td>\n",
       "      <td>14.803573</td>\n",
       "      <td>3.115197</td>\n",
       "      <td>0.006268</td>\n",
       "      <td>3.134054</td>\n",
       "      <td>1.000000e-02</td>\n",
       "    </tr>\n",
       "    <tr>\n",
       "      <th>50%</th>\n",
       "      <td>128.000000</td>\n",
       "      <td>15.000000</td>\n",
       "      <td>15.000000</td>\n",
       "      <td>145.000000</td>\n",
       "      <td>10.0</td>\n",
       "      <td>26.197130</td>\n",
       "      <td>4.513257</td>\n",
       "      <td>0.008403</td>\n",
       "      <td>4.513420</td>\n",
       "      <td>1.000000e-02</td>\n",
       "    </tr>\n",
       "    <tr>\n",
       "      <th>75%</th>\n",
       "      <td>256.000000</td>\n",
       "      <td>22.000000</td>\n",
       "      <td>25.000000</td>\n",
       "      <td>173.000000</td>\n",
       "      <td>10.0</td>\n",
       "      <td>97.213772</td>\n",
       "      <td>4.984180</td>\n",
       "      <td>0.028000</td>\n",
       "      <td>4.982898</td>\n",
       "      <td>1.000000e-02</td>\n",
       "    </tr>\n",
       "    <tr>\n",
       "      <th>max</th>\n",
       "      <td>512.000000</td>\n",
       "      <td>29.000000</td>\n",
       "      <td>25.000000</td>\n",
       "      <td>486.000000</td>\n",
       "      <td>10.0</td>\n",
       "      <td>1247.378381</td>\n",
       "      <td>9.898086</td>\n",
       "      <td>0.872990</td>\n",
       "      <td>9.809223</td>\n",
       "      <td>1.000000e-02</td>\n",
       "    </tr>\n",
       "  </tbody>\n",
       "</table>\n",
       "</div>"
      ],
      "text/plain": [
       "                      conf.cell_size  conf.embedding_size  data.length_limit  \\\n",
       "conf.cell_type                                                                 \n",
       "GRU            count      893.000000           893.000000         893.000000   \n",
       "               mean       150.898096            14.930571          17.368421   \n",
       "               std        165.494028             8.396942           8.161472   \n",
       "               min         16.000000             1.000000           0.000000   \n",
       "               25%         32.000000             8.000000          15.000000   \n",
       "               50%         64.000000            15.000000          15.000000   \n",
       "               75%        256.000000            22.000000          25.000000   \n",
       "               max        512.000000            29.000000          25.000000   \n",
       "LSTM           count      913.000000           913.000000         913.000000   \n",
       "               mean       171.338445            14.733844          17.727273   \n",
       "               std        175.748226             8.251151           8.047222   \n",
       "               min         16.000000             1.000000           0.000000   \n",
       "               25%         32.000000             8.000000          15.000000   \n",
       "               50%        128.000000            15.000000          15.000000   \n",
       "               75%        256.000000            22.000000          25.000000   \n",
       "               max        512.000000            29.000000          25.000000   \n",
       "\n",
       "                      result.epochs_run  result.patience  result.running_time  \\\n",
       "conf.cell_type                                                                  \n",
       "GRU            count         893.000000            893.0           893.000000   \n",
       "               mean          129.374020             10.0            55.667701   \n",
       "               std            42.854366              0.0            99.060463   \n",
       "               min            17.000000             10.0             1.047810   \n",
       "               25%           104.000000             10.0            11.344814   \n",
       "               50%           124.000000             10.0            21.233293   \n",
       "               75%           148.000000             10.0            59.488672   \n",
       "               max           372.000000             10.0          1117.586323   \n",
       "LSTM           count         913.000000            913.0           913.000000   \n",
       "               mean          140.304491             10.0            74.923858   \n",
       "               std            53.498948              0.0           119.103936   \n",
       "               min            16.000000             10.0             0.908107   \n",
       "               25%           108.000000             10.0            14.803573   \n",
       "               50%           145.000000             10.0            26.197130   \n",
       "               75%           173.000000             10.0            97.213772   \n",
       "               max           486.000000             10.0          1247.378381   \n",
       "\n",
       "                      result.test_loss  result.train_loss  result.val_loss  \\\n",
       "conf.cell_type                                                               \n",
       "GRU            count        893.000000         893.000000       893.000000   \n",
       "               mean           4.189873           0.017848         4.190781   \n",
       "               std            1.669567           0.070592         1.669044   \n",
       "               min            0.099575           0.001121         0.100554   \n",
       "               25%            3.474796           0.002626         3.472355   \n",
       "               50%            4.381539           0.003806         4.385377   \n",
       "               75%            5.174995           0.006471         5.178844   \n",
       "               max           11.529238           0.995807        11.522448   \n",
       "LSTM           count        913.000000         913.000000       913.000000   \n",
       "               mean           3.984506           0.043467         3.985318   \n",
       "               std            1.516685           0.115941         1.516299   \n",
       "               min            0.118685           0.001123         0.118364   \n",
       "               25%            3.115197           0.006268         3.134054   \n",
       "               50%            4.513257           0.008403         4.513420   \n",
       "               75%            4.984180           0.028000         4.982898   \n",
       "               max            9.898086           0.872990         9.809223   \n",
       "\n",
       "                      result.val_loss_th  \n",
       "conf.cell_type                            \n",
       "GRU            count        8.930000e+02  \n",
       "               mean         1.000000e-02  \n",
       "               std          0.000000e+00  \n",
       "               min          1.000000e-02  \n",
       "               25%          1.000000e-02  \n",
       "               50%          1.000000e-02  \n",
       "               75%          1.000000e-02  \n",
       "               max          1.000000e-02  \n",
       "LSTM           count        9.130000e+02  \n",
       "               mean         1.000000e-02  \n",
       "               std          1.735674e-18  \n",
       "               min          1.000000e-02  \n",
       "               25%          1.000000e-02  \n",
       "               50%          1.000000e-02  \n",
       "               75%          1.000000e-02  \n",
       "               max          1.000000e-02  "
      ]
     },
     "execution_count": 22,
     "metadata": {},
     "output_type": "execute_result"
    }
   ],
   "source": [
    "results.groupby('conf.cell_type').describe()"
   ]
  },
  {
   "cell_type": "markdown",
   "metadata": {
    "deletable": true,
    "editable": true
   },
   "source": [
    "## Embedding size"
   ]
  },
  {
   "cell_type": "code",
   "execution_count": 23,
   "metadata": {
    "collapsed": false,
    "deletable": true,
    "editable": true
   },
   "outputs": [
    {
     "data": {
      "text/plain": [
       "<matplotlib.axes._subplots.AxesSubplot at 0x7ff8b9879898>"
      ]
     },
     "execution_count": 23,
     "metadata": {},
     "output_type": "execute_result"
    },
    {
     "data": {
      "image/png": "[encoded data removed]",
      "text/plain": [
       "<matplotlib.figure.Figure at 0x7ff8b841b4a8>"
      ]
     },
     "metadata": {},
     "output_type": "display_data"
    }
   ],
   "source": [
    "results.groupby(['conf.embedding_size', 'conf.cell_type']).min().unstack(\n",
    "    'conf.cell_type').plot(y='result.test_loss', kind='bar', figsize=(14, 8))"
   ]
  },
  {
   "cell_type": "code",
   "execution_count": 24,
   "metadata": {
    "collapsed": false,
    "deletable": true,
    "editable": true
   },
   "outputs": [
    {
     "data": {
      "text/plain": [
       "conf.embedding_size  conf.cell_type\n",
       "1.0                  GRU               35\n",
       "                     LSTM              27\n",
       "2.0                  GRU               37\n",
       "                     LSTM              29\n",
       "3.0                  GRU               30\n",
       "                     LSTM              35\n",
       "4.0                  GRU               27\n",
       "                     LSTM              37\n",
       "5.0                  GRU               34\n",
       "                     LSTM              30\n",
       "6.0                  GRU               22\n",
       "                     LSTM              31\n",
       "7.0                  GRU               28\n",
       "                     LSTM              36\n",
       "8.0                  GRU               24\n",
       "                     LSTM              32\n",
       "9.0                  GRU               32\n",
       "                     LSTM              22\n",
       "10.0                 GRU               33\n",
       "                     LSTM              49\n",
       "11.0                 GRU               39\n",
       "                     LSTM              36\n",
       "12.0                 GRU               31\n",
       "                     LSTM              38\n",
       "13.0                 GRU               35\n",
       "                     LSTM              28\n",
       "14.0                 GRU               31\n",
       "                     LSTM              23\n",
       "15.0                 GRU               26\n",
       "                     LSTM              32\n",
       "16.0                 GRU               31\n",
       "                     LSTM              26\n",
       "17.0                 GRU               32\n",
       "                     LSTM              34\n",
       "18.0                 GRU               28\n",
       "                     LSTM              43\n",
       "19.0                 GRU               29\n",
       "                     LSTM              36\n",
       "20.0                 GRU               36\n",
       "                     LSTM              27\n",
       "21.0                 GRU               32\n",
       "                     LSTM              15\n",
       "22.0                 GRU               34\n",
       "                     LSTM              33\n",
       "23.0                 GRU               30\n",
       "                     LSTM              36\n",
       "24.0                 GRU               28\n",
       "                     LSTM              31\n",
       "25.0                 GRU               26\n",
       "                     LSTM              32\n",
       "26.0                 GRU               36\n",
       "                     LSTM              27\n",
       "27.0                 GRU               22\n",
       "                     LSTM              35\n",
       "28.0                 GRU               24\n",
       "                     LSTM              25\n",
       "29.0                 GRU               41\n",
       "                     LSTM              28\n",
       "dtype: int64"
      ]
     },
     "execution_count": 24,
     "metadata": {},
     "output_type": "execute_result"
    }
   ],
   "source": [
    "results.groupby(['conf.embedding_size', 'conf.cell_type']).size()"
   ]
  },
  {
   "cell_type": "markdown",
   "metadata": {
    "deletable": true,
    "editable": true
   },
   "source": [
    "## Cell size\n",
    "\n",
    "Larger cell size than 512 seems to run out of memory."
   ]
  },
  {
   "cell_type": "code",
   "execution_count": 25,
   "metadata": {
    "collapsed": false,
    "deletable": true,
    "editable": true
   },
   "outputs": [
    {
     "data": {
      "text/plain": [
       "<matplotlib.axes._subplots.AxesSubplot at 0x7ff8b84180f0>"
      ]
     },
     "execution_count": 25,
     "metadata": {},
     "output_type": "execute_result"
    },
    {
     "data": {
      "image/png": "[encoded data removed]",
      "text/plain": [
       "<matplotlib.figure.Figure at 0x7ff8b8380dd8>"
      ]
     },
     "metadata": {},
     "output_type": "display_data"
    }
   ],
   "source": [
    "results.groupby(['conf.cell_type', 'conf.cell_size']).min().unstack('conf.cell_type').plot(\n",
    "    y=['result.test_loss', 'result.val_loss'], kind='bar', figsize=(10, 7))"
   ]
  },
  {
   "cell_type": "markdown",
   "metadata": {
    "deletable": true,
    "editable": true
   },
   "source": [
    "## Epoch number\n",
    "\n",
    "Let's see how early stopping affects the number of epochs."
   ]
  },
  {
   "cell_type": "code",
   "execution_count": 26,
   "metadata": {
    "collapsed": false,
    "deletable": true,
    "editable": true
   },
   "outputs": [
    {
     "data": {
      "text/plain": [
       "<matplotlib.axes._subplots.AxesSubplot at 0x7ff8b82a3cc0>"
      ]
     },
     "execution_count": 26,
     "metadata": {},
     "output_type": "execute_result"
    },
    {
     "data": {
      "image/png": "[encoded data removed]",
      "text/plain": [
       "<matplotlib.figure.Figure at 0x7ff8b8262978>"
      ]
     },
     "metadata": {},
     "output_type": "display_data"
    }
   ],
   "source": [
    "results.groupby(['conf.cell_type', 'result.epochs_run']).min().unstack('conf.cell_type').plot(\n",
    "    y='result.test_loss', figsize=(10, 7))"
   ]
  },
  {
   "cell_type": "markdown",
   "metadata": {
    "deletable": true,
    "editable": true
   },
   "source": [
    "# Val loss vs. test loss"
   ]
  },
  {
   "cell_type": "code",
   "execution_count": 27,
   "metadata": {
    "collapsed": false,
    "deletable": true,
    "editable": true
   },
   "outputs": [
    {
     "data": {
      "text/plain": [
       "count    1806.000000\n",
       "mean        0.000859\n",
       "std         0.008824\n",
       "min        -0.088862\n",
       "25%        -0.002517\n",
       "50%         0.001386\n",
       "75%         0.004581\n",
       "max         0.052952\n",
       "Name: val_test_diff, dtype: float64"
      ]
     },
     "execution_count": 27,
     "metadata": {},
     "output_type": "execute_result"
    }
   ],
   "source": [
    "results['val_test_diff'] = results['result.val_loss'] - results['result.test_loss']\n",
    "results['val_test_diff'].describe()"
   ]
  },
  {
   "cell_type": "code",
   "execution_count": 28,
   "metadata": {
    "collapsed": false,
    "deletable": true,
    "editable": true
   },
   "outputs": [
    {
     "data": {
      "text/plain": [
       "<matplotlib.axes._subplots.AxesSubplot at 0x7ff89966f278>"
      ]
     },
     "execution_count": 28,
     "metadata": {},
     "output_type": "execute_result"
    },
    {
     "data": {
      "image/png": "[encoded data removed]",
      "text/plain": [
       "<matplotlib.figure.Figure at 0x7ff8b84202b0>"
      ]
     },
     "metadata": {},
     "output_type": "display_data"
    }
   ],
   "source": [
    "results.plot(x='result.epochs_run', y='val_test_diff', kind='scatter')"
   ]
  }
 ],
 "metadata": {
  "kernelspec": {
   "display_name": "Python 3",
   "language": "python",
   "name": "python3"
  },
  "language_info": {
   "codemirror_mode": {
    "name": "ipython",
    "version": 3
   },
   "file_extension": ".py",
   "mimetype": "text/x-python",
   "name": "python",
   "nbconvert_exporter": "python",
   "pygments_lexer": "ipython3",
   "version": "3.4.2"
  }
 },
 "nbformat": 4,
 "nbformat_minor": 2
}
