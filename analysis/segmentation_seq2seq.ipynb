{
 "cells": [
  {
   "cell_type": "markdown",
   "metadata": {
    "collapsed": true,
    "deletable": true,
    "editable": true
   },
   "source": [
    "# unsegmented input - segmented output experiments\n",
    "\n",
    "## Experimental setup\n",
    "\n",
    "* dataset: Hungarian Webcorpus segmented using the output of HuNLP-Gate\n",
    "  * segmentation converted to standoff tagging using two tags: B (beginning morpheme), E (continuation of morpheme)\n",
    "* architecture: bucketed embedding seq2seq with a single LSTM/GRU layer\n",
    "* 50000 unique words-segmentation pairs were used\n",
    "  * 80-10-10 train-valid-test split\n",
    "* fixed parameters: `batch_size`=1000\n",
    "* varying parameters uniformly sampled from these ranges:\n",
    " \n",
    "| Parameter | Range |\n",
    "| --- | --- |\n",
    "| cell type | `['LSTM', 'GRU']` |\n",
    "| cell size | `[16, 32, 64, 128, 256, 512]` | \n",
    "| embedding size | `[i*5 for i in range(1, 11)]` |\n",
    "| early stopping patience | `[1, 5, 10]` |\n",
    "| early stopping threshold | `[1e-2, 1e-3, 1e-4]' |\n",
    "\n",
    "### Misc\n",
    "\n",
    "* only one bucket is used, the input is filtered to max 20 character long words, that's also the bucket size\n",
    "  * multiple bucket support is not (completely) implemented"
   ]
  },
  {
   "cell_type": "code",
   "execution_count": 1,
   "metadata": {
    "collapsed": true,
    "deletable": true,
    "editable": true
   },
   "outputs": [],
   "source": [
    "import pandas as pd\n",
    "import matplotlib\n",
    "\n",
    "%matplotlib inline\n",
    "matplotlib.style.use('ggplot')\n",
    "matplotlib.pyplot.rcParams['figure.figsize'] = (10, 7)\n",
    "matplotlib.pyplot.rcParams['font.family'] = 'sans-serif'"
   ]
  },
  {
   "cell_type": "code",
   "execution_count": 2,
   "metadata": {
    "collapsed": false,
    "deletable": true,
    "editable": true
   },
   "outputs": [],
   "source": [
    "df = pd.read_table('../results/space_segmented_1M.tsv')"
   ]
  },
  {
   "cell_type": "code",
   "execution_count": 3,
   "metadata": {
    "collapsed": false,
    "deletable": true,
    "editable": true
   },
   "outputs": [],
   "source": [
    "def extract_last_if_list(text):\n",
    "    if isinstance(text, str):\n",
    "        val = eval(text)\n",
    "    else:\n",
    "        val = text\n",
    "    if isinstance(val, list):\n",
    "        return val[-1]\n",
    "    return val\n",
    "\n",
    "df['result.last_val_loss'] = df['result.val_loss'].apply(extract_last_if_list)\n",
    "df['result.last_train_loss'] = df['result.train_loss'].apply(extract_last_if_list)\n",
    "df['result.last_test_loss'] = df['result.test_loss'].apply(extract_last_if_list)"
   ]
  },
  {
   "cell_type": "markdown",
   "metadata": {
    "deletable": true,
    "editable": true
   },
   "source": [
    "# General"
   ]
  },
  {
   "cell_type": "code",
   "execution_count": 4,
   "metadata": {
    "collapsed": false,
    "deletable": true,
    "editable": true
   },
   "outputs": [
    {
     "data": {
      "text/html": [
       "<div>\n",
       "<table border=\"1\" class=\"dataframe\">\n",
       "  <thead>\n",
       "    <tr style=\"text-align: right;\">\n",
       "      <th></th>\n",
       "      <th>conf.cell_size</th>\n",
       "      <th>conf.embedding_size</th>\n",
       "      <th>conf.patience</th>\n",
       "      <th>conf.val_loss_th</th>\n",
       "      <th>data.length_limit</th>\n",
       "      <th>result.epochs_run</th>\n",
       "      <th>result.patience</th>\n",
       "      <th>result.running_time</th>\n",
       "      <th>result.val_loss_th</th>\n",
       "      <th>result.last_val_loss</th>\n",
       "      <th>result.last_train_loss</th>\n",
       "      <th>result.last_test_loss</th>\n",
       "    </tr>\n",
       "  </thead>\n",
       "  <tbody>\n",
       "    <tr>\n",
       "      <th>count</th>\n",
       "      <td>189.000000</td>\n",
       "      <td>189.000000</td>\n",
       "      <td>189.000000</td>\n",
       "      <td>189.000000</td>\n",
       "      <td>189.0</td>\n",
       "      <td>189.000000</td>\n",
       "      <td>189.000000</td>\n",
       "      <td>189.000000</td>\n",
       "      <td>189.000000</td>\n",
       "      <td>189.000000</td>\n",
       "      <td>189.000000</td>\n",
       "      <td>189.000000</td>\n",
       "    </tr>\n",
       "    <tr>\n",
       "      <th>mean</th>\n",
       "      <td>161.185185</td>\n",
       "      <td>25.793651</td>\n",
       "      <td>5.507937</td>\n",
       "      <td>0.004143</td>\n",
       "      <td>20.0</td>\n",
       "      <td>1153.878307</td>\n",
       "      <td>5.507937</td>\n",
       "      <td>214.305134</td>\n",
       "      <td>0.004143</td>\n",
       "      <td>1.196211</td>\n",
       "      <td>1.198011</td>\n",
       "      <td>1.194154</td>\n",
       "    </tr>\n",
       "    <tr>\n",
       "      <th>std</th>\n",
       "      <td>167.333889</td>\n",
       "      <td>14.063109</td>\n",
       "      <td>3.607939</td>\n",
       "      <td>0.004569</td>\n",
       "      <td>0.0</td>\n",
       "      <td>2202.337158</td>\n",
       "      <td>3.607939</td>\n",
       "      <td>579.359669</td>\n",
       "      <td>0.004569</td>\n",
       "      <td>0.861203</td>\n",
       "      <td>0.862341</td>\n",
       "      <td>0.859743</td>\n",
       "    </tr>\n",
       "    <tr>\n",
       "      <th>min</th>\n",
       "      <td>16.000000</td>\n",
       "      <td>5.000000</td>\n",
       "      <td>1.000000</td>\n",
       "      <td>0.000100</td>\n",
       "      <td>20.0</td>\n",
       "      <td>8.000000</td>\n",
       "      <td>1.000000</td>\n",
       "      <td>1.731902</td>\n",
       "      <td>0.000100</td>\n",
       "      <td>0.046378</td>\n",
       "      <td>0.019693</td>\n",
       "      <td>0.043548</td>\n",
       "    </tr>\n",
       "    <tr>\n",
       "      <th>25%</th>\n",
       "      <td>32.000000</td>\n",
       "      <td>15.000000</td>\n",
       "      <td>1.000000</td>\n",
       "      <td>0.000100</td>\n",
       "      <td>20.0</td>\n",
       "      <td>55.000000</td>\n",
       "      <td>1.000000</td>\n",
       "      <td>6.059928</td>\n",
       "      <td>0.000100</td>\n",
       "      <td>0.182074</td>\n",
       "      <td>0.180176</td>\n",
       "      <td>0.182839</td>\n",
       "    </tr>\n",
       "    <tr>\n",
       "      <th>50%</th>\n",
       "      <td>128.000000</td>\n",
       "      <td>25.000000</td>\n",
       "      <td>5.000000</td>\n",
       "      <td>0.001000</td>\n",
       "      <td>20.0</td>\n",
       "      <td>121.000000</td>\n",
       "      <td>5.000000</td>\n",
       "      <td>30.691847</td>\n",
       "      <td>0.001000</td>\n",
       "      <td>1.618442</td>\n",
       "      <td>1.619245</td>\n",
       "      <td>1.613796</td>\n",
       "    </tr>\n",
       "    <tr>\n",
       "      <th>75%</th>\n",
       "      <td>256.000000</td>\n",
       "      <td>40.000000</td>\n",
       "      <td>10.000000</td>\n",
       "      <td>0.010000</td>\n",
       "      <td>20.0</td>\n",
       "      <td>1046.000000</td>\n",
       "      <td>10.000000</td>\n",
       "      <td>186.434445</td>\n",
       "      <td>0.010000</td>\n",
       "      <td>1.840546</td>\n",
       "      <td>1.840031</td>\n",
       "      <td>1.837884</td>\n",
       "    </tr>\n",
       "    <tr>\n",
       "      <th>max</th>\n",
       "      <td>512.000000</td>\n",
       "      <td>50.000000</td>\n",
       "      <td>10.000000</td>\n",
       "      <td>0.010000</td>\n",
       "      <td>20.0</td>\n",
       "      <td>10000.000000</td>\n",
       "      <td>10.000000</td>\n",
       "      <td>5184.865827</td>\n",
       "      <td>0.010000</td>\n",
       "      <td>2.715188</td>\n",
       "      <td>2.726181</td>\n",
       "      <td>2.711479</td>\n",
       "    </tr>\n",
       "  </tbody>\n",
       "</table>\n",
       "</div>"
      ],
      "text/plain": [
       "       conf.cell_size  conf.embedding_size  conf.patience  conf.val_loss_th  \\\n",
       "count      189.000000           189.000000     189.000000        189.000000   \n",
       "mean       161.185185            25.793651       5.507937          0.004143   \n",
       "std        167.333889            14.063109       3.607939          0.004569   \n",
       "min         16.000000             5.000000       1.000000          0.000100   \n",
       "25%         32.000000            15.000000       1.000000          0.000100   \n",
       "50%        128.000000            25.000000       5.000000          0.001000   \n",
       "75%        256.000000            40.000000      10.000000          0.010000   \n",
       "max        512.000000            50.000000      10.000000          0.010000   \n",
       "\n",
       "       data.length_limit  result.epochs_run  result.patience  \\\n",
       "count              189.0         189.000000       189.000000   \n",
       "mean                20.0        1153.878307         5.507937   \n",
       "std                  0.0        2202.337158         3.607939   \n",
       "min                 20.0           8.000000         1.000000   \n",
       "25%                 20.0          55.000000         1.000000   \n",
       "50%                 20.0         121.000000         5.000000   \n",
       "75%                 20.0        1046.000000        10.000000   \n",
       "max                 20.0       10000.000000        10.000000   \n",
       "\n",
       "       result.running_time  result.val_loss_th  result.last_val_loss  \\\n",
       "count           189.000000          189.000000            189.000000   \n",
       "mean            214.305134            0.004143              1.196211   \n",
       "std             579.359669            0.004569              0.861203   \n",
       "min               1.731902            0.000100              0.046378   \n",
       "25%               6.059928            0.000100              0.182074   \n",
       "50%              30.691847            0.001000              1.618442   \n",
       "75%             186.434445            0.010000              1.840546   \n",
       "max            5184.865827            0.010000              2.715188   \n",
       "\n",
       "       result.last_train_loss  result.last_test_loss  \n",
       "count              189.000000             189.000000  \n",
       "mean                 1.198011               1.194154  \n",
       "std                  0.862341               0.859743  \n",
       "min                  0.019693               0.043548  \n",
       "25%                  0.180176               0.182839  \n",
       "50%                  1.619245               1.613796  \n",
       "75%                  1.840031               1.837884  \n",
       "max                  2.726181               2.711479  "
      ]
     },
     "execution_count": 4,
     "metadata": {},
     "output_type": "execute_result"
    }
   ],
   "source": [
    "df.describe()"
   ]
  },
  {
   "cell_type": "markdown",
   "metadata": {
    "deletable": true,
    "editable": true
   },
   "source": [
    "# Helper variables"
   ]
  },
  {
   "cell_type": "code",
   "execution_count": 5,
   "metadata": {
    "collapsed": true,
    "deletable": true,
    "editable": true
   },
   "outputs": [],
   "source": [
    "parameters = ['conf.patience', 'conf.val_loss_th', 'conf.cell_size', 'conf.cell_type', 'conf.embedding_size']\n",
    "result_columns = ['result.epochs_run', 'result.last_test_loss', 'result.last_val_loss', 'result.last_train_loss']"
   ]
  },
  {
   "cell_type": "markdown",
   "metadata": {
    "deletable": true,
    "editable": true
   },
   "source": [
    "# Best configs"
   ]
  },
  {
   "cell_type": "code",
   "execution_count": 6,
   "metadata": {
    "collapsed": false,
    "deletable": true,
    "editable": true
   },
   "outputs": [
    {
     "data": {
      "text/html": [
       "<div>\n",
       "<table border=\"1\" class=\"dataframe\">\n",
       "  <thead>\n",
       "    <tr style=\"text-align: right;\">\n",
       "      <th></th>\n",
       "      <th>conf.patience</th>\n",
       "      <th>conf.val_loss_th</th>\n",
       "      <th>conf.cell_size</th>\n",
       "      <th>conf.cell_type</th>\n",
       "      <th>conf.embedding_size</th>\n",
       "      <th>result.epochs_run</th>\n",
       "      <th>result.last_test_loss</th>\n",
       "      <th>result.last_val_loss</th>\n",
       "      <th>result.last_train_loss</th>\n",
       "    </tr>\n",
       "  </thead>\n",
       "  <tbody>\n",
       "    <tr>\n",
       "      <th>136</th>\n",
       "      <td>10.0</td>\n",
       "      <td>0.0001</td>\n",
       "      <td>256.0</td>\n",
       "      <td>GRU</td>\n",
       "      <td>15.0</td>\n",
       "      <td>10000.0</td>\n",
       "      <td>0.043548</td>\n",
       "      <td>0.046378</td>\n",
       "      <td>0.023715</td>\n",
       "    </tr>\n",
       "    <tr>\n",
       "      <th>66</th>\n",
       "      <td>10.0</td>\n",
       "      <td>0.0001</td>\n",
       "      <td>512.0</td>\n",
       "      <td>LSTM</td>\n",
       "      <td>35.0</td>\n",
       "      <td>10000.0</td>\n",
       "      <td>0.044477</td>\n",
       "      <td>0.047533</td>\n",
       "      <td>0.019693</td>\n",
       "    </tr>\n",
       "    <tr>\n",
       "      <th>168</th>\n",
       "      <td>10.0</td>\n",
       "      <td>0.0001</td>\n",
       "      <td>512.0</td>\n",
       "      <td>GRU</td>\n",
       "      <td>5.0</td>\n",
       "      <td>10000.0</td>\n",
       "      <td>0.047330</td>\n",
       "      <td>0.048326</td>\n",
       "      <td>0.026168</td>\n",
       "    </tr>\n",
       "    <tr>\n",
       "      <th>133</th>\n",
       "      <td>10.0</td>\n",
       "      <td>0.0001</td>\n",
       "      <td>128.0</td>\n",
       "      <td>GRU</td>\n",
       "      <td>30.0</td>\n",
       "      <td>5498.0</td>\n",
       "      <td>0.050630</td>\n",
       "      <td>0.054939</td>\n",
       "      <td>0.048013</td>\n",
       "    </tr>\n",
       "    <tr>\n",
       "      <th>68</th>\n",
       "      <td>10.0</td>\n",
       "      <td>0.0001</td>\n",
       "      <td>256.0</td>\n",
       "      <td>LSTM</td>\n",
       "      <td>35.0</td>\n",
       "      <td>5592.0</td>\n",
       "      <td>0.060352</td>\n",
       "      <td>0.063422</td>\n",
       "      <td>0.052666</td>\n",
       "    </tr>\n",
       "    <tr>\n",
       "      <th>47</th>\n",
       "      <td>5.0</td>\n",
       "      <td>0.0001</td>\n",
       "      <td>512.0</td>\n",
       "      <td>GRU</td>\n",
       "      <td>40.0</td>\n",
       "      <td>2602.0</td>\n",
       "      <td>0.067386</td>\n",
       "      <td>0.065799</td>\n",
       "      <td>0.057615</td>\n",
       "    </tr>\n",
       "    <tr>\n",
       "      <th>13</th>\n",
       "      <td>5.0</td>\n",
       "      <td>0.0001</td>\n",
       "      <td>512.0</td>\n",
       "      <td>LSTM</td>\n",
       "      <td>25.0</td>\n",
       "      <td>3026.0</td>\n",
       "      <td>0.068532</td>\n",
       "      <td>0.072635</td>\n",
       "      <td>0.069221</td>\n",
       "    </tr>\n",
       "    <tr>\n",
       "      <th>157</th>\n",
       "      <td>10.0</td>\n",
       "      <td>0.0001</td>\n",
       "      <td>256.0</td>\n",
       "      <td>GRU</td>\n",
       "      <td>15.0</td>\n",
       "      <td>3123.0</td>\n",
       "      <td>0.068628</td>\n",
       "      <td>0.065632</td>\n",
       "      <td>0.059894</td>\n",
       "    </tr>\n",
       "    <tr>\n",
       "      <th>121</th>\n",
       "      <td>5.0</td>\n",
       "      <td>0.0001</td>\n",
       "      <td>256.0</td>\n",
       "      <td>GRU</td>\n",
       "      <td>35.0</td>\n",
       "      <td>1949.0</td>\n",
       "      <td>0.075428</td>\n",
       "      <td>0.074534</td>\n",
       "      <td>0.077338</td>\n",
       "    </tr>\n",
       "    <tr>\n",
       "      <th>4</th>\n",
       "      <td>5.0</td>\n",
       "      <td>0.0001</td>\n",
       "      <td>256.0</td>\n",
       "      <td>GRU</td>\n",
       "      <td>20.0</td>\n",
       "      <td>1728.0</td>\n",
       "      <td>0.077336</td>\n",
       "      <td>0.077633</td>\n",
       "      <td>0.079735</td>\n",
       "    </tr>\n",
       "  </tbody>\n",
       "</table>\n",
       "</div>"
      ],
      "text/plain": [
       "     conf.patience  conf.val_loss_th  conf.cell_size conf.cell_type  \\\n",
       "136           10.0            0.0001           256.0            GRU   \n",
       "66            10.0            0.0001           512.0           LSTM   \n",
       "168           10.0            0.0001           512.0            GRU   \n",
       "133           10.0            0.0001           128.0            GRU   \n",
       "68            10.0            0.0001           256.0           LSTM   \n",
       "47             5.0            0.0001           512.0            GRU   \n",
       "13             5.0            0.0001           512.0           LSTM   \n",
       "157           10.0            0.0001           256.0            GRU   \n",
       "121            5.0            0.0001           256.0            GRU   \n",
       "4              5.0            0.0001           256.0            GRU   \n",
       "\n",
       "     conf.embedding_size  result.epochs_run  result.last_test_loss  \\\n",
       "136                 15.0            10000.0               0.043548   \n",
       "66                  35.0            10000.0               0.044477   \n",
       "168                  5.0            10000.0               0.047330   \n",
       "133                 30.0             5498.0               0.050630   \n",
       "68                  35.0             5592.0               0.060352   \n",
       "47                  40.0             2602.0               0.067386   \n",
       "13                  25.0             3026.0               0.068532   \n",
       "157                 15.0             3123.0               0.068628   \n",
       "121                 35.0             1949.0               0.075428   \n",
       "4                   20.0             1728.0               0.077336   \n",
       "\n",
       "     result.last_val_loss  result.last_train_loss  \n",
       "136              0.046378                0.023715  \n",
       "66               0.047533                0.019693  \n",
       "168              0.048326                0.026168  \n",
       "133              0.054939                0.048013  \n",
       "68               0.063422                0.052666  \n",
       "47               0.065799                0.057615  \n",
       "13               0.072635                0.069221  \n",
       "157              0.065632                0.059894  \n",
       "121              0.074534                0.077338  \n",
       "4                0.077633                0.079735  "
      ]
     },
     "execution_count": 6,
     "metadata": {},
     "output_type": "execute_result"
    }
   ],
   "source": [
    "df.sort_values('result.test_loss').head(10)[parameters + result_columns]"
   ]
  },
  {
   "cell_type": "markdown",
   "metadata": {
    "deletable": true,
    "editable": true
   },
   "source": [
    "# Embedding size"
   ]
  },
  {
   "cell_type": "code",
   "execution_count": 7,
   "metadata": {
    "collapsed": false,
    "deletable": true,
    "editable": true
   },
   "outputs": [
    {
     "data": {
      "text/plain": [
       "<matplotlib.axes._subplots.AxesSubplot at 0x7f6954b41358>"
      ]
     },
     "execution_count": 7,
     "metadata": {},
     "output_type": "execute_result"
    },
    {
     "data": {
      "image/png": "[encoded data removed]",
      "text/plain": [
       "<matplotlib.figure.Figure at 0x7f6954b41828>"
      ]
     },
     "metadata": {},
     "output_type": "display_data"
    }
   ],
   "source": [
    "r = df.groupby(['conf.embedding_size', 'conf.cell_type'])['result.last_test_loss'].min().unstack('conf.cell_type')\n",
    "r.plot()"
   ]
  },
  {
   "cell_type": "markdown",
   "metadata": {
    "deletable": true,
    "editable": true
   },
   "source": [
    "# Cell size"
   ]
  },
  {
   "cell_type": "code",
   "execution_count": 8,
   "metadata": {
    "collapsed": false,
    "deletable": true,
    "editable": true
   },
   "outputs": [
    {
     "data": {
      "text/plain": [
       "<matplotlib.axes._subplots.AxesSubplot at 0x7f6954f4eb00>"
      ]
     },
     "execution_count": 8,
     "metadata": {},
     "output_type": "execute_result"
    },
    {
     "data": {
      "image/png": "[encoded data removed]",
      "text/plain": [
       "<matplotlib.figure.Figure at 0x7f6954f8b2e8>"
      ]
     },
     "metadata": {},
     "output_type": "display_data"
    }
   ],
   "source": [
    "r = df.groupby(['conf.cell_size', 'conf.cell_type'])['result.last_test_loss'].min().unstack('conf.cell_type')\n",
    "r.plot(kind='bar')"
   ]
  },
  {
   "cell_type": "markdown",
   "metadata": {
    "deletable": true,
    "editable": true
   },
   "source": [
    "# Early stopping threshold and patience"
   ]
  },
  {
   "cell_type": "code",
   "execution_count": 9,
   "metadata": {
    "collapsed": false,
    "deletable": true,
    "editable": true
   },
   "outputs": [
    {
     "data": {
      "text/html": [
       "<div>\n",
       "<table border=\"1\" class=\"dataframe\">\n",
       "  <thead>\n",
       "    <tr style=\"text-align: right;\">\n",
       "      <th></th>\n",
       "      <th></th>\n",
       "      <th>result.last_test_loss</th>\n",
       "    </tr>\n",
       "    <tr>\n",
       "      <th>conf.val_loss_th</th>\n",
       "      <th>conf.patience</th>\n",
       "      <th></th>\n",
       "    </tr>\n",
       "  </thead>\n",
       "  <tbody>\n",
       "    <tr>\n",
       "      <th rowspan=\"3\" valign=\"top\">0.0001</th>\n",
       "      <th>1.0</th>\n",
       "      <td>0.252728</td>\n",
       "    </tr>\n",
       "    <tr>\n",
       "      <th>5.0</th>\n",
       "      <td>0.067386</td>\n",
       "    </tr>\n",
       "    <tr>\n",
       "      <th>10.0</th>\n",
       "      <td>0.043548</td>\n",
       "    </tr>\n",
       "    <tr>\n",
       "      <th rowspan=\"3\" valign=\"top\">0.0010</th>\n",
       "      <th>1.0</th>\n",
       "      <td>1.708547</td>\n",
       "    </tr>\n",
       "    <tr>\n",
       "      <th>5.0</th>\n",
       "      <td>0.147659</td>\n",
       "    </tr>\n",
       "    <tr>\n",
       "      <th>10.0</th>\n",
       "      <td>0.134648</td>\n",
       "    </tr>\n",
       "    <tr>\n",
       "      <th rowspan=\"3\" valign=\"top\">0.0100</th>\n",
       "      <th>1.0</th>\n",
       "      <td>1.931489</td>\n",
       "    </tr>\n",
       "    <tr>\n",
       "      <th>5.0</th>\n",
       "      <td>1.560569</td>\n",
       "    </tr>\n",
       "    <tr>\n",
       "      <th>10.0</th>\n",
       "      <td>1.431593</td>\n",
       "    </tr>\n",
       "  </tbody>\n",
       "</table>\n",
       "</div>"
      ],
      "text/plain": [
       "                                result.last_test_loss\n",
       "conf.val_loss_th conf.patience                       \n",
       "0.0001           1.0                         0.252728\n",
       "                 5.0                         0.067386\n",
       "                 10.0                        0.043548\n",
       "0.0010           1.0                         1.708547\n",
       "                 5.0                         0.147659\n",
       "                 10.0                        0.134648\n",
       "0.0100           1.0                         1.931489\n",
       "                 5.0                         1.560569\n",
       "                 10.0                        1.431593"
      ]
     },
     "execution_count": 9,
     "metadata": {},
     "output_type": "execute_result"
    }
   ],
   "source": [
    "df.groupby(['conf.val_loss_th', 'conf.patience'])['result.last_test_loss'].min().to_frame()"
   ]
  },
  {
   "cell_type": "code",
   "execution_count": 10,
   "metadata": {
    "collapsed": false,
    "deletable": true,
    "editable": true
   },
   "outputs": [
    {
     "data": {
      "text/html": [
       "<div>\n",
       "<table border=\"1\" class=\"dataframe\">\n",
       "  <thead>\n",
       "    <tr style=\"text-align: right;\">\n",
       "      <th></th>\n",
       "      <th>result.running_time</th>\n",
       "      <th>conf.patience</th>\n",
       "      <th>conf.val_loss_th</th>\n",
       "      <th>conf.cell_size</th>\n",
       "      <th>conf.cell_type</th>\n",
       "      <th>conf.embedding_size</th>\n",
       "      <th>result.epochs_run</th>\n",
       "      <th>result.last_test_loss</th>\n",
       "      <th>result.last_val_loss</th>\n",
       "      <th>result.last_train_loss</th>\n",
       "    </tr>\n",
       "  </thead>\n",
       "  <tbody>\n",
       "    <tr>\n",
       "      <th>149</th>\n",
       "      <td>233.889413</td>\n",
       "      <td>1.0</td>\n",
       "      <td>0.0001</td>\n",
       "      <td>256.0</td>\n",
       "      <td>LSTM</td>\n",
       "      <td>15.0</td>\n",
       "      <td>879.0</td>\n",
       "      <td>0.252728</td>\n",
       "      <td>0.243540</td>\n",
       "      <td>0.253017</td>\n",
       "    </tr>\n",
       "    <tr>\n",
       "      <th>47</th>\n",
       "      <td>1198.882157</td>\n",
       "      <td>5.0</td>\n",
       "      <td>0.0001</td>\n",
       "      <td>512.0</td>\n",
       "      <td>GRU</td>\n",
       "      <td>40.0</td>\n",
       "      <td>2602.0</td>\n",
       "      <td>0.067386</td>\n",
       "      <td>0.065799</td>\n",
       "      <td>0.057615</td>\n",
       "    </tr>\n",
       "    <tr>\n",
       "      <th>136</th>\n",
       "      <td>2503.243705</td>\n",
       "      <td>10.0</td>\n",
       "      <td>0.0001</td>\n",
       "      <td>256.0</td>\n",
       "      <td>GRU</td>\n",
       "      <td>15.0</td>\n",
       "      <td>10000.0</td>\n",
       "      <td>0.043548</td>\n",
       "      <td>0.046378</td>\n",
       "      <td>0.023715</td>\n",
       "    </tr>\n",
       "    <tr>\n",
       "      <th>139</th>\n",
       "      <td>47.406812</td>\n",
       "      <td>1.0</td>\n",
       "      <td>0.0010</td>\n",
       "      <td>512.0</td>\n",
       "      <td>LSTM</td>\n",
       "      <td>20.0</td>\n",
       "      <td>91.0</td>\n",
       "      <td>1.708547</td>\n",
       "      <td>1.703775</td>\n",
       "      <td>1.703594</td>\n",
       "    </tr>\n",
       "    <tr>\n",
       "      <th>30</th>\n",
       "      <td>284.189429</td>\n",
       "      <td>5.0</td>\n",
       "      <td>0.0010</td>\n",
       "      <td>512.0</td>\n",
       "      <td>GRU</td>\n",
       "      <td>40.0</td>\n",
       "      <td>615.0</td>\n",
       "      <td>0.147659</td>\n",
       "      <td>0.149345</td>\n",
       "      <td>0.142947</td>\n",
       "    </tr>\n",
       "    <tr>\n",
       "      <th>188</th>\n",
       "      <td>234.189084</td>\n",
       "      <td>10.0</td>\n",
       "      <td>0.0010</td>\n",
       "      <td>256.0</td>\n",
       "      <td>GRU</td>\n",
       "      <td>35.0</td>\n",
       "      <td>911.0</td>\n",
       "      <td>0.134648</td>\n",
       "      <td>0.133762</td>\n",
       "      <td>0.133623</td>\n",
       "    </tr>\n",
       "    <tr>\n",
       "      <th>143</th>\n",
       "      <td>5.961102</td>\n",
       "      <td>1.0</td>\n",
       "      <td>0.0100</td>\n",
       "      <td>128.0</td>\n",
       "      <td>GRU</td>\n",
       "      <td>15.0</td>\n",
       "      <td>32.0</td>\n",
       "      <td>1.931489</td>\n",
       "      <td>1.928674</td>\n",
       "      <td>1.880807</td>\n",
       "    </tr>\n",
       "    <tr>\n",
       "      <th>98</th>\n",
       "      <td>50.102409</td>\n",
       "      <td>5.0</td>\n",
       "      <td>0.0100</td>\n",
       "      <td>512.0</td>\n",
       "      <td>GRU</td>\n",
       "      <td>20.0</td>\n",
       "      <td>107.0</td>\n",
       "      <td>1.560569</td>\n",
       "      <td>1.570811</td>\n",
       "      <td>1.555430</td>\n",
       "    </tr>\n",
       "    <tr>\n",
       "      <th>28</th>\n",
       "      <td>35.637253</td>\n",
       "      <td>10.0</td>\n",
       "      <td>0.0100</td>\n",
       "      <td>256.0</td>\n",
       "      <td>GRU</td>\n",
       "      <td>35.0</td>\n",
       "      <td>134.0</td>\n",
       "      <td>1.431593</td>\n",
       "      <td>1.445830</td>\n",
       "      <td>1.475525</td>\n",
       "    </tr>\n",
       "  </tbody>\n",
       "</table>\n",
       "</div>"
      ],
      "text/plain": [
       "     result.running_time  conf.patience  conf.val_loss_th  conf.cell_size  \\\n",
       "149           233.889413            1.0            0.0001           256.0   \n",
       "47           1198.882157            5.0            0.0001           512.0   \n",
       "136          2503.243705           10.0            0.0001           256.0   \n",
       "139            47.406812            1.0            0.0010           512.0   \n",
       "30            284.189429            5.0            0.0010           512.0   \n",
       "188           234.189084           10.0            0.0010           256.0   \n",
       "143             5.961102            1.0            0.0100           128.0   \n",
       "98             50.102409            5.0            0.0100           512.0   \n",
       "28             35.637253           10.0            0.0100           256.0   \n",
       "\n",
       "    conf.cell_type  conf.embedding_size  result.epochs_run  \\\n",
       "149           LSTM                 15.0              879.0   \n",
       "47             GRU                 40.0             2602.0   \n",
       "136            GRU                 15.0            10000.0   \n",
       "139           LSTM                 20.0               91.0   \n",
       "30             GRU                 40.0              615.0   \n",
       "188            GRU                 35.0              911.0   \n",
       "143            GRU                 15.0               32.0   \n",
       "98             GRU                 20.0              107.0   \n",
       "28             GRU                 35.0              134.0   \n",
       "\n",
       "     result.last_test_loss  result.last_val_loss  result.last_train_loss  \n",
       "149               0.252728              0.243540                0.253017  \n",
       "47                0.067386              0.065799                0.057615  \n",
       "136               0.043548              0.046378                0.023715  \n",
       "139               1.708547              1.703775                1.703594  \n",
       "30                0.147659              0.149345                0.142947  \n",
       "188               0.134648              0.133762                0.133623  \n",
       "143               1.931489              1.928674                1.880807  \n",
       "98                1.560569              1.570811                1.555430  \n",
       "28                1.431593              1.445830                1.475525  "
      ]
     },
     "execution_count": 10,
     "metadata": {},
     "output_type": "execute_result"
    }
   ],
   "source": [
    "d = df.iloc[df.groupby(['conf.val_loss_th', 'conf.patience'])['result.last_test_loss'].idxmin()]\n",
    "d[['result.running_time'] + parameters + result_columns]"
   ]
  },
  {
   "cell_type": "markdown",
   "metadata": {
    "deletable": true,
    "editable": true
   },
   "source": [
    "# Early stopping - how early?"
   ]
  },
  {
   "cell_type": "code",
   "execution_count": 11,
   "metadata": {
    "collapsed": false,
    "deletable": true,
    "editable": true
   },
   "outputs": [
    {
     "data": {
      "text/plain": [
       "array([[<matplotlib.axes._subplots.AxesSubplot object at 0x7f6955089ef0>]], dtype=object)"
      ]
     },
     "execution_count": 11,
     "metadata": {},
     "output_type": "execute_result"
    },
    {
     "data": {
      "image/png": "[encoded data removed]",
      "text/plain": [
       "<matplotlib.figure.Figure at 0x7f6954fd8668>"
      ]
     },
     "metadata": {},
     "output_type": "display_data"
    }
   ],
   "source": [
    "df.hist('result.epochs_run', bins=100)"
   ]
  },
  {
   "cell_type": "code",
   "execution_count": 12,
   "metadata": {
    "collapsed": false,
    "deletable": true,
    "editable": true
   },
   "outputs": [
    {
     "data": {
      "text/plain": [
       "count      189.000000\n",
       "mean      1153.878307\n",
       "std       2202.337158\n",
       "min          8.000000\n",
       "25%         55.000000\n",
       "50%        121.000000\n",
       "75%       1046.000000\n",
       "max      10000.000000\n",
       "Name: result.epochs_run, dtype: float64"
      ]
     },
     "execution_count": 12,
     "metadata": {},
     "output_type": "execute_result"
    }
   ],
   "source": [
    "df['result.epochs_run'].describe()"
   ]
  }
 ],
 "metadata": {
  "kernelspec": {
   "display_name": "Python 3",
   "language": "python",
   "name": "python3"
  },
  "language_info": {
   "codemirror_mode": {
    "name": "ipython",
    "version": 3
   },
   "file_extension": ".py",
   "mimetype": "text/x-python",
   "name": "python",
   "nbconvert_exporter": "python",
   "pygments_lexer": "ipython3",
   "version": "3.4.2"
  }
 },
 "nbformat": 4,
 "nbformat_minor": 2
}
