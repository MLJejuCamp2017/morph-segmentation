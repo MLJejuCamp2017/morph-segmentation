{
 "cells": [
  {
   "cell_type": "markdown",
   "metadata": {
    "slideshow": {
     "slide_type": "slide"
    }
   },
   "source": [
    "# Morphological segmentation\n",
    "\n",
    "Judit Ács (앛 유딧)\n",
    "\n",
    "[judit@sch.bme.hu](mailto:judit@sch.bme.hu)\n",
    "\n",
    "28 July 2017\n",
    "\n",
    "Mentor: Lucy Park"
   ]
  },
  {
   "cell_type": "markdown",
   "metadata": {
    "slideshow": {
     "slide_type": "slide"
    }
   },
   "source": [
    "# Introduction\n",
    "\n",
    "Budapest Univ of Technology and Economics\n",
    "\n",
    "* PhD student in CS (2014 - ?)\n",
    "* junior lecturer from this September\n",
    "  * TA for 3 years\n",
    "  * jointly preparing a new course on Python and natural language processing\n",
    "* member of the Human Language Technology Group, Hungarian Academy of Sciences [hlt.bme.hu](hlt.bme.hu)"
   ]
  },
  {
   "cell_type": "markdown",
   "metadata": {
    "slideshow": {
     "slide_type": "subslide"
    }
   },
   "source": [
    "![HLT Group](img/hlt_group.png)"
   ]
  },
  {
   "cell_type": "markdown",
   "metadata": {
    "slideshow": {
     "slide_type": "subslide"
    }
   },
   "source": [
    "* personal\n",
    "  * born and raised in Budapest, Hungary\n",
    "  * hobbies: martial arts, handcraft, learning languages, ping-pong?\n",
    "  \n",
    "![http://funzine.hu/en/2017/01/08/goodapest-en/lets-move-start-life-budapest/](img/budapest.jpg \"Budapest\")"
   ]
  },
  {
   "cell_type": "markdown",
   "metadata": {
    "slideshow": {
     "slide_type": "slide"
    }
   },
   "source": [
    "# Motivation\n",
    "\n",
    "1. linguistic motivation\n",
    "2. machine learning :)\n",
    "\n",
    "## Hungarian language\n",
    "\n",
    "* Uralic language, not related to most European languages\n",
    "  * 56% of Uralic speakers are Hungarian (~13 million)\n",
    "  * Finnish, Estonian\n",
    "* agglutinative (large number of suffixes)\n",
    "* many noun cases (18 in Hungarian)\n",
    "* non-tonal\n",
    "* no grammatical gender - one word for *he* and *she*\n",
    "* vowel harmony\n",
    "* Latin script + 9 additional vowels"
   ]
  },
  {
   "cell_type": "markdown",
   "metadata": {
    "slideshow": {
     "slide_type": "slide"
    }
   },
   "source": [
    "![url](img/egeszsegedre.png)"
   ]
  },
  {
   "cell_type": "markdown",
   "metadata": {
    "slideshow": {
     "slide_type": "slide"
    }
   },
   "source": [
    "# ML motivation\n",
    "\n",
    "* morphological analysis is necessary for downstream tasks: machine translation, information extraction etc.\n",
    "* rule-based analyzers\n",
    "  * handcrafted rules by linguists\n",
    "  * large finite-state transducers\n",
    "  * not available for most languages\n",
    "* deep learning has yet to conquer morphology\n",
    "  * Why not just add more data?"
   ]
  },
  {
   "cell_type": "markdown",
   "metadata": {},
   "source": [
    "define task\n",
    "\n",
    "define task II. reinflection"
   ]
  },
  {
   "cell_type": "markdown",
   "metadata": {},
   "source": [
    "### Instrumental case (with something)\n",
    "\n",
    "NOUN + VAL/VEL\n",
    "\n",
    "| noun | English | instrumental | phenomena |\n",
    "| ----- | ---- | ---- | ---- |\n",
    "| autó | car |  autóVAL | vowel harmony |\n",
    "| olló | scissors | "
   ]
  },
  {
   "cell_type": "markdown",
   "metadata": {
    "slideshow": {
     "slide_type": "slide"
    }
   },
   "source": [
    "## Why not just use rule based analyzers?\n",
    "\n",
    "Their creation requires many years of expert linguistic work specific to the language. Most of the world's languages lack this.\n",
    "\n",
    "ML should be able to derive rules from data without supervision. Children are very good at this.\n",
    "\n",
    "Morphology changes over time, ML methods can easily be retrained, rule tables need manual updating.\n",
    "Why not just use word-level approaches with more data?\n",
    "\n",
    "The number of possible grammatical word types is just too great for this.\n",
    "\n",
    "Morphemes carry meaning and syntactic information which we need for any downstream task.\n",
    "\n",
    "\n",
    "# Dataset\n",
    "\n",
    "\n",
    "# Models\n",
    "\n",
    "\n",
    "# Problems during implementation\n",
    "\n",
    "\n",
    "# Results\n",
    "\n",
    "list mistakes\n",
    "\n",
    "# About the errors\n",
    "\n",
    "Github\n",
    "\n",
    "MLP shared task\n",
    "\n",
    "Conclusion\n",
    "\n",
    "Future\n",
    "\n",
    "group photo\n",
    "\n",
    "Lucy photo\n",
    "\n",
    "Dream: unsupervised rule discovery from raw text\n",
    "\n",
    "Create different training data: no overlapping morphemes (thanks Rishabh)\n",
    "\n",
    "What I learned\n",
    "\n",
    "Thank you for this amazing month\n",
    "\n",
    "implement https://github.com/Kyubyong/neural_tokenizer CBHG\n",
    "\n",
    "improve my TF skills\n",
    "\n",
    "better LR strategy\n",
    "\n",
    "interesting application: facial expression segmentation for games\n",
    "\n",
    "Tommy: add a unidirectional RNN layer on top of bidirectional encoder\n",
    "\n",
    "Judit Ács (앛 유딧)"
   ]
  },
  {
   "cell_type": "code",
   "execution_count": null,
   "metadata": {
    "collapsed": true
   },
   "outputs": [],
   "source": []
  },
  {
   "cell_type": "code",
   "execution_count": null,
   "metadata": {
    "collapsed": true
   },
   "outputs": [],
   "source": []
  }
 ],
 "metadata": {
  "celltoolbar": "Slideshow",
  "kernelspec": {
   "display_name": "Python 3",
   "language": "python",
   "name": "python3"
  },
  "language_info": {
   "codemirror_mode": {
    "name": "ipython",
    "version": 3
   },
   "file_extension": ".py",
   "mimetype": "text/x-python",
   "name": "python",
   "nbconvert_exporter": "python",
   "pygments_lexer": "ipython3",
   "version": "3.6.1"
  }
 },
 "nbformat": 4,
 "nbformat_minor": 2
}
