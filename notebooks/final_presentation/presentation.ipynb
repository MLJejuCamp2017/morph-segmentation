{
 "cells": [
  {
   "cell_type": "markdown",
   "metadata": {
    "slideshow": {
     "slide_type": "slide"
    }
   },
   "source": [
    "# Morphological segmentation\n",
    "\n",
    "Judit Ács\n",
    "\n",
    "[judit@sch.bme.hu](mailto:judit@sch.bme.hu)\n",
    "\n",
    "ML Jeju Camp 2017\n",
    "\n",
    "Mentor: Lucy Park\n",
    "\n",
    "*28 July 2017*"
   ]
  },
  {
   "cell_type": "markdown",
   "metadata": {
    "slideshow": {
     "slide_type": "slide"
    }
   },
   "source": [
    "# Introduction\n",
    "\n",
    "## Budapest University of Technology and Economics\n",
    "\n",
    "* BSc and MSc in electrical engineering\n",
    "* PhD student in CS (2014 - ?)\n",
    "* junior lecturer from this September\n",
    "  * TA for 3 years\n",
    "  * jointly preparing a new course on Python and natural language processing\n",
    "* member of the Human Language Technology Group, Hungarian Academy of Sciences\n",
    "* [hlt.bme.hu](hlt.bme.hu)"
   ]
  },
  {
   "cell_type": "markdown",
   "metadata": {
    "slideshow": {
     "slide_type": "subslide"
    }
   },
   "source": [
    "![HLT Group](img/hlt_group.png)"
   ]
  },
  {
   "cell_type": "markdown",
   "metadata": {
    "slideshow": {
     "slide_type": "subslide"
    }
   },
   "source": [
    "* born and raised in Budapest, Hungary\n",
    "* hobbies: martial arts (Taekwondo and Karate), handcraft, learning languages, ping-pong?\n",
    "  \n",
    "![http://funzine.hu/en/2017/01/08/goodapest-en/lets-move-start-life-budapest/](img/budapest.jpg \"Budapest\")"
   ]
  },
  {
   "cell_type": "markdown",
   "metadata": {
    "slideshow": {
     "slide_type": "slide"
    }
   },
   "source": [
    "# Motivation\n",
    "\n",
    "1. linguistic motivation\n",
    "2. machine learning "
   ]
  },
  {
   "cell_type": "markdown",
   "metadata": {
    "slideshow": {
     "slide_type": "fragment"
    }
   },
   "source": [
    "## Hungarian language\n",
    "\n",
    "* Uralic language, not related to most European languages\n",
    "  * 56% of Uralic speakers are Hungarian (~13 million)\n",
    "  * Finnish, Estonian\n",
    "* many noun cases (18 in Hungarian)\n",
    "* non-tonal\n",
    "* no grammatical gender - one word for *he* and *she*\n",
    "* vowel harmony\n",
    "* Latin script + 9 additional vowels\n",
    "* agglutinative (large number of suffixes)"
   ]
  },
  {
   "cell_type": "markdown",
   "metadata": {
    "slideshow": {
     "slide_type": "slide"
    }
   },
   "source": [
    "![url](img/egeszsegedre.png)"
   ]
  },
  {
   "cell_type": "markdown",
   "metadata": {
    "slideshow": {
     "slide_type": "slide"
    }
   },
   "source": [
    "# ML motivation\n",
    "\n",
    "* morphological analysis is necessary for downstream tasks: machine translation, information extraction etc.\n",
    "  * word-level approach is not sufficient for Hungarian\n",
    "* rule-based analyzers\n",
    "  * handcrafted rules by linguists\n",
    "  * large finite-state transducers\n",
    "  * not available for most languages\n",
    "* deep learning has yet to conquer morphology"
   ]
  },
  {
   "cell_type": "markdown",
   "metadata": {
    "slideshow": {
     "slide_type": "slide"
    }
   },
   "source": [
    "# Tasks\n",
    "\n",
    "## 1. morphological segmentation\n",
    "\n",
    "Segment word into morphemes (smallest units with meaning and grammatical function)\n",
    "\n",
    "\n",
    "| input | output | English translation |\n",
    "| :-----: | :----: | :----: |\n",
    "| autóval | autó + val | with (a) car |\n",
    "| államtitkárságba | állam + titkár + ság + ba | into (the) undersecretary office |\n",
    "\n",
    "Different from part-of-speech tagging"
   ]
  },
  {
   "cell_type": "markdown",
   "metadata": {
    "slideshow": {
     "slide_type": "fragment"
    }
   },
   "source": [
    "## 2. morphological reinflection\n",
    "\n",
    "Lemma + CASE/TENSE/etc. --> inflected word\n",
    "\n",
    "| lemma | target inflection | inflected word | English translation |\n",
    "| :-----: | :----: | :----: | :-----: |\n",
    "| autó | INS (instrumental) | autóval | with (a) car |\n",
    "| eszik | PAST | evett | (he/she) ate |"
   ]
  },
  {
   "cell_type": "markdown",
   "metadata": {
    "slideshow": {
     "slide_type": "slide"
    }
   },
   "source": [
    "# Datasets\n",
    "\n",
    "## Hungarian Webcorpus (Halacsy et al. 2004)\n",
    "\n",
    "* web crawl, 600M tokens\n",
    "* preprocessing\n",
    "  * lowercasing\n",
    "  * filter English words\n",
    "  * filter anything outside the Hungarian alphabet\n",
    "  * filter long words\n",
    "* 6M types after heavy filtering\n",
    "* run rule-based morphological analyzer"
   ]
  },
  {
   "cell_type": "markdown",
   "metadata": {
    "slideshow": {
     "slide_type": "subslide"
    }
   },
   "source": [
    "## Segmentation data\n",
    "\n",
    "* autó + val\n",
    "* sequence tagging problem\n",
    "  * binary classification for each character: is it the start of a new segment\n",
    "* autóval - BEEEBEE"
   ]
  },
  {
   "cell_type": "markdown",
   "metadata": {
    "slideshow": {
     "slide_type": "subslide"
    }
   },
   "source": [
    "## Korean segmentation data\n",
    "\n",
    "* Sejong corpus\n",
    "* manually annotated morphological tags\n",
    "\n",
    "| input | output |\n",
    "| :-----: | :-----: |\n",
    "| 이건 |   이거 ㄴ |\n",
    "\n",
    "* not a sequence tagging problem :(\n",
    "  "
   ]
  },
  {
   "cell_type": "markdown",
   "metadata": {
    "slideshow": {
     "slide_type": "subslide"
    }
   },
   "source": [
    "## Reinflection data - instrumental case\n",
    "\n",
    "| input | output | meaning | what happens |\n",
    "| :-----: | :-----: | :-----: | :-----: |\n",
    "| autó | autóval | with car | |\n",
    "| Peti | Petiv**E**l | with Pete | vowel harmony |\n",
    "| fej | fej**J**el | with head | assimilation |\n",
    "| pálca | pálc**Á**val | with stick | low vowel lengthening |\n",
    "| kulcs | kul**CCS**al | with key | digraph + assimilation |\n"
   ]
  },
  {
   "cell_type": "markdown",
   "metadata": {
    "slideshow": {
     "slide_type": "slide"
    }
   },
   "source": [
    "# Baselines\n",
    "\n",
    "## Byte pair encoding\n",
    "\n",
    "1. find the most common subsequent character pairs\n",
    "2. replace them with a new symbol\n",
    "3. Repeat\n",
    "\n",
    "* unsupervised\n",
    "\n",
    "## Entropy-based segmentation\n",
    "\n",
    "* segment boundaries tend to have more variation in neighbors - high entropy\n",
    "* segment if a character boundary is similar to a morpeme boundary\n",
    "* weakly supervised\n",
    "\n",
    "## Morfessor\n",
    "\n",
    "* Virpioja et al. 2013\n",
    "* unsupervised and semi-supervised morphological segmenter"
   ]
  },
  {
   "cell_type": "markdown",
   "metadata": {
    "slideshow": {
     "slide_type": "slide"
    }
   },
   "source": [
    "# Models\n",
    "\n",
    "## Sequence tagging\n",
    "\n",
    "1. bidirectional stacked LSTM/GRU\n",
    "2. character-CNN + LSTM layers\n",
    "\n",
    "## Reinflection and Korean segmentation\n",
    "\n",
    "sequence-to-sequence models\n",
    "\n",
    "1. `legacy_seq2seq` with Bahdanau attention\n",
    "2. newer `seq2seq`"
   ]
  },
  {
   "cell_type": "markdown",
   "metadata": {
    "slideshow": {
     "slide_type": "slide"
    }
   },
   "source": [
    "# Problems\n",
    "\n",
    "* overdesign\n",
    "* Make it work, make it right, make it fast\n",
    "* learning rate scheduling\n",
    "* (new) seq2seq with attention doesn't converge"
   ]
  },
  {
   "cell_type": "markdown",
   "metadata": {
    "slideshow": {
     "slide_type": "slide"
    }
   },
   "source": [
    "# Results - sequence tagging\n",
    "\n",
    "1. character-level precision, recall\n",
    "2. morpheme-level precision, recall\n",
    "3. word accuracy"
   ]
  },
  {
   "cell_type": "markdown",
   "metadata": {
    "slideshow": {
     "slide_type": "subslide"
    }
   },
   "source": [
    "## Baselines\n",
    "\n",
    "| Method | boundary prec | boundary recall | boundary F-score | word accuracy |\n",
    "| :-----:   | :-----:   | :-----:   | :-----:   | :-----:  |\n",
    "| byte-pair encoding | 0.3795 |\t0.7646 | 0.5073 | 0.0822 |\n",
    "| entropy segmentation | 0.5804 | \t0.6071 |\t**0.5934** |\t0.5049 |\n",
    "| Morfessor | 0.6410 |\t0.5632 | \t0.5996 |\t0.2432 |"
   ]
  },
  {
   "cell_type": "markdown",
   "metadata": {
    "slideshow": {
     "slide_type": "fragment"
    }
   },
   "source": [
    "## Deep models\n",
    "\n",
    "| Method | boundary F-score | morpheme F-score | word accuracy |\n",
    "| :-----:| :-----:| :-----:| :-----:|\n",
    "| CNN | 0.911 | 0.859 | 0.756 |\n",
    "| LSTM | 0.90 | 0.841 | 0.724 |"
   ]
  },
  {
   "cell_type": "markdown",
   "metadata": {
    "slideshow": {
     "slide_type": "slide"
    }
   },
   "source": [
    "# Reinflection - instrumental case\n",
    "\n",
    "* word accuracy: 0.9066"
   ]
  },
  {
   "cell_type": "markdown",
   "metadata": {
    "slideshow": {
     "slide_type": "fragment"
    }
   },
   "source": [
    "# Korean segmentation\n",
    "\n",
    "* boundary detection F-score: 0.958\n",
    "* morpheme detection F-score: 0.9371\n",
    "* word accuracy: 0.8838"
   ]
  },
  {
   "cell_type": "markdown",
   "metadata": {
    "slideshow": {
     "slide_type": "slide"
    }
   },
   "source": [
    "# Conclusion\n",
    "\n",
    "* implemented 3 supervised models for two tasks: morphological segmentation and reinflection\n",
    "* trained and tested on the output of a rule-based analyzer\n",
    "* CNN-based architectures perform best\n",
    "* manual error analysis suggests that the training data is noisy"
   ]
  },
  {
   "cell_type": "markdown",
   "metadata": {
    "slideshow": {
     "slide_type": "subslide"
    }
   },
   "source": [
    "# Future work\n",
    "\n",
    "### Dataset improvements\n",
    "\n",
    "* improve disambiguation\n",
    "* use context\n",
    "* train and test data should not have overlapping morphemes (thx Rishabh)\n",
    "\n",
    "### Model\n",
    "\n",
    "* fix seq2seq attention\n",
    "* add unidirectional LSTM on top of bidirectional encoder (thx Tommy)\n",
    "* try CBHG from the Tacotron paper (thx Ryan)\n",
    "* decent learning rate scheduling\n",
    "* better representation for assimilation"
   ]
  },
  {
   "cell_type": "markdown",
   "metadata": {
    "slideshow": {
     "slide_type": "fragment"
    }
   },
   "source": [
    "THE dream: **unsupervised rule discovery from raw text**"
   ]
  },
  {
   "cell_type": "markdown",
   "metadata": {
    "slideshow": {
     "slide_type": "slide"
    }
   },
   "source": [
    "# Many thanks"
   ]
  },
  {
   "cell_type": "markdown",
   "metadata": {
    "slideshow": {
     "slide_type": "subslide"
    }
   },
   "source": [
    "## My mentor\n",
    "\n",
    "![Lucy and Judit](img/lucy_judit.jpg)"
   ]
  },
  {
   "cell_type": "markdown",
   "metadata": {
    "slideshow": {
     "slide_type": "subslide"
    }
   },
   "source": [
    "# Camp participants\n",
    "\n",
    "![img](img/group2.jpg)"
   ]
  },
  {
   "cell_type": "markdown",
   "metadata": {
    "slideshow": {
     "slide_type": "slide"
    }
   },
   "source": [
    "# Thank you for your attention\n",
    "\n",
    "\n",
    "Ács Judit (아치 유딧)\n",
    "\n",
    "[judit@sch.bme.hu](mailto:judit@sch.bme.hu)\n",
    "\n",
    "[Github](https://github.com/juditacs/morph-segmentation)\n",
    "\n",
    "アチユディッ卜\n",
    "\n",
    "艾奇尤迪特"
   ]
  }
 ],
 "metadata": {
  "celltoolbar": "Slideshow",
  "kernelspec": {
   "display_name": "Python 3",
   "language": "python",
   "name": "python3"
  },
  "language_info": {
   "codemirror_mode": {
    "name": "ipython",
    "version": 3
   },
   "file_extension": ".py",
   "mimetype": "text/x-python",
   "name": "python",
   "nbconvert_exporter": "python",
   "pygments_lexer": "ipython3",
   "version": "3.6.1"
  }
 },
 "nbformat": 4,
 "nbformat_minor": 2
}
