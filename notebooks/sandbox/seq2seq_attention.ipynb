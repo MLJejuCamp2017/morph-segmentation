{
 "cells": [
  {
   "cell_type": "code",
   "execution_count": 3,
   "metadata": {},
   "outputs": [],
   "source": [
    "import tensorflow as tf\n",
    "from tensorflow.python.ops import lookup_ops\n",
    "from tensorflow.python.layers import core as layers_core\n",
    "\n",
    "tf.reset_default_graph()"
   ]
  },
  {
   "cell_type": "markdown",
   "metadata": {},
   "source": [
    "# Global parameters"
   ]
  },
  {
   "cell_type": "code",
   "execution_count": 4,
   "metadata": {
    "collapsed": true
   },
   "outputs": [],
   "source": [
    "batch_size = 4\n",
    "beam_width = 3"
   ]
  },
  {
   "cell_type": "markdown",
   "metadata": {},
   "source": [
    "# Create training data"
   ]
  },
  {
   "cell_type": "code",
   "execution_count": 5,
   "metadata": {
    "collapsed": true
   },
   "outputs": [],
   "source": [
    "with open('/tmp/toy_data.txt', 'w') as data_file:\n",
    "    for _ in range(1000):\n",
    "        data_file.write(\"abc\\tdefdef\\n\")\n",
    "        data_file.write(\"def\\tabcabc\\n\")"
   ]
  },
  {
   "cell_type": "markdown",
   "metadata": {},
   "source": [
    "# Vocabulary as a lookup table"
   ]
  },
  {
   "cell_type": "code",
   "execution_count": 6,
   "metadata": {
    "collapsed": true
   },
   "outputs": [],
   "source": [
    "vocab = ['PAD', 'EOS', 'SOS'] + list(\"aábcdef\")\n",
    "EOS = 1  # end of sentence\n",
    "SOS = 2  # start of sentence (GO symbol)\n",
    "table = lookup_ops.index_table_from_tensor(tf.constant(vocab))\n",
    "vocab = {k: i for i, k in enumerate(vocab)}\n",
    "vocab_size = len(vocab)\n",
    "\n",
    "table_initializer = tf.tables_initializer()"
   ]
  },
  {
   "cell_type": "markdown",
   "metadata": {},
   "source": [
    "# Reading dataset\n",
    "\n",
    "Format:\n",
    "\n",
    "~~~\n",
    "input TAB output\n",
    "input TAB output\n",
    "~~~"
   ]
  },
  {
   "cell_type": "code",
   "execution_count": 7,
   "metadata": {
    "collapsed": true
   },
   "outputs": [],
   "source": [
    "dataset = tf.contrib.data.TextLineDataset('/tmp/toy_data.txt')\n",
    "dataset = dataset.map(lambda string: tf.string_split([string], delimiter='\\t').values)\n",
    "source = dataset.map(lambda string: string[0])\n",
    "target = dataset.map(lambda string: string[1])\n",
    "\n",
    "source = source.map(lambda string: tf.string_split([string], delimiter='').values)\n",
    "source = source.map(lambda words: table.lookup(words))\n",
    "target = target.map(lambda string: tf.string_split([string], delimiter='').values)\n",
    "target = target.map(lambda words: table.lookup(words))\n",
    "\n",
    "src_tgt_dataset = tf.contrib.data.Dataset.zip((source, target))\n",
    "src_tgt_dataset = src_tgt_dataset.map(\n",
    "    lambda src, tgt: (src,\n",
    "                      tf.concat(([SOS], tgt), 0),\n",
    "                      tf.concat((tgt, [EOS]), 0),)\n",
    ")\n",
    "src_tgt_dataset = src_tgt_dataset.map(\n",
    "    lambda src, tgt_in, tgt_out: (src, tgt_in, tgt_out, tf.size(src), tf.size(tgt_in))\n",
    ")"
   ]
  },
  {
   "cell_type": "markdown",
   "metadata": {},
   "source": [
    "# Padded batch"
   ]
  },
  {
   "cell_type": "code",
   "execution_count": 8,
   "metadata": {
    "collapsed": true
   },
   "outputs": [],
   "source": [
    "# if I set the third padding shape to the same as the second one,\n",
    "# it fails if there is no maxlen character long sample in the batch\n",
    "# WHY???\n",
    "batched = src_tgt_dataset.padded_batch(batch_size, padded_shapes=(\n",
    "    tf.TensorShape([6]), tf.TensorShape([9]), tf.TensorShape([None]),\n",
    "         tf.TensorShape([]), tf.TensorShape([])))\n",
    "batched_iter = batched.make_initializable_iterator()\n",
    "src_ids, tgt_in_ids, tgt_out_ids, src_size, tgt_size = batched_iter.get_next()"
   ]
  },
  {
   "cell_type": "markdown",
   "metadata": {},
   "source": [
    "# Encoder"
   ]
  },
  {
   "cell_type": "code",
   "execution_count": 9,
   "metadata": {
    "collapsed": true
   },
   "outputs": [],
   "source": [
    "embedding = tf.get_variable(\"embedding\", [vocab_size, 3], dtype=tf.float32)\n",
    "\n",
    "encoder_emb_inp = tf.nn.embedding_lookup(embedding, src_ids)\n",
    "   "
   ]
  },
  {
   "cell_type": "code",
   "execution_count": 10,
   "metadata": {
    "collapsed": true
   },
   "outputs": [],
   "source": [
    "fw_cell = tf.contrib.rnn.BasicLSTMCell(8)\n",
    "bw_cell = tf.contrib.rnn.BasicLSTMCell(8)\n",
    "\n",
    "encoder_outputs, encoder_state = tf.nn.bidirectional_dynamic_rnn(\n",
    "    fw_cell, bw_cell, encoder_emb_inp, dtype=tf.float32, sequence_length=src_size\n",
    ")\n",
    "\n",
    "encoder_outputs = tf.concat(encoder_outputs, -1)\n",
    "#encoder_cell = tf.contrib.rnn.BasicLSTMCell(16)\n",
    "\n",
    "#encoder_outputs, encoder_state = tf.nn.dynamic_rnn(encoder_cell, encoder_emb_inp, dtype=tf.float32,\n",
    "                                                   #sequence_length=src_size)"
   ]
  },
  {
   "cell_type": "markdown",
   "metadata": {},
   "source": [
    "# Decoder"
   ]
  },
  {
   "cell_type": "code",
   "execution_count": 11,
   "metadata": {
    "collapsed": true
   },
   "outputs": [],
   "source": [
    "attention = tf.contrib.seq2seq.LuongAttention(16, encoder_outputs,\n",
    "                                              memory_sequence_length=src_size)\n",
    "decoder_cell = tf.contrib.rnn.BasicLSTMCell(16)\n",
    "\n",
    "decoder_cell = tf.contrib.seq2seq.AttentionWrapper(\n",
    "    decoder_cell,\n",
    "    attention,\n",
    "    attention_layer_size=16,\n",
    "    alignment_history=False\n",
    ")\n",
    "decoder_initial_state = decoder_cell.zero_state(batch_size, tf.float32)\n",
    "\n",
    "decoder_emb_inp = tf.nn.embedding_lookup(embedding, tgt_in_ids)\n",
    "helper = tf.contrib.seq2seq.TrainingHelper(decoder_emb_inp, tgt_size)\n",
    "decoder = tf.contrib.seq2seq.BasicDecoder(decoder_cell, helper, decoder_initial_state)\n",
    "outputs, final_context_state, _ = tf.contrib.seq2seq.dynamic_decode(decoder)\n",
    "sample_id = outputs.sample_id\n",
    "output_proj = layers_core.Dense(vocab_size, name=\"output_projection\")\n",
    "logits = output_proj(outputs.rnn_output)"
   ]
  },
  {
   "cell_type": "markdown",
   "metadata": {},
   "source": [
    "# Loss"
   ]
  },
  {
   "cell_type": "code",
   "execution_count": 12,
   "metadata": {
    "collapsed": true
   },
   "outputs": [],
   "source": [
    "crossent = tf.nn.sparse_softmax_cross_entropy_with_logits(labels=tgt_out_ids, logits=logits)\n",
    "target_weights = tf.sequence_mask(tgt_size, tf.shape(tgt_out_ids)[1], tf.float32)\n",
    "loss = tf.reduce_sum(crossent * target_weights) / tf.to_float(5)"
   ]
  },
  {
   "cell_type": "markdown",
   "metadata": {},
   "source": [
    "# Optimizer and gradient update"
   ]
  },
  {
   "cell_type": "code",
   "execution_count": 13,
   "metadata": {
    "collapsed": true
   },
   "outputs": [],
   "source": [
    "optimizer =tf.train.AdamOptimizer(0.1)\n",
    "params = tf.trainable_variables()\n",
    "gradients = tf.gradients(loss, params)\n",
    "update = optimizer.apply_gradients(zip(gradients, params))"
   ]
  },
  {
   "cell_type": "markdown",
   "metadata": {},
   "source": [
    "# Greedy decoding with `GreedyEmbeddingHelper`\n",
    "\n",
    "The encoder stays the same but we need to redefine the decoder."
   ]
  },
  {
   "cell_type": "code",
   "execution_count": 14,
   "metadata": {
    "collapsed": true
   },
   "outputs": [],
   "source": [
    "greedy_helper = tf.contrib.seq2seq.GreedyEmbeddingHelper(embedding, tf.fill([batch_size], SOS),\n",
    "                                                         EOS)\n",
    "greedy_attention = tf.contrib.seq2seq.LuongAttention(16, encoder_outputs,\n",
    "                                              memory_sequence_length=src_size)\n",
    "\n",
    "greedy_decoder_cell = tf.contrib.rnn.BasicLSTMCell(16)\n",
    "greedy_decoder_cell = tf.contrib.seq2seq.AttentionWrapper(\n",
    "    greedy_decoder_cell,\n",
    "    greedy_attention,\n",
    "    attention_layer_size=16,\n",
    "    alignment_history=True\n",
    ")\n",
    "greedy_decoder_initial_state = greedy_decoder_cell.zero_state(\n",
    "    batch_size, tf.float32).clone(cell_state=encoder_state )\n",
    "\n",
    "greedy_decoder = tf.contrib.seq2seq.BasicDecoder(decoder_cell, helper, decoder_initial_state,\n",
    "                                         output_layer=output_proj)\n",
    "\n",
    "greedy_outputs, _, _ = tf.contrib.seq2seq.dynamic_decode(greedy_decoder, maximum_iterations=10)"
   ]
  },
  {
   "cell_type": "markdown",
   "metadata": {},
   "source": [
    "# Beam search decoding"
   ]
  },
  {
   "cell_type": "code",
   "execution_count": 15,
   "metadata": {},
   "outputs": [
    {
     "ename": "ValueError",
     "evalue": "The two structures don't have the same number of elements. First structure: AttentionWrapperState(cell_state=(LSTMStateTuple(c=<tf.Tensor 'tile_batch_2/Reshape:0' shape=(?, 8) dtype=float32>, h=<tf.Tensor 'tile_batch_2/Reshape_1:0' shape=(?, 8) dtype=float32>), LSTMStateTuple(c=<tf.Tensor 'tile_batch_2/Reshape_2:0' shape=(?, 8) dtype=float32>, h=<tf.Tensor 'tile_batch_2/Reshape_3:0' shape=(?, 8) dtype=float32>)), attention=<tf.Tensor 'AttentionWrapperZeroState_2/zeros_1:0' shape=(12, 16) dtype=float32>, time=<tf.Tensor 'AttentionWrapperZeroState_2/zeros:0' shape=() dtype=int32>, alignments=<tf.Tensor 'AttentionWrapperZeroState_2/zeros_2:0' shape=(12, 6) dtype=float32>, alignment_history=()), second structure: AttentionWrapperState(cell_state=LSTMStateTuple(c=16, h=16), attention=16, time=TensorShape([]), alignments=6, alignment_history=()).",
     "output_type": "error",
     "traceback": [
      "\u001b[0;31m---------------------------------------------------------------------------\u001b[0m",
      "\u001b[0;31mValueError\u001b[0m                                Traceback (most recent call last)",
      "\u001b[0;32m<ipython-input-15-d9b8db402365>\u001b[0m in \u001b[0;36m<module>\u001b[0;34m()\u001b[0m\n\u001b[1;32m     25\u001b[0m     \u001b[0mbeam_width\u001b[0m\u001b[0;34m=\u001b[0m\u001b[0mbeam_width\u001b[0m\u001b[0;34m,\u001b[0m\u001b[0;34m\u001b[0m\u001b[0m\n\u001b[1;32m     26\u001b[0m     \u001b[0moutput_layer\u001b[0m\u001b[0;34m=\u001b[0m\u001b[0moutput_proj\u001b[0m\u001b[0;34m,\u001b[0m\u001b[0;34m\u001b[0m\u001b[0m\n\u001b[0;32m---> 27\u001b[0;31m     \u001b[0mend_token\u001b[0m\u001b[0;34m=\u001b[0m\u001b[0mEOS\u001b[0m\u001b[0;34m,\u001b[0m\u001b[0;34m\u001b[0m\u001b[0m\n\u001b[0m\u001b[1;32m     28\u001b[0m )\n\u001b[1;32m     29\u001b[0m \u001b[0mbeam_outputs\u001b[0m\u001b[0;34m,\u001b[0m \u001b[0m_\u001b[0m\u001b[0;34m,\u001b[0m \u001b[0m_\u001b[0m \u001b[0;34m=\u001b[0m \u001b[0mtf\u001b[0m\u001b[0;34m.\u001b[0m\u001b[0mcontrib\u001b[0m\u001b[0;34m.\u001b[0m\u001b[0mseq2seq\u001b[0m\u001b[0;34m.\u001b[0m\u001b[0mdynamic_decode\u001b[0m\u001b[0;34m(\u001b[0m\u001b[0mbeam_decoder\u001b[0m\u001b[0;34m,\u001b[0m \u001b[0mmaximum_iterations\u001b[0m\u001b[0;34m=\u001b[0m\u001b[0;36m10\u001b[0m\u001b[0;34m)\u001b[0m\u001b[0;34m\u001b[0m\u001b[0m\n",
      "\u001b[0;32m~/.virtualenvs/deep/lib/python3.6/site-packages/tensorflow/contrib/seq2seq/python/ops/beam_search_decoder.py\u001b[0m in \u001b[0;36m__init__\u001b[0;34m(self, cell, embedding, start_tokens, end_token, initial_state, beam_width, output_layer, length_penalty_weight)\u001b[0m\n\u001b[1;32m    191\u001b[0m     self._initial_cell_state = nest.map_structure(\n\u001b[1;32m    192\u001b[0m         \u001b[0mself\u001b[0m\u001b[0;34m.\u001b[0m\u001b[0m_maybe_split_batch_beams\u001b[0m\u001b[0;34m,\u001b[0m\u001b[0;34m\u001b[0m\u001b[0m\n\u001b[0;32m--> 193\u001b[0;31m         initial_state, self._cell.state_size)\n\u001b[0m\u001b[1;32m    194\u001b[0m     self._start_tokens = array_ops.tile(\n\u001b[1;32m    195\u001b[0m         array_ops.expand_dims(self._start_tokens, 1), [1, self._beam_width])\n",
      "\u001b[0;32m~/.virtualenvs/deep/lib/python3.6/site-packages/tensorflow/python/util/nest.py\u001b[0m in \u001b[0;36mmap_structure\u001b[0;34m(func, *structure, **check_types_dict)\u001b[0m\n\u001b[1;32m    317\u001b[0m \u001b[0;34m\u001b[0m\u001b[0m\n\u001b[1;32m    318\u001b[0m   \u001b[0;32mfor\u001b[0m \u001b[0mother\u001b[0m \u001b[0;32min\u001b[0m \u001b[0mstructure\u001b[0m\u001b[0;34m[\u001b[0m\u001b[0;36m1\u001b[0m\u001b[0;34m:\u001b[0m\u001b[0;34m]\u001b[0m\u001b[0;34m:\u001b[0m\u001b[0;34m\u001b[0m\u001b[0m\n\u001b[0;32m--> 319\u001b[0;31m     \u001b[0massert_same_structure\u001b[0m\u001b[0;34m(\u001b[0m\u001b[0mstructure\u001b[0m\u001b[0;34m[\u001b[0m\u001b[0;36m0\u001b[0m\u001b[0;34m]\u001b[0m\u001b[0;34m,\u001b[0m \u001b[0mother\u001b[0m\u001b[0;34m,\u001b[0m \u001b[0mcheck_types\u001b[0m\u001b[0;34m=\u001b[0m\u001b[0mcheck_types\u001b[0m\u001b[0;34m)\u001b[0m\u001b[0;34m\u001b[0m\u001b[0m\n\u001b[0m\u001b[1;32m    320\u001b[0m \u001b[0;34m\u001b[0m\u001b[0m\n\u001b[1;32m    321\u001b[0m   \u001b[0mflat_structure\u001b[0m \u001b[0;34m=\u001b[0m \u001b[0;34m[\u001b[0m\u001b[0mflatten\u001b[0m\u001b[0;34m(\u001b[0m\u001b[0ms\u001b[0m\u001b[0;34m)\u001b[0m \u001b[0;32mfor\u001b[0m \u001b[0ms\u001b[0m \u001b[0;32min\u001b[0m \u001b[0mstructure\u001b[0m\u001b[0;34m]\u001b[0m\u001b[0;34m\u001b[0m\u001b[0m\n",
      "\u001b[0;32m~/.virtualenvs/deep/lib/python3.6/site-packages/tensorflow/python/util/nest.py\u001b[0m in \u001b[0;36massert_same_structure\u001b[0;34m(nest1, nest2, check_types)\u001b[0m\n\u001b[1;32m    144\u001b[0m     raise ValueError(\"The two structures don't have the same number of \"\n\u001b[1;32m    145\u001b[0m                      \u001b[0;34m\"elements. First structure: %s, second structure: %s.\"\u001b[0m\u001b[0;34m\u001b[0m\u001b[0m\n\u001b[0;32m--> 146\u001b[0;31m                      % (nest1, nest2))\n\u001b[0m\u001b[1;32m    147\u001b[0m   \u001b[0m_recursive_assert_same_structure\u001b[0m\u001b[0;34m(\u001b[0m\u001b[0mnest1\u001b[0m\u001b[0;34m,\u001b[0m \u001b[0mnest2\u001b[0m\u001b[0;34m,\u001b[0m \u001b[0mcheck_types\u001b[0m\u001b[0;34m)\u001b[0m\u001b[0;34m\u001b[0m\u001b[0m\n\u001b[1;32m    148\u001b[0m \u001b[0;34m\u001b[0m\u001b[0m\n",
      "\u001b[0;31mValueError\u001b[0m: The two structures don't have the same number of elements. First structure: AttentionWrapperState(cell_state=(LSTMStateTuple(c=<tf.Tensor 'tile_batch_2/Reshape:0' shape=(?, 8) dtype=float32>, h=<tf.Tensor 'tile_batch_2/Reshape_1:0' shape=(?, 8) dtype=float32>), LSTMStateTuple(c=<tf.Tensor 'tile_batch_2/Reshape_2:0' shape=(?, 8) dtype=float32>, h=<tf.Tensor 'tile_batch_2/Reshape_3:0' shape=(?, 8) dtype=float32>)), attention=<tf.Tensor 'AttentionWrapperZeroState_2/zeros_1:0' shape=(12, 16) dtype=float32>, time=<tf.Tensor 'AttentionWrapperZeroState_2/zeros:0' shape=() dtype=int32>, alignments=<tf.Tensor 'AttentionWrapperZeroState_2/zeros_2:0' shape=(12, 6) dtype=float32>, alignment_history=()), second structure: AttentionWrapperState(cell_state=LSTMStateTuple(c=16, h=16), attention=16, time=TensorShape([]), alignments=6, alignment_history=())."
     ]
    }
   ],
   "source": [
    "beam_memory = tf.contrib.seq2seq.tile_batch(encoder_outputs, multiplier=beam_width)\n",
    "beam_src_size = tf.contrib.seq2seq.tile_batch(src_size, multiplier=beam_width)\n",
    "\n",
    "beam_attention = tf.contrib.seq2seq.LuongAttention(16, beam_memory,\n",
    "                                              memory_sequence_length=beam_src_size)\n",
    "\n",
    "beam_decoder_cell = tf.contrib.rnn.BasicLSTMCell(16)\n",
    "beam_decoder_cell = tf.contrib.seq2seq.AttentionWrapper(\n",
    "    beam_decoder_cell,\n",
    "    beam_attention,\n",
    "    attention_layer_size=16,\n",
    "    alignment_history=False\n",
    ")\n",
    "start_tokens = tf.fill([batch_size], SOS)\n",
    "\n",
    "beam_encoder_state = tf.contrib.seq2seq.tile_batch(encoder_state, multiplier=beam_width)\n",
    "\n",
    "beam_decoder_initial_state = beam_decoder_cell.zero_state(\n",
    "    batch_size * beam_width, tf.float32).clone(\n",
    "    cell_state=beam_encoder_state\n",
    ")\n",
    "\n",
    "beam_decoder = tf.contrib.seq2seq.BeamSearchDecoder(\n",
    "    cell=beam_decoder_cell,\n",
    "    embedding=embedding,\n",
    "    start_tokens=start_tokens,\n",
    "    initial_state=beam_decoder_initial_state,\n",
    "    beam_width=beam_width,\n",
    "    output_layer=output_proj,\n",
    "    end_token=EOS,\n",
    ")\n",
    "beam_outputs, _, _ = tf.contrib.seq2seq.dynamic_decode(beam_decoder, maximum_iterations=10)"
   ]
  },
  {
   "cell_type": "markdown",
   "metadata": {},
   "source": [
    "# Starting session"
   ]
  },
  {
   "cell_type": "code",
   "execution_count": null,
   "metadata": {
    "collapsed": true
   },
   "outputs": [],
   "source": [
    "sess = tf.InteractiveSession()\n",
    "sess.run(table_initializer)\n",
    "sess.run(batched_iter.initializer)\n",
    "sess.run(tf.global_variables_initializer())"
   ]
  },
  {
   "cell_type": "markdown",
   "metadata": {},
   "source": [
    "# Training"
   ]
  },
  {
   "cell_type": "code",
   "execution_count": null,
   "metadata": {
    "collapsed": true
   },
   "outputs": [],
   "source": [
    "for i in range(100):\n",
    "    sess.run(update)\n",
    "    l = sess.run(loss)\n",
    "    if i % 10 == 9:\n",
    "        print(\"Iteration: {}, training loss: {}\".format(i+1, l))"
   ]
  },
  {
   "cell_type": "code",
   "execution_count": null,
   "metadata": {
    "collapsed": true
   },
   "outputs": [],
   "source": []
  },
  {
   "cell_type": "markdown",
   "metadata": {},
   "source": [
    "# Manual greedy decoding\n",
    "\n",
    "NOTE: running logits iterates over the next batch in the dataset, so running this cell multiple times decodes a different batch in the dataset."
   ]
  },
  {
   "cell_type": "code",
   "execution_count": null,
   "metadata": {
    "collapsed": true
   },
   "outputs": [],
   "source": [
    "inv_vocab = {v: k for k, v in vocab.items()}\n",
    "inv_vocab[-1] = 'UNK'\n",
    "skip_symbols = ('PAD', 'SOS', 'EOS', 'UNK')"
   ]
  },
  {
   "cell_type": "markdown",
   "metadata": {},
   "source": [
    "## Input and output labels\n",
    "\n",
    "Greed: just take the highest probabilty along the last axis."
   ]
  },
  {
   "cell_type": "code",
   "execution_count": null,
   "metadata": {
    "collapsed": true
   },
   "outputs": [],
   "source": [
    "input_ids, out_probs = sess.run([src_ids, logits])\n",
    "output_ids = out_probs.argmax(axis=-1)\n",
    "\n",
    "output_ids.shape"
   ]
  },
  {
   "cell_type": "markdown",
   "metadata": {},
   "source": [
    "## Convert labels to characters"
   ]
  },
  {
   "cell_type": "code",
   "execution_count": null,
   "metadata": {
    "collapsed": true
   },
   "outputs": [],
   "source": [
    "def decode_ids(input_ids, output_ids):\n",
    "    decoded = []\n",
    "    for sample_i in range(output_ids.shape[0]):\n",
    "        input_sample = input_ids[sample_i]\n",
    "        output_sample = output_ids[sample_i]\n",
    "        input_decoded = [inv_vocab[s] for s in input_sample]\n",
    "        input_decoded = ''.join(c for c in input_decoded if c not in skip_symbols)\n",
    "        output_decoded = [inv_vocab[s] for s in output_sample]\n",
    "        output_decoded = ''.join(c for c in output_decoded if c not in skip_symbols)\n",
    "        decoded.append((input_decoded, output_decoded))\n",
    "    return decoded\n",
    " \n",
    "decoded = decode_ids(input_ids, output_ids)\n",
    "print('\\n'.join(\n",
    "    '{} ---> {}'.format(dec[0], dec[1]) for dec in decoded\n",
    "))"
   ]
  },
  {
   "cell_type": "markdown",
   "metadata": {},
   "source": [
    "# Run greedy inference"
   ]
  },
  {
   "cell_type": "code",
   "execution_count": null,
   "metadata": {
    "collapsed": true
   },
   "outputs": [],
   "source": [
    "input_ids, output_ids = sess.run([src_ids, greedy_outputs.sample_id])\n",
    "decoded = decode_ids(input_ids, output_ids)\n",
    "print('\\n'.join(\n",
    "    '{} ---> {}'.format(dec[0], dec[1]) for dec in decoded\n",
    "))"
   ]
  },
  {
   "cell_type": "markdown",
   "metadata": {},
   "source": [
    "# Run beam search inference"
   ]
  },
  {
   "cell_type": "code",
   "execution_count": null,
   "metadata": {
    "collapsed": true
   },
   "outputs": [],
   "source": [
    "input_ids, output_ids = sess.run([src_ids, beam_outputs.predicted_ids])\n",
    "output_ids\n",
    "\n",
    "all_decoded = []\n",
    "for beam_i in range(beam_width):\n",
    "    inputs = []\n",
    "    all_decoded.append([])\n",
    "    decoded = decode_ids(input_ids, output_ids[:,:,beam_i])\n",
    "    for dec in decoded:\n",
    "        all_decoded[-1].append(dec[1])\n",
    "        inputs.append(dec[0])\n",
    "\n",
    "print('\\n'.join(\n",
    "    '{} ---> {}'.format(inputs[i], ' / '.join(d[i] for d in all_decoded))\n",
    "                        for i in range(len(inputs))\n",
    "))"
   ]
  },
  {
   "cell_type": "code",
   "execution_count": null,
   "metadata": {
    "collapsed": true
   },
   "outputs": [],
   "source": []
  }
 ],
 "metadata": {
  "kernelspec": {
   "display_name": "Python 3",
   "language": "python",
   "name": "python3"
  },
  "language_info": {
   "codemirror_mode": {
    "name": "ipython",
    "version": 3
   },
   "file_extension": ".py",
   "mimetype": "text/x-python",
   "name": "python",
   "nbconvert_exporter": "python",
   "pygments_lexer": "ipython3",
   "version": "3.6.1"
  }
 },
 "nbformat": 4,
 "nbformat_minor": 2
}
