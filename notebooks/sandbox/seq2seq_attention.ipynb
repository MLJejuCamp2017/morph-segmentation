{
 "cells": [
  {
   "cell_type": "code",
   "execution_count": 1,
   "metadata": {
    "collapsed": true
   },
   "outputs": [],
   "source": [
    "import tensorflow as tf\n",
    "from tensorflow.python.ops import lookup_ops\n",
    "from tensorflow.python.layers import core as layers_core\n",
    "\n",
    "tf.reset_default_graph()"
   ]
  },
  {
   "cell_type": "markdown",
   "metadata": {},
   "source": [
    "# Global parameters"
   ]
  },
  {
   "cell_type": "code",
   "execution_count": 2,
   "metadata": {
    "collapsed": true
   },
   "outputs": [],
   "source": [
    "batch_size = 4\n",
    "beam_width = 9 "
   ]
  },
  {
   "cell_type": "markdown",
   "metadata": {},
   "source": [
    "# Create training data"
   ]
  },
  {
   "cell_type": "code",
   "execution_count": 3,
   "metadata": {
    "collapsed": true
   },
   "outputs": [],
   "source": [
    "with open('/tmp/toy_data.txt', 'w') as data_file:\n",
    "    for _ in range(10000):\n",
    "        data_file.write(\"a b c\\td e f d e f\\n\")\n",
    "        data_file.write(\"d e f\\ta b c a b c\\n\")"
   ]
  },
  {
   "cell_type": "markdown",
   "metadata": {},
   "source": [
    "# Vocabulary as a lookup table"
   ]
  },
  {
   "cell_type": "code",
   "execution_count": 4,
   "metadata": {},
   "outputs": [],
   "source": [
    "vocab = ['PAD', 'UNK', 'EOS', 'SOS'] + list(\"aábcdeéfghijklmnoóöőpqrstuúüűvwxyz-+.\")\n",
    "EOS = 2  # end of sentence\n",
    "SOS = 3  # start of sentence (GO symbol)\n",
    "table = lookup_ops.index_table_from_tensor(tf.constant(vocab), default_value=1)\n",
    "vocab = {k: i for i, k in enumerate(vocab)}\n",
    "vocab_size = len(vocab)\n",
    "\n",
    "table_initializer = tf.tables_initializer()"
   ]
  },
  {
   "cell_type": "markdown",
   "metadata": {},
   "source": [
    "# Reading dataset\n",
    "\n",
    "Format:\n",
    "\n",
    "~~~\n",
    "input TAB output\n",
    "input TAB output\n",
    "~~~"
   ]
  },
  {
   "cell_type": "code",
   "execution_count": 5,
   "metadata": {
    "collapsed": true
   },
   "outputs": [],
   "source": [
    "dataset = tf.contrib.data.TextLineDataset('/tmp/toy_data.txt')\n",
    "dataset = dataset.map(lambda string: tf.string_split([string], delimiter='\\t').values)\n",
    "source = dataset.map(lambda string: string[0])\n",
    "target = dataset.map(lambda string: string[1])\n",
    "\n",
    "source = source.map(lambda string: tf.string_split([string], delimiter=' ').values)\n",
    "source = source.map(lambda words: table.lookup(words))\n",
    "target = target.map(lambda string: tf.string_split([string], delimiter=' ').values)\n",
    "target = target.map(lambda words: table.lookup(words))\n",
    "\n",
    "src_tgt_dataset = tf.contrib.data.Dataset.zip((source, target))\n",
    "src_tgt_dataset = src_tgt_dataset.map(\n",
    "    lambda src, tgt: (src,\n",
    "                      tf.concat(([SOS], tgt), 0),\n",
    "                      tf.concat((tgt, [EOS]), 0),)\n",
    ")\n",
    "src_tgt_dataset = src_tgt_dataset.map(\n",
    "    lambda src, tgt_in, tgt_out: (src, tgt_in, tgt_out, tf.size(src), tf.size(tgt_in))\n",
    ")"
   ]
  },
  {
   "cell_type": "markdown",
   "metadata": {},
   "source": [
    "# Padded batch"
   ]
  },
  {
   "cell_type": "code",
   "execution_count": 6,
   "metadata": {
    "collapsed": true
   },
   "outputs": [],
   "source": [
    "# if I set the third padding shape to the same as the second one,\n",
    "# it fails if there is no maxlen character long sample in the batch\n",
    "# WHY???\n",
    "batched = src_tgt_dataset.padded_batch(batch_size, padded_shapes=(\n",
    "    tf.TensorShape([32]), tf.TensorShape([32]), tf.TensorShape([None]),\n",
    "         tf.TensorShape([]), tf.TensorShape([])))\n",
    "batched_iter = batched.make_initializable_iterator()\n",
    "src_ids, tgt_in_ids, tgt_out_ids, src_size, tgt_size = batched_iter.get_next()"
   ]
  },
  {
   "cell_type": "markdown",
   "metadata": {},
   "source": [
    "# Encoder"
   ]
  },
  {
   "cell_type": "code",
   "execution_count": 7,
   "metadata": {
    "collapsed": true
   },
   "outputs": [],
   "source": [
    "embedding = tf.get_variable(\"embedding\", [vocab_size, 3], dtype=tf.float32)\n",
    "\n",
    "encoder_emb_inp = tf.nn.embedding_lookup(embedding, src_ids)\n",
    "   "
   ]
  },
  {
   "cell_type": "code",
   "execution_count": 8,
   "metadata": {
    "collapsed": true
   },
   "outputs": [],
   "source": [
    "fw_cell = tf.contrib.rnn.BasicLSTMCell(8)\n",
    "bw_cell = tf.contrib.rnn.BasicLSTMCell(8)\n",
    "\n",
    "encoder_outputs, encoder_state = tf.nn.bidirectional_dynamic_rnn(\n",
    "    fw_cell, bw_cell, encoder_emb_inp, dtype=tf.float32, sequence_length=src_size\n",
    ")\n",
    "\n",
    "encoder_outputs = tf.concat(encoder_outputs, -1)\n",
    "#encoder_state = tf.concat(encoder_state, -1)\n",
    "\n",
    "other = tf.contrib.rnn.BasicLSTMCell(16)\n",
    "other_outputs, other_state = tf.nn.dynamic_rnn(other, encoder_outputs, dtype=tf.float32,\n",
    "                                               sequence_length=src_size)\n",
    "\n",
    "#encoder_outputs = other_outputs\n",
    "#encoder_state = other_state\n",
    "#encoder_cell = tf.contrib.rnn.BasicLSTMCell(16)\n",
    "#\n",
    "#encoder_outputs, encoder_state = tf.nn.dynamic_rnn(encoder_cell, encoder_emb_inp, dtype=tf.float32,\n",
    "#                                                   sequence_length=src_size)"
   ]
  },
  {
   "cell_type": "markdown",
   "metadata": {},
   "source": [
    "# Decoder"
   ]
  },
  {
   "cell_type": "code",
   "execution_count": 9,
   "metadata": {},
   "outputs": [],
   "source": [
    "attention = tf.contrib.seq2seq.LuongAttention(16, encoder_outputs,\n",
    "                                              memory_sequence_length=src_size)\n",
    "decoder_cell = tf.contrib.rnn.BasicLSTMCell(16)\n",
    "\n",
    "decoder_cell = tf.contrib.seq2seq.AttentionWrapper(\n",
    "    decoder_cell,\n",
    "    attention,\n",
    "    attention_layer_size=16,\n",
    "    alignment_history=False\n",
    ")\n",
    "decoder_initial_state = decoder_cell.zero_state(batch_size, tf.float32)\n",
    "\n",
    "decoder_emb_inp = tf.nn.embedding_lookup(embedding, tgt_in_ids)\n",
    "helper = tf.contrib.seq2seq.TrainingHelper(decoder_emb_inp, tgt_size)\n",
    "decoder = tf.contrib.seq2seq.BasicDecoder(decoder_cell, helper, decoder_initial_state)\n",
    "outputs, final_context_state, _ = tf.contrib.seq2seq.dynamic_decode(decoder)\n",
    "sample_id = outputs.sample_id\n",
    "output_proj = layers_core.Dense(vocab_size, name=\"output_projection\")\n",
    "logits = output_proj(outputs.rnn_output)"
   ]
  },
  {
   "cell_type": "code",
   "execution_count": 10,
   "metadata": {},
   "outputs": [
    {
     "data": {
      "text/plain": [
       "AttentionWrapperState(cell_state=LSTMStateTuple(c=<tf.Tensor 'AttentionWrapperZeroState/checked_cell_state:0' shape=(4, 16) dtype=float32>, h=<tf.Tensor 'AttentionWrapperZeroState/checked_cell_state_1:0' shape=(4, 16) dtype=float32>), attention=<tf.Tensor 'AttentionWrapperZeroState/zeros_1:0' shape=(4, 16) dtype=float32>, time=<tf.Tensor 'AttentionWrapperZeroState/zeros:0' shape=() dtype=int32>, alignments=<tf.Tensor 'AttentionWrapperZeroState/zeros_2:0' shape=(4, 32) dtype=float32>, alignment_history=())"
      ]
     },
     "execution_count": 10,
     "metadata": {},
     "output_type": "execute_result"
    }
   ],
   "source": [
    "decoder_initial_state"
   ]
  },
  {
   "cell_type": "markdown",
   "metadata": {},
   "source": [
    "# Loss"
   ]
  },
  {
   "cell_type": "code",
   "execution_count": 11,
   "metadata": {
    "collapsed": true
   },
   "outputs": [],
   "source": [
    "crossent = tf.nn.sparse_softmax_cross_entropy_with_logits(labels=tgt_out_ids, logits=logits)\n",
    "target_weights = tf.sequence_mask(tgt_size, tf.shape(tgt_out_ids)[1], tf.float32)\n",
    "loss = tf.reduce_sum(crossent * target_weights) / tf.to_float(5)"
   ]
  },
  {
   "cell_type": "markdown",
   "metadata": {},
   "source": [
    "# Optimizer and gradient update"
   ]
  },
  {
   "cell_type": "code",
   "execution_count": 12,
   "metadata": {
    "collapsed": true
   },
   "outputs": [],
   "source": [
    "#optimizer =tf.train.MomentumOptimizer(0.1, 0.9)\n",
    "optimizer =tf.train.AdamOptimizer(0.1)\n",
    "#optimizer =tf.train.RMSPropOptimizer(0.1)\n",
    "params = tf.trainable_variables()\n",
    "gradients = tf.gradients(loss, params)\n",
    "update = optimizer.apply_gradients(zip(gradients, params))"
   ]
  },
  {
   "cell_type": "markdown",
   "metadata": {},
   "source": [
    "# Greedy decoding with `GreedyEmbeddingHelper`\n",
    "\n",
    "The encoder stays the same but we need to redefine the decoder."
   ]
  },
  {
   "cell_type": "code",
   "execution_count": 13,
   "metadata": {
    "collapsed": true
   },
   "outputs": [],
   "source": [
    "greedy_helper = tf.contrib.seq2seq.GreedyEmbeddingHelper(embedding, tf.fill([batch_size], SOS),\n",
    "                                                         EOS)\n",
    "greedy_attention = tf.contrib.seq2seq.LuongAttention(16, encoder_outputs,\n",
    "                                              memory_sequence_length=src_size)\n",
    "\n",
    "greedy_decoder_cell = tf.contrib.rnn.BasicLSTMCell(16)\n",
    "greedy_decoder_cell = tf.contrib.seq2seq.AttentionWrapper(\n",
    "    greedy_decoder_cell,\n",
    "    greedy_attention,\n",
    "    attention_layer_size=16,\n",
    "    alignment_history=True\n",
    ")\n",
    "greedy_decoder_initial_state = greedy_decoder_cell.zero_state(\n",
    "    batch_size, tf.float32).clone(cell_state=encoder_state )\n",
    "\n",
    "greedy_decoder = tf.contrib.seq2seq.BasicDecoder(decoder_cell, helper, decoder_initial_state,\n",
    "                                         output_layer=output_proj)\n",
    "\n",
    "greedy_outputs, _, _ = tf.contrib.seq2seq.dynamic_decode(greedy_decoder, maximum_iterations=10)"
   ]
  },
  {
   "cell_type": "markdown",
   "metadata": {},
   "source": [
    "# Beam search decoding"
   ]
  },
  {
   "cell_type": "code",
   "execution_count": 14,
   "metadata": {},
   "outputs": [
    {
     "data": {
      "text/plain": [
       "'\\nbeam_memory = tf.contrib.seq2seq.tile_batch(encoder_outputs, multiplier=beam_width)\\nbeam_src_size = tf.contrib.seq2seq.tile_batch(src_size, multiplier=beam_width)\\n\\nbeam_attention = tf.contrib.seq2seq.LuongAttention(16, beam_memory,\\n                                              memory_sequence_length=beam_src_size)\\nbeam_encoder_state = tf.contrib.seq2seq.tile_batch(encoder_state, multiplier=beam_width)\\n\\nbeam_decoder_cell = tf.contrib.rnn.BasicLSTMCell(16)\\nbeam_decoder_cell = tf.contrib.seq2seq.AttentionWrapper(\\n    beam_decoder_cell,\\n    beam_attention,\\n    attention_layer_size=16,\\n    alignment_history=False\\n)\\n#beam_decoder_cell = tf.contrib.rnn.DeviceWrapper(beam_decoder_cell, device=\"/cpu:0\")\\nstart_tokens = tf.fill([batch_size], SOS)\\n\\n\\nbeam_decoder_initial_state = beam_decoder_cell.zero_state(\\n    batch_size * beam_width, tf.float32).clone(\\n    cell_state=beam_encoder_state\\n)\\n\\nbeam_decoder = tf.contrib.seq2seq.BeamSearchDecoder(\\n    cell=beam_decoder_cell,\\n    embedding=embedding,\\n    start_tokens=start_tokens,\\n    initial_state=beam_decoder_initial_state,\\n    beam_width=beam_width,\\n    output_layer=output_proj,\\n    end_token=EOS,\\n)\\nbeam_outputs, _, _ = tf.contrib.seq2seq.dynamic_decode(beam_decoder, maximum_iterations=10)\\n'"
      ]
     },
     "execution_count": 14,
     "metadata": {},
     "output_type": "execute_result"
    }
   ],
   "source": [
    "\"\"\"\n",
    "beam_memory = tf.contrib.seq2seq.tile_batch(encoder_outputs, multiplier=beam_width)\n",
    "beam_src_size = tf.contrib.seq2seq.tile_batch(src_size, multiplier=beam_width)\n",
    "\n",
    "beam_attention = tf.contrib.seq2seq.LuongAttention(16, beam_memory,\n",
    "                                              memory_sequence_length=beam_src_size)\n",
    "beam_encoder_state = tf.contrib.seq2seq.tile_batch(encoder_state, multiplier=beam_width)\n",
    "\n",
    "beam_decoder_cell = tf.contrib.rnn.BasicLSTMCell(16)\n",
    "beam_decoder_cell = tf.contrib.seq2seq.AttentionWrapper(\n",
    "    beam_decoder_cell,\n",
    "    beam_attention,\n",
    "    attention_layer_size=16,\n",
    "    alignment_history=False\n",
    ")\n",
    "#beam_decoder_cell = tf.contrib.rnn.DeviceWrapper(beam_decoder_cell, device=\"/cpu:0\")\n",
    "start_tokens = tf.fill([batch_size], SOS)\n",
    "\n",
    "\n",
    "beam_decoder_initial_state = beam_decoder_cell.zero_state(\n",
    "    batch_size * beam_width, tf.float32).clone(\n",
    "    cell_state=beam_encoder_state\n",
    ")\n",
    "\n",
    "beam_decoder = tf.contrib.seq2seq.BeamSearchDecoder(\n",
    "    cell=beam_decoder_cell,\n",
    "    embedding=embedding,\n",
    "    start_tokens=start_tokens,\n",
    "    initial_state=beam_decoder_initial_state,\n",
    "    beam_width=beam_width,\n",
    "    output_layer=output_proj,\n",
    "    end_token=EOS,\n",
    ")\n",
    "beam_outputs, _, _ = tf.contrib.seq2seq.dynamic_decode(beam_decoder, maximum_iterations=10)\n",
    "\"\"\""
   ]
  },
  {
   "cell_type": "markdown",
   "metadata": {},
   "source": [
    "# Starting session"
   ]
  },
  {
   "cell_type": "code",
   "execution_count": 15,
   "metadata": {
    "collapsed": true
   },
   "outputs": [],
   "source": [
    "sess = tf.InteractiveSession()\n",
    "sess.run(table_initializer)\n",
    "sess.run(batched_iter.initializer)\n",
    "sess.run(tf.global_variables_initializer())"
   ]
  },
  {
   "cell_type": "markdown",
   "metadata": {},
   "source": [
    "# Training"
   ]
  },
  {
   "cell_type": "code",
   "execution_count": 16,
   "metadata": {},
   "outputs": [
    {
     "name": "stdout",
     "output_type": "stream",
     "text": [
      "Iteration: 10, training loss: 8.901555061340332\n",
      "Iteration: 20, training loss: 5.586587905883789\n",
      "Iteration: 30, training loss: 3.339617967605591\n",
      "Iteration: 40, training loss: 1.880027174949646\n",
      "Iteration: 50, training loss: 0.7130416035652161\n",
      "Iteration: 60, training loss: 1.0728628635406494\n",
      "Iteration: 70, training loss: 6.814558506011963\n",
      "Iteration: 80, training loss: 1.8322842121124268\n",
      "Iteration: 90, training loss: 1.224880337715149\n",
      "Iteration: 100, training loss: 1.2833908796310425\n"
     ]
    }
   ],
   "source": [
    "for i in range(100):\n",
    "    sess.run(update)\n",
    "    l = sess.run(loss)\n",
    "    if i % 10 == 9:\n",
    "        print(\"Iteration: {}, training loss: {}\".format(i+1, l))"
   ]
  },
  {
   "cell_type": "code",
   "execution_count": null,
   "metadata": {
    "collapsed": true
   },
   "outputs": [],
   "source": []
  },
  {
   "cell_type": "markdown",
   "metadata": {},
   "source": [
    "# Manual greedy decoding\n",
    "\n",
    "NOTE: running logits iterates over the next batch in the dataset, so running this cell multiple times decodes a different batch in the dataset."
   ]
  },
  {
   "cell_type": "code",
   "execution_count": 17,
   "metadata": {
    "collapsed": true
   },
   "outputs": [],
   "source": [
    "inv_vocab = {v: k for k, v in vocab.items()}\n",
    "inv_vocab[-1] = 'UNK'\n",
    "skip_symbols = ('PAD', 'SOS', 'EOS', 'UNK')"
   ]
  },
  {
   "cell_type": "markdown",
   "metadata": {},
   "source": [
    "## Input and output labels\n",
    "\n",
    "Greed: just take the highest probabilty along the last axis."
   ]
  },
  {
   "cell_type": "code",
   "execution_count": 18,
   "metadata": {},
   "outputs": [
    {
     "data": {
      "text/plain": [
       "(4, 7)"
      ]
     },
     "execution_count": 18,
     "metadata": {},
     "output_type": "execute_result"
    }
   ],
   "source": [
    "input_ids, out_probs = sess.run([src_ids, logits])\n",
    "output_ids = out_probs.argmax(axis=-1)\n",
    "\n",
    "output_ids.shape"
   ]
  },
  {
   "cell_type": "markdown",
   "metadata": {},
   "source": [
    "## Convert labels to characters"
   ]
  },
  {
   "cell_type": "code",
   "execution_count": 19,
   "metadata": {},
   "outputs": [
    {
     "name": "stdout",
     "output_type": "stream",
     "text": [
      "abc ---> defdef\n",
      "def ---> abcabca\n",
      "abc ---> defdef\n",
      "def ---> abcabca\n"
     ]
    }
   ],
   "source": [
    "def decode_ids(input_ids, output_ids):\n",
    "    decoded = []\n",
    "    for sample_i in range(output_ids.shape[0]):\n",
    "        input_sample = input_ids[sample_i]\n",
    "        output_sample = output_ids[sample_i]\n",
    "        input_decoded = [inv_vocab[s] for s in input_sample]\n",
    "        input_decoded = ''.join(c for c in input_decoded if c not in skip_symbols)\n",
    "        output_decoded = [inv_vocab[s] for s in output_sample]\n",
    "        output_decoded = ''.join(c for c in output_decoded if c not in skip_symbols)\n",
    "        decoded.append((input_decoded, output_decoded))\n",
    "    return decoded\n",
    " \n",
    "decoded = decode_ids(input_ids, output_ids)\n",
    "print('\\n'.join(\n",
    "    '{} ---> {}'.format(dec[0], dec[1]) for dec in decoded\n",
    "))"
   ]
  },
  {
   "cell_type": "markdown",
   "metadata": {},
   "source": [
    "# Run greedy inference"
   ]
  },
  {
   "cell_type": "code",
   "execution_count": 20,
   "metadata": {},
   "outputs": [
    {
     "name": "stdout",
     "output_type": "stream",
     "text": [
      "abc ---> defdef\n",
      "def ---> abcabca\n",
      "abc ---> defdef\n",
      "def ---> abcabca\n"
     ]
    }
   ],
   "source": [
    "input_ids, output_ids, logits = sess.run([src_ids, greedy_outputs.sample_id,\n",
    "                                          greedy_outputs.rnn_output])\n",
    "decoded = decode_ids(input_ids, output_ids)\n",
    "print('\\n'.join(\n",
    "    '{} ---> {}'.format(dec[0], dec[1]) for dec in decoded\n",
    "))"
   ]
  },
  {
   "cell_type": "code",
   "execution_count": 21,
   "metadata": {},
   "outputs": [
    {
     "data": {
      "text/plain": [
       "(4, 7, 41)"
      ]
     },
     "execution_count": 21,
     "metadata": {},
     "output_type": "execute_result"
    }
   ],
   "source": [
    "logits.shape"
   ]
  },
  {
   "cell_type": "markdown",
   "metadata": {},
   "source": [
    "# Run beam search inference"
   ]
  },
  {
   "cell_type": "code",
   "execution_count": 22,
   "metadata": {},
   "outputs": [
    {
     "ename": "NameError",
     "evalue": "name 'beam_outputs' is not defined",
     "output_type": "error",
     "traceback": [
      "\u001b[0;31m---------------------------------------------------------------------------\u001b[0m",
      "\u001b[0;31mNameError\u001b[0m                                 Traceback (most recent call last)",
      "\u001b[0;32m<ipython-input-22-f217cdc2e6a4>\u001b[0m in \u001b[0;36m<module>\u001b[0;34m()\u001b[0m\n\u001b[1;32m      1\u001b[0m \u001b[0;34m\"\"\"\"\"\"\u001b[0m\u001b[0;34m\u001b[0m\u001b[0m\n\u001b[0;32m----> 2\u001b[0;31m \u001b[0minput_ids\u001b[0m\u001b[0;34m,\u001b[0m \u001b[0moutput_ids\u001b[0m \u001b[0;34m=\u001b[0m \u001b[0msess\u001b[0m\u001b[0;34m.\u001b[0m\u001b[0mrun\u001b[0m\u001b[0;34m(\u001b[0m\u001b[0;34m[\u001b[0m\u001b[0msrc_ids\u001b[0m\u001b[0;34m,\u001b[0m \u001b[0mbeam_outputs\u001b[0m\u001b[0;34m.\u001b[0m\u001b[0mpredicted_ids\u001b[0m\u001b[0;34m]\u001b[0m\u001b[0;34m)\u001b[0m\u001b[0;34m\u001b[0m\u001b[0m\n\u001b[0m\u001b[1;32m      3\u001b[0m \u001b[0moutput_ids\u001b[0m\u001b[0;34m\u001b[0m\u001b[0m\n\u001b[1;32m      4\u001b[0m \u001b[0;34m\u001b[0m\u001b[0m\n\u001b[1;32m      5\u001b[0m \u001b[0mall_decoded\u001b[0m \u001b[0;34m=\u001b[0m \u001b[0;34m[\u001b[0m\u001b[0;34m]\u001b[0m\u001b[0;34m\u001b[0m\u001b[0m\n",
      "\u001b[0;31mNameError\u001b[0m: name 'beam_outputs' is not defined"
     ]
    }
   ],
   "source": [
    "\"\"\"\"\"\"\n",
    "input_ids, output_ids = sess.run([src_ids, beam_outputs.predicted_ids])\n",
    "output_ids\n",
    "\n",
    "all_decoded = []\n",
    "for beam_i in range(beam_width):\n",
    "    inputs = []\n",
    "    all_decoded.append([])\n",
    "    decoded = decode_ids(input_ids, output_ids[:,:,beam_i])\n",
    "    for dec in decoded:\n",
    "        all_decoded[-1].append(dec[1])\n",
    "        inputs.append(dec[0])\n",
    "\n",
    "print('\\n'.join(\n",
    "    '{} ---> {}'.format(inputs[i], ' / '.join(d[i] for d in all_decoded))\n",
    "                        for i in range(len(inputs))\n",
    "))"
   ]
  },
  {
   "cell_type": "code",
   "execution_count": null,
   "metadata": {
    "collapsed": true
   },
   "outputs": [],
   "source": []
  },
  {
   "cell_type": "code",
   "execution_count": null,
   "metadata": {
    "collapsed": true
   },
   "outputs": [],
   "source": []
  },
  {
   "cell_type": "code",
   "execution_count": null,
   "metadata": {
    "collapsed": true
   },
   "outputs": [],
   "source": []
  }
 ],
 "metadata": {
  "kernelspec": {
   "display_name": "Python 3",
   "language": "python",
   "name": "python3"
  },
  "language_info": {
   "codemirror_mode": {
    "name": "ipython",
    "version": 3
   },
   "file_extension": ".py",
   "mimetype": "text/x-python",
   "name": "python",
   "nbconvert_exporter": "python",
   "pygments_lexer": "ipython3",
   "version": "3.6.1"
  }
 },
 "nbformat": 4,
 "nbformat_minor": 2
}
