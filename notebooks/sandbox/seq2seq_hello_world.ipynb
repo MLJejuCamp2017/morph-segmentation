{
 "cells": [
  {
   "cell_type": "code",
   "execution_count": 413,
   "metadata": {
    "collapsed": true,
    "deletable": true,
    "editable": true
   },
   "outputs": [],
   "source": [
    "import tensorflow as tf\n",
    "from tensorflow.python.ops import lookup_ops\n",
    "from tensorflow.python.layers import core as layers_core\n",
    "\n",
    "tf.reset_default_graph()"
   ]
  },
  {
   "cell_type": "markdown",
   "metadata": {
    "deletable": true,
    "editable": true
   },
   "source": [
    "# Create training data"
   ]
  },
  {
   "cell_type": "code",
   "execution_count": 414,
   "metadata": {
    "collapsed": true,
    "deletable": true,
    "editable": true
   },
   "outputs": [],
   "source": [
    "with open('/tmp/toy_data.txt', 'w') as data_file:\n",
    "    for _ in range(1000):\n",
    "        data_file.write(\"a b c\\td e f d e f\\n\")\n",
    "        data_file.write(\"d e f\\ta b c a b c\\n\")"
   ]
  },
  {
   "cell_type": "markdown",
   "metadata": {
    "deletable": true,
    "editable": true
   },
   "source": [
    "# Vocabulary as a lookup table"
   ]
  },
  {
   "cell_type": "code",
   "execution_count": 415,
   "metadata": {
    "collapsed": true,
    "deletable": true,
    "editable": true
   },
   "outputs": [],
   "source": [
    "vocab = ['PAD', 'EOS', 'SOS'] + list(\"aábcdef\")\n",
    "vocab = ['UNK', 'PAD', 'EOS', 'SOS'] + list(\"aábcdeéfghijklmnoóöőpqrstuúüűvwxyz-+.\")\n",
    "\n",
    "EOS = 1  # end of sentence\n",
    "SOS = 2  # start of sentence (GO symbol)\n",
    "table = lookup_ops.index_table_from_tensor(tf.constant(vocab), default_value=0)\n",
    "vocab = {k: i for i, k in enumerate(vocab)}\n",
    "vocab_size = len(vocab)\n",
    "\n",
    "table_initializer = tf.tables_initializer()"
   ]
  },
  {
   "cell_type": "code",
   "execution_count": 416,
   "metadata": {
    "collapsed": true
   },
   "outputs": [],
   "source": [
    "batch_size = 100\n",
    "lstm_size = 256"
   ]
  },
  {
   "cell_type": "markdown",
   "metadata": {
    "deletable": true,
    "editable": true
   },
   "source": [
    "# Reading dataset\n",
    "\n",
    "Format:\n",
    "\n",
    "~~~\n",
    "input TAB output\n",
    "input TAB output\n",
    "~~~"
   ]
  },
  {
   "cell_type": "code",
   "execution_count": 417,
   "metadata": {
    "collapsed": true,
    "deletable": true,
    "editable": true
   },
   "outputs": [],
   "source": [
    "#dataset = tf.contrib.data.TextLineDataset('/tmp/toy_data.txt')\n",
    "dataset = tf.contrib.data.TextLineDataset('../../data/webcorp/webcorp.exploded.100k')\n",
    "dataset = dataset.map(lambda string: tf.string_split([string], delimiter='\\t').values)\n",
    "source = dataset.map(lambda string: string[0])\n",
    "target = dataset.map(lambda string: string[1])\n",
    "\n",
    "source = source.map(lambda string: tf.string_split([string], delimiter=' ').values)\n",
    "source = source.map(lambda words: table.lookup(words))\n",
    "target = target.map(lambda string: tf.string_split([string], delimiter=' ').values)\n",
    "target = target.map(lambda words: table.lookup(words))\n",
    "\n",
    "src_tgt_dataset = tf.contrib.data.Dataset.zip((source, target))\n",
    "src_tgt_dataset = src_tgt_dataset.map(\n",
    "    lambda src, tgt: (src,\n",
    "                      tf.concat(([SOS], tgt), 0),\n",
    "                      tf.concat((tgt, [EOS]), 0),)\n",
    ")\n",
    "src_tgt_dataset = src_tgt_dataset.map(\n",
    "    lambda src, tgt_in, tgt_out: (src, tgt_in, tgt_out, tf.size(src), tf.size(tgt_in))\n",
    ")"
   ]
  },
  {
   "cell_type": "markdown",
   "metadata": {
    "deletable": true,
    "editable": true
   },
   "source": [
    "# Padded batch"
   ]
  },
  {
   "cell_type": "code",
   "execution_count": 418,
   "metadata": {
    "collapsed": true,
    "deletable": true,
    "editable": true
   },
   "outputs": [],
   "source": [
    "# if I set the third padding shape to tf.TensorShape([5]),\n",
    "# it fails if there is no 4 character long sample in the batch\n",
    "# WHY???\n",
    "batched = src_tgt_dataset.padded_batch(batch_size, padded_shapes=(\n",
    "    tf.TensorShape([32]), tf.TensorShape([32]), tf.TensorShape([None]),\n",
    "         tf.TensorShape([]), tf.TensorShape([])))\n",
    "batched_iter = batched.make_initializable_iterator()\n",
    "src_ids, tgt_in_ids, tgt_out_ids, src_size, tgt_size = batched_iter.get_next()"
   ]
  },
  {
   "cell_type": "markdown",
   "metadata": {
    "deletable": true,
    "editable": true
   },
   "source": [
    "# Encoder"
   ]
  },
  {
   "cell_type": "code",
   "execution_count": 419,
   "metadata": {
    "collapsed": true,
    "deletable": true,
    "editable": true
   },
   "outputs": [],
   "source": [
    "embedding = tf.get_variable(\"embedding\", [vocab_size, 20], dtype=tf.float32)\n",
    "\n",
    "encoder_emb_inp = tf.nn.embedding_lookup(embedding, src_ids)\n",
    "    \n",
    "encoder_cell = tf.contrib.rnn.BasicLSTMCell(lstm_size)\n",
    "\n",
    "encoder_outputs, encoder_state = tf.nn.dynamic_rnn(encoder_cell, encoder_emb_inp, dtype=tf.float32,\n",
    "                                                   sequence_length=src_size)"
   ]
  },
  {
   "cell_type": "markdown",
   "metadata": {
    "deletable": true,
    "editable": true
   },
   "source": [
    "# Decoder"
   ]
  },
  {
   "cell_type": "code",
   "execution_count": 420,
   "metadata": {
    "collapsed": true,
    "deletable": true,
    "editable": true
   },
   "outputs": [],
   "source": [
    "decoder_initial_state = encoder_state\n",
    "decoder_cell = tf.contrib.rnn.BasicLSTMCell(lstm_size)\n",
    "decoder_emb_inp = tf.nn.embedding_lookup(embedding, tgt_in_ids)\n",
    "helper = tf.contrib.seq2seq.TrainingHelper(decoder_emb_inp, tgt_size)\n",
    "decoder = tf.contrib.seq2seq.BasicDecoder(decoder_cell, helper, decoder_initial_state)\n",
    "outputs, final_context_state, _ = tf.contrib.seq2seq.dynamic_decode(decoder)\n",
    "sample_id = outputs.sample_id\n",
    "output_proj = layers_core.Dense(vocab_size, name=\"output_projection\")\n",
    "logits = output_proj(outputs.rnn_output)"
   ]
  },
  {
   "cell_type": "markdown",
   "metadata": {
    "deletable": true,
    "editable": true
   },
   "source": [
    "# Loss"
   ]
  },
  {
   "cell_type": "code",
   "execution_count": 421,
   "metadata": {
    "collapsed": true,
    "deletable": true,
    "editable": true
   },
   "outputs": [],
   "source": [
    "crossent = tf.nn.sparse_softmax_cross_entropy_with_logits(labels=tgt_out_ids, logits=logits)\n",
    "target_weights = tf.sequence_mask(tgt_size, tf.shape(tgt_out_ids)[1], tf.float32)\n",
    "loss = tf.reduce_sum(crossent * target_weights) / tf.to_float(batch_size)"
   ]
  },
  {
   "cell_type": "markdown",
   "metadata": {
    "deletable": true,
    "editable": true
   },
   "source": [
    "# Optimizer and gradient update"
   ]
  },
  {
   "cell_type": "code",
   "execution_count": 422,
   "metadata": {
    "collapsed": true,
    "deletable": true,
    "editable": true
   },
   "outputs": [],
   "source": [
    "optimizer =tf.train.AdamOptimizer(0.1)\n",
    "params = tf.trainable_variables()\n",
    "gradients = tf.gradients(loss, params)\n",
    "update = optimizer.apply_gradients(zip(gradients, params))"
   ]
  },
  {
   "cell_type": "markdown",
   "metadata": {
    "deletable": true,
    "editable": true
   },
   "source": [
    "# Starting session"
   ]
  },
  {
   "cell_type": "code",
   "execution_count": 423,
   "metadata": {
    "collapsed": true,
    "deletable": true,
    "editable": true
   },
   "outputs": [],
   "source": [
    "sess = tf.InteractiveSession()\n",
    "sess.run(table_initializer)\n",
    "sess.run(batched_iter.initializer)\n",
    "sess.run(tf.global_variables_initializer())"
   ]
  },
  {
   "cell_type": "markdown",
   "metadata": {
    "deletable": true,
    "editable": true
   },
   "source": [
    "# Training"
   ]
  },
  {
   "cell_type": "code",
   "execution_count": 424,
   "metadata": {
    "collapsed": false,
    "deletable": true,
    "editable": true
   },
   "outputs": [
    {
     "name": "stdout",
     "output_type": "stream",
     "text": [
      "Iteration: 100, training loss: 37.884029388427734\n",
      "Iteration: 200, training loss: 34.82209396362305\n",
      "Iteration: 300, training loss: 35.557891845703125\n",
      "Iteration: 400, training loss: 35.57179260253906\n",
      "Iteration: 500, training loss: 35.73652267456055\n"
     ]
    }
   ],
   "source": [
    "for i in range(500):\n",
    "    sess.run(update)\n",
    "    l = sess.run(loss)\n",
    "    if i % 100 == 99:\n",
    "        print(\"Iteration: {}, training loss: {}\".format(i+1, l))"
   ]
  },
  {
   "cell_type": "code",
   "execution_count": 425,
   "metadata": {
    "collapsed": false
   },
   "outputs": [],
   "source": [
    "#s, t1, t2 = sess.run([src_ids, tgt_in_ids, tgt_out_ids])"
   ]
  },
  {
   "cell_type": "markdown",
   "metadata": {
    "deletable": true,
    "editable": true
   },
   "source": [
    "# Manual greedy decoding\n",
    "\n",
    "NOTE: running logits iterates over the next batch in the dataset, so running this cell multiple times decodes a different batch in the dataset."
   ]
  },
  {
   "cell_type": "code",
   "execution_count": 426,
   "metadata": {
    "collapsed": true,
    "deletable": true,
    "editable": true
   },
   "outputs": [],
   "source": [
    "inv_vocab = {v: k for k, v in vocab.items()}\n",
    "inv_vocab[-1] = 'UNK'\n",
    "skip_symbols = ('PAD', 'SOS', 'EOS', 'UNK')"
   ]
  },
  {
   "cell_type": "markdown",
   "metadata": {
    "deletable": true,
    "editable": true
   },
   "source": [
    "## Input and output labels\n",
    "\n",
    "Greed: just take the highest probabilty along the last axis."
   ]
  },
  {
   "cell_type": "code",
   "execution_count": 427,
   "metadata": {
    "collapsed": false,
    "deletable": true,
    "editable": true
   },
   "outputs": [
    {
     "data": {
      "text/plain": [
       "(100, 27)"
      ]
     },
     "execution_count": 427,
     "metadata": {},
     "output_type": "execute_result"
    }
   ],
   "source": [
    "input_ids, out_probs = sess.run([src_ids, logits])\n",
    "output_ids = out_probs.argmax(axis=-1)\n",
    "\n",
    "output_ids.shape"
   ]
  },
  {
   "cell_type": "markdown",
   "metadata": {
    "deletable": true,
    "editable": true
   },
   "source": [
    "## Convert labels to characters"
   ]
  },
  {
   "cell_type": "code",
   "execution_count": 428,
   "metadata": {
    "collapsed": false,
    "deletable": true,
    "editable": true
   },
   "outputs": [
    {
     "name": "stdout",
     "output_type": "stream",
     "text": [
      "fiúpóló ---> fek+sa++\n",
      "tiblábolnak ---> kekee+ar+ak\n",
      "vzhiányai ---> faj+áas+y+ok\n",
      "szerszámot. ---> kze++féer+rk+.\n",
      "hévégén ---> fas+s+k\n",
      "fantastic-álás ---> fely+t+aks+s++\n",
      "cenzúrájuk ---> fs+++l++kák\n",
      "normann-szaracén ---> kakt+l++á+káak++sk\n",
      "felemelhetetlen ---> fel+fk+l+éel+t+et\n",
      "sósavmentes ---> kz+s+l+áely+l\n",
      "hadifoglyaikat ---> fat+kor+aákk++ok\n",
      "lógatjátok ---> ke++++áá++k\n",
      "legvitathatóbb ---> ker+fes+++áat++ka\n",
      "hangtomptást ---> fat++kar+or+ás+t\n",
      "eurócentre ---> klk++ks+++óa\n",
      "alapgesztusának ---> kl+t+áyl+++k+s+rak\n",
      "orgonaiskolát ---> klt+ryts+++r++k\n",
      "vegyületettel ---> fal++l+t+t++t\n",
      "reprodukálhassák ---> ker+ek+s+++áat+oá+\n",
      "tudásszigetként ---> kek+ás+sáákyl+áak+\n",
      "főrendszerekre ---> fe+se+++ézer+fk+re\n",
      "végesbe ---> fag+sk+eő\n",
      "rótehetségek ---> kt+á+salan++g+ok\n",
      "anarchistáknál. ---> klyt+sak+a+k+ra++.\n",
      "szolgáltatásformát ---> kzer++++áak+ás+sor+++k\n",
      "ismeret.tény ---> kns+l+t+hery\n",
      "nyencfalattal ---> kt++l+sfel+t+áak\n",
      "megbánássá ---> feg+fe+yss+oa\n",
      "biciklizőket ---> fekskeeks+é+s+rk\n",
      "tejbolt ---> ke+tfer+\n",
      "lexiconban ---> ker+kskyan\n",
      "főfontosságot ---> fe+sery+ák+ság+ok\n",
      "jogegyenlőstését ---> kák+kk++k++++t+ás+o+t\n",
      "segts. ---> kzg+t+óéi\n",
      "kéretés ---> kip+fk+es\n",
      "levezetnünk ---> kersel+t+éekk\n",
      "sequentiával ---> kzgosl++k++t\n",
      "kategoriákon ---> kir+t+r+k++n\n",
      "mellékfeladatok ---> feg+ek+sel+t+l+ók\n",
      "vezércikkszólamain ---> fal+s+fsk++rze++t+ok+k\n",
      "légi-úton ---> kep+s+s+r++kk\n",
      "iskola-faktorhoz ---> knser+ts+kol+ák+kak\n",
      "fényinél. ---> fepy+f+sek+.\n",
      "hólyagunkon ---> fa+++++kkk+ok\n",
      "rózsatanya ---> ke++zlsak++\n",
      "énekszol- ---> kryt+ééer+.\n",
      "szkeletális ---> kzear+t+++k\n",
      "gondozandó. ---> kyry+ák+ái+++k\n",
      "börtönödet ---> fer++s+sk+ek\n",
      "tudományról- ---> kek+r++y+kal+.\n",
      "jellemtulajdonságokban ---> ká++et+éek+t+aryáág+sk+rón\n",
      "járványról ---> ká++aly+kal\n",
      "avatótáblájára ---> kla++á+sal+++ká+ka\n",
      "illetménytarifák ---> kn+et++sy+fe+++e+k\n",
      "ujjéptési ---> kntófs+rt+ás+t\n",
      "elefántháznak ---> kl+te+y+áal+áak\n",
      "hálátlant ---> fal++kaak+.\n",
      "válaszkategóriából ---> fal+t+táal+t++ak+kal\n",
      "bértalicskáját ---> fep+fe++ksao+ká+k\n",
      "ajánlottak.ki ---> klt+y+k++t+aa\n",
      "tagozat-kód ---> ker+r+t+á+ka+\n",
      "helyiértékekre ---> fal++kk++k+l+a\n",
      "ráismerését ---> kerk+++l+ks+o+t\n",
      "egzekválom ---> kly+t+al+ók\n",
      "kiteljestheti. ---> kikse++ekzst+áal+ó+k\n",
      "dekonstruálásához ---> fir+ry+aak++ás+s+rak\n",
      "böjtöthetente ---> fert+s+el+t++\n",
      "biztostórugói ---> fek++k+st+á+sók++k\n",
      "gyümölcsfajnál ---> kyel+s+sasel+kal\n",
      "energiaár-robbanással ---> kltk++k+s++s+kakaa++ás+oák\n",
      "zénon ---> kepyk\n",
      "amatőrfilmezést ---> kl+t+++ok++l+k+\n",
      "iránymutatókon ---> kne+y+kel+t++k+ok\n",
      "pr-csoportot ---> frof+fseror++ók\n",
      "oromfrzt ---> kltk+áoot+.\n",
      "szakfeladatokat ---> kze++áel+t+l+ák+rk\n",
      "lakássejtekkel ---> kep+ás+sál++ák+ral\n",
      "emelintgette ---> kl+l+ks+éyl+ee\n",
      "vezető-edzője ---> fal+t+é+s+rk+++ka\n",
      "elosztóeszközök ---> kl+ék+t+á+sk+++r+ók\n",
      "rendőrakadémiáról ---> ker++é++fk+l+k+n+kal\n",
      "elgurulását ---> kl+éyk+k+ás+o+t\n",
      "személyeskedésben ---> kze++s++fk+sél+és+sen\n",
      "káliumadagokkal ---> kir+kk+ás+t+ák+ral\n",
      "rébuszainkat ---> kep+k+tái+k+ok\n",
      "keresztülvergődik ---> kirtt+t+l+áal++++ó+\n",
      "galavljov ---> kyr+taaak\n",
      "kitáncolnak. ---> kikserysr+áak+k\n",
      "lite-hu ---> keker+a\n",
      "makulálatlanul ---> feg+s+++t+ak+k\n",
      "csurdogáló ---> fsek++r+++.\n",
      "lakástűzre ---> kep+ás+sa++óa\n",
      "kábeltévéktől ---> kir+r+áap+kk+ra+\n",
      "halottbúcsúztatókat ---> fat+k++áarsa+++t++k+ok\n",
      "hotel-szoba ---> far+t+á+káara\n",
      "főnökömet. ---> fe+yk+sk+sk+.\n",
      "grémiumaira ---> kyop+sk+ás+ka\n",
      "fogadra. ---> fer+kk+áakt\n",
      "jelszünetek ---> ká++ééeltt+ók\n",
      "üvegkorsót ---> klal+kértká+t\n"
     ]
    }
   ],
   "source": [
    "def decode_ids(input_ids, output_ids):\n",
    "    decoded = []\n",
    "    for sample_i in range(output_ids.shape[0]):\n",
    "        input_sample = input_ids[sample_i]\n",
    "        output_sample = output_ids[sample_i]\n",
    "        input_decoded = [inv_vocab[s] for s in input_sample]\n",
    "        input_decoded = ''.join(c for c in input_decoded if c not in skip_symbols)\n",
    "        output_decoded = [inv_vocab[s] for s in output_sample]\n",
    "        output_decoded = ''.join(c for c in output_decoded if c not in skip_symbols)\n",
    "        decoded.append((input_decoded, output_decoded))\n",
    "    return decoded\n",
    " \n",
    "decoded = decode_ids(input_ids, output_ids)\n",
    "print('\\n'.join(\n",
    "    '{} ---> {}'.format(dec[0], dec[1]) for dec in decoded\n",
    "))"
   ]
  },
  {
   "cell_type": "code",
   "execution_count": 433,
   "metadata": {
    "collapsed": true
   },
   "outputs": [],
   "source": [
    "a, b, c = sess.run([src_ids, tgt_in_ids, tgt_out_ids])"
   ]
  },
  {
   "cell_type": "code",
   "execution_count": 435,
   "metadata": {
    "collapsed": false
   },
   "outputs": [
    {
     "data": {
      "text/plain": [
       "array([[11, 23, 27, 37,  9, 26, 16,  9, 27, 37, 28,  9, 28, 28,  9, 18,  0,\n",
       "         0,  0,  0,  0,  0,  0,  0,  0,  0,  0,  0,  0,  0,  0,  0],\n",
       "       [16, 10, 27, 37, 31, 17, 28, 22, 18,  6,  9, 19,  0,  0,  0,  0,  0,\n",
       "         0,  0,  0,  0,  0,  0,  0,  0,  0,  0,  0,  0,  0,  0,  0],\n",
       "       [26,  4, 11, 11, 14, 19,  5, 28, 29, 18,  0,  0,  0,  0,  0,  0,  0,\n",
       "         0,  0,  0,  0,  0,  0,  0,  0,  0,  0,  0,  0,  0,  0,  0]])"
      ]
     },
     "execution_count": 435,
     "metadata": {},
     "output_type": "execute_result"
    }
   ],
   "source": [
    "a[:3]"
   ]
  },
  {
   "cell_type": "code",
   "execution_count": 437,
   "metadata": {
    "collapsed": false
   },
   "outputs": [
    {
     "data": {
      "text/plain": [
       "array([[ 2, 11, 23, 27, 37,  9, 26, 16,  9, 27, 37, 28,  9, 28, 28,  9, 18,\n",
       "         0,  0,  0,  0,  0,  0,  0,  0,  0,  0,  0,  0,  0,  0,  0],\n",
       "       [ 2, 16, 10, 27, 37, 31, 17, 28, 39, 22, 18, 39,  6,  9, 19,  0,  0,\n",
       "         0,  0,  0,  0,  0,  0,  0,  0,  0,  0,  0,  0,  0,  0,  0],\n",
       "       [ 2, 26,  4, 11, 11, 14, 19,  5, 28, 29, 18,  0,  0,  0,  0,  0,  0,\n",
       "         0,  0,  0,  0,  0,  0,  0,  0,  0,  0,  0,  0,  0,  0,  0]])"
      ]
     },
     "execution_count": 437,
     "metadata": {},
     "output_type": "execute_result"
    }
   ],
   "source": [
    "b[:3]"
   ]
  },
  {
   "cell_type": "code",
   "execution_count": 438,
   "metadata": {
    "collapsed": false
   },
   "outputs": [
    {
     "data": {
      "text/plain": [
       "array([[11, 23, 27, 37,  9, 26, 16,  9, 27, 37, 28,  9, 28, 28,  9, 18,  1,\n",
       "         0,  0,  0,  0,  0,  0,  0,  0],\n",
       "       [16, 10, 27, 37, 31, 17, 28, 39, 22, 18, 39,  6,  9, 19,  1,  0,  0,\n",
       "         0,  0,  0,  0,  0,  0,  0,  0],\n",
       "       [26,  4, 11, 11, 14, 19,  5, 28, 29, 18,  1,  0,  0,  0,  0,  0,  0,\n",
       "         0,  0,  0,  0,  0,  0,  0,  0]])"
      ]
     },
     "execution_count": 438,
     "metadata": {},
     "output_type": "execute_result"
    }
   ],
   "source": [
    "c[:3]"
   ]
  },
  {
   "cell_type": "markdown",
   "metadata": {
    "deletable": true,
    "editable": true
   },
   "source": [
    "# Greedy decoding with `GreedyEmbeddingHelper`\n",
    "\n",
    "The encoder stays the same but we need to redefine the decoder."
   ]
  },
  {
   "cell_type": "code",
   "execution_count": 429,
   "metadata": {
    "collapsed": true,
    "deletable": true,
    "editable": true
   },
   "outputs": [],
   "source": [
    "helper = tf.contrib.seq2seq.GreedyEmbeddingHelper(embedding, tf.fill([batch_size], SOS), EOS)\n",
    "decoder = tf.contrib.seq2seq.BasicDecoder(decoder_cell, helper, encoder_state,\n",
    "                                         output_layer=output_proj)\n",
    "\n",
    "outputs, _, _ = tf.contrib.seq2seq.dynamic_decode(decoder, maximum_iterations=30)"
   ]
  },
  {
   "cell_type": "code",
   "execution_count": 430,
   "metadata": {
    "collapsed": false,
    "deletable": true,
    "editable": true
   },
   "outputs": [
    {
     "name": "stdout",
     "output_type": "stream",
     "text": [
      "hittankönyvét ---> fel+fel+és+szer+i\n",
      "tépázásig ---> kiker+fel+.\n",
      "hangrögztésünk ---> fel+fel+és+szer+kék\n",
      "szgorú ---> kiker+ke\n",
      "mesealakjai ---> fel+fel+és+ség\n",
      "kamaraegyüttesnek ---> kiker+fel+és+szer+kék\n",
      "kódexek- ---> kiker+kék\n",
      "nádalkotmányt ---> kiker+fel+és+ség\n",
      "szem-hasonlóság ---> kiker+fel+és+szer+i\n",
      "részszakaszok ---> kiker+fel+és+ség\n",
      "konszenzusnyelv ---> kiker+fel+és+szer+i\n",
      "süvegje ---> kiker+ke\n",
      "vakegér ---> fel+és+ek\n",
      "tündérkedik ---> kiker+fel+és+t\n",
      "távolságival ---> kiker+fel+és+ek\n",
      "itáliától ---> kiker+fel+.\n",
      "elhzok ---> kiker+ke\n",
      "élethelyzetüknél ---> kiker+fel+és+szer+ke\n",
      "öslakosokat ---> kiker+fel+és+t\n",
      "moralizmus-pragmatizmus ---> fel+fel+és+szer+fel+és+szer+ke\n",
      "omnidirekcionális ---> fel+fel+és+szer+fel+ő+k\n",
      "kilátókocsikból ---> kiker+fel+és+szer+i\n",
      "cisrkedarabokat ---> fel+fel+és+szer+kék\n",
      "bizottságba ---> fel+fel+és+ség\n",
      "időtorzulás ---> kiker+fel+és+t\n",
      "nemzeti-polgári ---> kiker+fel+és+szer+i\n",
      "bundestag-választásokat ---> fel+fel+és+szer+fel+és+szer+ke\n",
      "rózsa-rozetta ---> kiker+fel+és+ség\n",
      "mongol-orosz ---> fel+fel+és+szel\n",
      "népdal-elemeket ---> kiker+fel+és+szer+i\n",
      "pénzbefizetésnek ---> fel+fel+és+szer+fel+.\n",
      "koraőszig ---> kiker+fel+.\n",
      "nanorendszerek ---> kiker+fel+és+szel\n",
      "alkotmány-javaslat ---> kiker+fel+és+szer+fel+.\n",
      "tauljadonthatóságának ---> kiker+fel+és+szer+fel+és+ség\n",
      "százalékát-át ---> kiker+fel+és+ség\n",
      "munkánkká ---> fel+fel+és+t\n",
      "rableánykákat ---> kiker+fel+és+ség\n",
      "apáért ---> kiker+i\n",
      "kásája ---> kiker+i\n",
      "csúcsfalas ---> fel+fel+és+ek\n",
      "megkereshettek ---> fel+fel+és+szer+ke\n",
      "mérgezővé ---> fel+fel+és+t\n",
      "sajtói ---> kiker+i\n",
      "bibliakalauza ---> fel+fel+és+szer+i\n",
      "komforn ---> kiker+ke\n",
      "megjellegezi ---> fel+fel+és+szel\n",
      "pánom ---> fel+ek\n",
      "kápolná-ban ---> kiker+fel+és+t\n",
      "átjárjanak ---> kiker+fel+ő+k\n",
      "vitrayn ---> fel+és+ek\n",
      "piacrongáló ---> fel+fel+és+ség\n",
      "járókeretben ---> kiker+fel+és+ek\n",
      "korszakkezdő ---> kiker+fel+és+ek\n",
      "sokfosásnyira ---> kiker+fel+és+ség\n",
      "indtványainknak ---> kiker+fel+és+szer+ke\n",
      "mobilcégeket ---> fel+fel+és+szel\n",
      "megpecsételtek ---> fel+fel+és+szer+ke\n",
      "filmbemutatókra ---> fel+fel+és+szer+kék\n",
      "csalódottakra ---> fel+fel+és+szer+i\n",
      "továbbáll. ---> kiker+fel+ő+k\n",
      "pugacsov-féle ---> fel+fel+és+szer+i\n",
      "viszarettentés ---> fel+fel+és+szer+ke\n",
      "kvni ---> kiken\n",
      "megnyitásáért ---> fel+fel+és+szer+i\n",
      "értékjelképeiről ---> kiker+fel+és+szer+ke\n",
      "gps-vevők ---> kiker+fel+.\n",
      "terelődő ---> kiker+kék\n",
      "fórumosa ---> fel+fel+ő+k\n",
      "árujegyzékéről ---> kiker+fel+és+szel\n",
      "ifj-vizsgálat ---> kiker+fel+és+ség\n",
      "szervzhátterét ---> kiker+fel+és+szer+i\n",
      "kálbori ---> kiker+ke\n",
      "iparszövetséggel ---> kiker+fel+és+szer+ke\n",
      "vestignomie ---> fel+fel+és+ség\n",
      "cusanuson ---> fel+fel+és+t\n",
      "fintorogj ---> fel+fel+és+t\n",
      "szaratovba ---> kiker+fel+ő+k\n",
      "szombatiskolán ---> kiker+fel+és+szel\n",
      "létszám-kategóriába ---> kiker+fel+és+szer+fel+ő+k\n",
      "széjjelnézzen ---> kiker+fel+és+ség\n",
      "meddőhányónak ---> fel+fel+és+szer+i\n",
      "hátrahagyott. ---> fel+fel+és+szer+i\n",
      "vakolatjavtást ---> fel+fel+és+szer+kék\n",
      "manufactory ---> fel+fel+és+ség\n",
      "poltikáról ---> fel+fel+és+ek\n",
      "szétestünk ---> kiker+fel+ő+k\n",
      "meghúznánk ---> fel+fel+és+ek\n",
      "kávébarnára ---> kiker+fel+és+t\n",
      "megtermékenytésűek ---> fel+fel+és+szer+fel+és+ek\n",
      "reykjavik-i ---> kiker+fel+és+t\n",
      "istentörténeteket ---> kiker+fel+és+szer+kék\n",
      "ciánsejtlégzést ---> fel+fel+és+szer+kék\n",
      "bólintására ---> fel+fel+és+ség\n",
      "szemléltetőtárgyakkal ---> kiker+fel+és+szer+fel+és+ek\n",
      "súlyosságairól ---> kiker+fel+és+szel\n",
      "tárgyfényképezésé ---> kiker+fel+és+szer+kék\n",
      "fehérneműimmel ---> fel+fel+és+szer+ke\n",
      "zsákolta ---> kiker+kék\n",
      "villacsont. ---> fel+fel+és+ség\n"
     ]
    }
   ],
   "source": [
    "input_ids, output_ids = sess.run([src_ids, outputs.sample_id])\n",
    "decoded = decode_ids(input_ids, output_ids)\n",
    "print('\\n'.join(\n",
    "    '{} ---> {}'.format(dec[0], dec[1]) for dec in decoded\n",
    "))"
   ]
  },
  {
   "cell_type": "markdown",
   "metadata": {
    "deletable": true,
    "editable": true
   },
   "source": [
    "# Beam search decoding"
   ]
  },
  {
   "cell_type": "code",
   "execution_count": 431,
   "metadata": {
    "collapsed": true,
    "deletable": true,
    "editable": true
   },
   "outputs": [],
   "source": [
    "beam_width = 2\n",
    "start_tokens = tf.fill([4], SOS)\n",
    "bm_decoder_initial_state = tf.contrib.seq2seq.tile_batch(encoder_state, multiplier=beam_width)\n",
    "bm_decoder = tf.contrib.seq2seq.BeamSearchDecoder(\n",
    "    cell=decoder_cell,\n",
    "    embedding=embedding,\n",
    "    start_tokens=start_tokens,\n",
    "    initial_state=bm_decoder_initial_state,\n",
    "    beam_width=beam_width,\n",
    "    output_layer=output_proj,\n",
    "    end_token=EOS,\n",
    ")\n",
    "bm_outputs, _, _ = tf.contrib.seq2seq.dynamic_decode(bm_decoder, maximum_iterations=100)"
   ]
  },
  {
   "cell_type": "code",
   "execution_count": 432,
   "metadata": {
    "collapsed": false,
    "deletable": true,
    "editable": true
   },
   "outputs": [
    {
     "ename": "InvalidArgumentError",
     "evalue": "Input to reshape is a tensor with 51200 values, but the requested shape has 2048\n\t [[Node: Reshape = Reshape[T=DT_FLOAT, Tshape=DT_INT32, _device=\"/job:localhost/replica:0/task:0/gpu:0\"](tile_batch/Reshape, concat_1)]]\n\t [[Node: decoder_2/while/BeamSearchDecoderStep/truediv_1/_573 = _Recv[client_terminated=false, recv_device=\"/job:localhost/replica:0/task:0/cpu:0\", send_device=\"/job:localhost/replica:0/task:0/gpu:0\", send_device_incarnation=1, tensor_name=\"edge_709_decoder_2/while/BeamSearchDecoderStep/truediv_1\", tensor_type=DT_DOUBLE, _device=\"/job:localhost/replica:0/task:0/cpu:0\"](^_cloopdecoder_2/while/BeamSearchDecoderStep/Reshape_13/shape/_489)]]\n\nCaused by op 'Reshape', defined at:\n  File \"/usr/lib/python3.4/runpy.py\", line 170, in _run_module_as_main\n    \"__main__\", mod_spec)\n  File \"/usr/lib/python3.4/runpy.py\", line 85, in _run_code\n    exec(code, run_globals)\n  File \"/mnt/store/judit/.virtualenvs/deep/lib/python3.4/site-packages/ipykernel/__main__.py\", line 3, in <module>\n    app.launch_new_instance()\n  File \"/mnt/store/judit/.virtualenvs/deep/lib/python3.4/site-packages/traitlets/config/application.py\", line 658, in launch_instance\n    app.start()\n  File \"/mnt/store/judit/.virtualenvs/deep/lib/python3.4/site-packages/ipykernel/kernelapp.py\", line 474, in start\n    ioloop.IOLoop.instance().start()\n  File \"/mnt/store/judit/.virtualenvs/deep/lib/python3.4/site-packages/zmq/eventloop/ioloop.py\", line 177, in start\n    super(ZMQIOLoop, self).start()\n  File \"/mnt/store/judit/.virtualenvs/deep/lib/python3.4/site-packages/tornado/ioloop.py\", line 887, in start\n    handler_func(fd_obj, events)\n  File \"/mnt/store/judit/.virtualenvs/deep/lib/python3.4/site-packages/tornado/stack_context.py\", line 275, in null_wrapper\n    return fn(*args, **kwargs)\n  File \"/mnt/store/judit/.virtualenvs/deep/lib/python3.4/site-packages/zmq/eventloop/zmqstream.py\", line 440, in _handle_events\n    self._handle_recv()\n  File \"/mnt/store/judit/.virtualenvs/deep/lib/python3.4/site-packages/zmq/eventloop/zmqstream.py\", line 472, in _handle_recv\n    self._run_callback(callback, msg)\n  File \"/mnt/store/judit/.virtualenvs/deep/lib/python3.4/site-packages/zmq/eventloop/zmqstream.py\", line 414, in _run_callback\n    callback(*args, **kwargs)\n  File \"/mnt/store/judit/.virtualenvs/deep/lib/python3.4/site-packages/tornado/stack_context.py\", line 275, in null_wrapper\n    return fn(*args, **kwargs)\n  File \"/mnt/store/judit/.virtualenvs/deep/lib/python3.4/site-packages/ipykernel/kernelbase.py\", line 276, in dispatcher\n    return self.dispatch_shell(stream, msg)\n  File \"/mnt/store/judit/.virtualenvs/deep/lib/python3.4/site-packages/ipykernel/kernelbase.py\", line 228, in dispatch_shell\n    handler(stream, idents, msg)\n  File \"/mnt/store/judit/.virtualenvs/deep/lib/python3.4/site-packages/ipykernel/kernelbase.py\", line 390, in execute_request\n    user_expressions, allow_stdin)\n  File \"/mnt/store/judit/.virtualenvs/deep/lib/python3.4/site-packages/ipykernel/ipkernel.py\", line 196, in do_execute\n    res = shell.run_cell(code, store_history=store_history, silent=silent)\n  File \"/mnt/store/judit/.virtualenvs/deep/lib/python3.4/site-packages/ipykernel/zmqshell.py\", line 501, in run_cell\n    return super(ZMQInteractiveShell, self).run_cell(*args, **kwargs)\n  File \"/mnt/store/judit/.virtualenvs/deep/lib/python3.4/site-packages/IPython/core/interactiveshell.py\", line 2717, in run_cell\n    interactivity=interactivity, compiler=compiler, result=result)\n  File \"/mnt/store/judit/.virtualenvs/deep/lib/python3.4/site-packages/IPython/core/interactiveshell.py\", line 2821, in run_ast_nodes\n    if self.run_code(code, result):\n  File \"/mnt/store/judit/.virtualenvs/deep/lib/python3.4/site-packages/IPython/core/interactiveshell.py\", line 2881, in run_code\n    exec(code_obj, self.user_global_ns, self.user_ns)\n  File \"<ipython-input-431-96cf957ab113>\", line 11, in <module>\n    end_token=EOS,\n  File \"/mnt/store/judit/.virtualenvs/deep/lib/python3.4/site-packages/tensorflow/contrib/seq2seq/python/ops/beam_search_decoder.py\", line 193, in __init__\n    initial_state, self._cell.state_size)\n  File \"/mnt/store/judit/.virtualenvs/deep/lib/python3.4/site-packages/tensorflow/python/util/nest.py\", line 325, in map_structure\n    structure[0], [func(*x) for x in entries])\n  File \"/mnt/store/judit/.virtualenvs/deep/lib/python3.4/site-packages/tensorflow/python/util/nest.py\", line 325, in <listcomp>\n    structure[0], [func(*x) for x in entries])\n  File \"/mnt/store/judit/.virtualenvs/deep/lib/python3.4/site-packages/tensorflow/contrib/seq2seq/python/ops/beam_search_decoder.py\", line 374, in _maybe_split_batch_beams\n    return self._split_batch_beams(t, s)\n  File \"/mnt/store/judit/.virtualenvs/deep/lib/python3.4/site-packages/tensorflow/contrib/seq2seq/python/ops/beam_search_decoder.py\", line 339, in _split_batch_beams\n    ([self._batch_size, self._beam_width], t_shape[1:]), 0))\n  File \"/mnt/store/judit/.virtualenvs/deep/lib/python3.4/site-packages/tensorflow/python/ops/gen_array_ops.py\", line 2451, in reshape\n    name=name)\n  File \"/mnt/store/judit/.virtualenvs/deep/lib/python3.4/site-packages/tensorflow/python/framework/op_def_library.py\", line 767, in apply_op\n    op_def=op_def)\n  File \"/mnt/store/judit/.virtualenvs/deep/lib/python3.4/site-packages/tensorflow/python/framework/ops.py\", line 2506, in create_op\n    original_op=self._default_original_op, op_def=op_def)\n  File \"/mnt/store/judit/.virtualenvs/deep/lib/python3.4/site-packages/tensorflow/python/framework/ops.py\", line 1269, in __init__\n    self._traceback = _extract_stack()\n\nInvalidArgumentError (see above for traceback): Input to reshape is a tensor with 51200 values, but the requested shape has 2048\n\t [[Node: Reshape = Reshape[T=DT_FLOAT, Tshape=DT_INT32, _device=\"/job:localhost/replica:0/task:0/gpu:0\"](tile_batch/Reshape, concat_1)]]\n\t [[Node: decoder_2/while/BeamSearchDecoderStep/truediv_1/_573 = _Recv[client_terminated=false, recv_device=\"/job:localhost/replica:0/task:0/cpu:0\", send_device=\"/job:localhost/replica:0/task:0/gpu:0\", send_device_incarnation=1, tensor_name=\"edge_709_decoder_2/while/BeamSearchDecoderStep/truediv_1\", tensor_type=DT_DOUBLE, _device=\"/job:localhost/replica:0/task:0/cpu:0\"](^_cloopdecoder_2/while/BeamSearchDecoderStep/Reshape_13/shape/_489)]]\n",
     "output_type": "error",
     "traceback": [
      "\u001b[0;31m---------------------------------------------------------------------------\u001b[0m",
      "\u001b[0;31mInvalidArgumentError\u001b[0m                      Traceback (most recent call last)",
      "\u001b[0;32m/mnt/store/judit/.virtualenvs/deep/lib/python3.4/site-packages/tensorflow/python/client/session.py\u001b[0m in \u001b[0;36m_do_call\u001b[0;34m(self, fn, *args)\u001b[0m\n\u001b[1;32m   1138\u001b[0m     \u001b[0;32mtry\u001b[0m\u001b[0;34m:\u001b[0m\u001b[0;34m\u001b[0m\u001b[0m\n\u001b[0;32m-> 1139\u001b[0;31m       \u001b[0;32mreturn\u001b[0m \u001b[0mfn\u001b[0m\u001b[0;34m(\u001b[0m\u001b[0;34m*\u001b[0m\u001b[0margs\u001b[0m\u001b[0;34m)\u001b[0m\u001b[0;34m\u001b[0m\u001b[0m\n\u001b[0m\u001b[1;32m   1140\u001b[0m     \u001b[0;32mexcept\u001b[0m \u001b[0merrors\u001b[0m\u001b[0;34m.\u001b[0m\u001b[0mOpError\u001b[0m \u001b[0;32mas\u001b[0m \u001b[0me\u001b[0m\u001b[0;34m:\u001b[0m\u001b[0;34m\u001b[0m\u001b[0m\n",
      "\u001b[0;32m/mnt/store/judit/.virtualenvs/deep/lib/python3.4/site-packages/tensorflow/python/client/session.py\u001b[0m in \u001b[0;36m_run_fn\u001b[0;34m(session, feed_dict, fetch_list, target_list, options, run_metadata)\u001b[0m\n\u001b[1;32m   1120\u001b[0m                                  \u001b[0mfeed_dict\u001b[0m\u001b[0;34m,\u001b[0m \u001b[0mfetch_list\u001b[0m\u001b[0;34m,\u001b[0m \u001b[0mtarget_list\u001b[0m\u001b[0;34m,\u001b[0m\u001b[0;34m\u001b[0m\u001b[0m\n\u001b[0;32m-> 1121\u001b[0;31m                                  status, run_metadata)\n\u001b[0m\u001b[1;32m   1122\u001b[0m \u001b[0;34m\u001b[0m\u001b[0m\n",
      "\u001b[0;32m/usr/lib/python3.4/contextlib.py\u001b[0m in \u001b[0;36m__exit__\u001b[0;34m(self, type, value, traceback)\u001b[0m\n\u001b[1;32m     65\u001b[0m             \u001b[0;32mtry\u001b[0m\u001b[0;34m:\u001b[0m\u001b[0;34m\u001b[0m\u001b[0m\n\u001b[0;32m---> 66\u001b[0;31m                 \u001b[0mnext\u001b[0m\u001b[0;34m(\u001b[0m\u001b[0mself\u001b[0m\u001b[0;34m.\u001b[0m\u001b[0mgen\u001b[0m\u001b[0;34m)\u001b[0m\u001b[0;34m\u001b[0m\u001b[0m\n\u001b[0m\u001b[1;32m     67\u001b[0m             \u001b[0;32mexcept\u001b[0m \u001b[0mStopIteration\u001b[0m\u001b[0;34m:\u001b[0m\u001b[0;34m\u001b[0m\u001b[0m\n",
      "\u001b[0;32m/mnt/store/judit/.virtualenvs/deep/lib/python3.4/site-packages/tensorflow/python/framework/errors_impl.py\u001b[0m in \u001b[0;36mraise_exception_on_not_ok_status\u001b[0;34m()\u001b[0m\n\u001b[1;32m    465\u001b[0m           \u001b[0mcompat\u001b[0m\u001b[0;34m.\u001b[0m\u001b[0mas_text\u001b[0m\u001b[0;34m(\u001b[0m\u001b[0mpywrap_tensorflow\u001b[0m\u001b[0;34m.\u001b[0m\u001b[0mTF_Message\u001b[0m\u001b[0;34m(\u001b[0m\u001b[0mstatus\u001b[0m\u001b[0;34m)\u001b[0m\u001b[0;34m)\u001b[0m\u001b[0;34m,\u001b[0m\u001b[0;34m\u001b[0m\u001b[0m\n\u001b[0;32m--> 466\u001b[0;31m           pywrap_tensorflow.TF_GetCode(status))\n\u001b[0m\u001b[1;32m    467\u001b[0m   \u001b[0;32mfinally\u001b[0m\u001b[0;34m:\u001b[0m\u001b[0;34m\u001b[0m\u001b[0m\n",
      "\u001b[0;31mInvalidArgumentError\u001b[0m: Input to reshape is a tensor with 51200 values, but the requested shape has 2048\n\t [[Node: Reshape = Reshape[T=DT_FLOAT, Tshape=DT_INT32, _device=\"/job:localhost/replica:0/task:0/gpu:0\"](tile_batch/Reshape, concat_1)]]\n\t [[Node: decoder_2/while/BeamSearchDecoderStep/truediv_1/_573 = _Recv[client_terminated=false, recv_device=\"/job:localhost/replica:0/task:0/cpu:0\", send_device=\"/job:localhost/replica:0/task:0/gpu:0\", send_device_incarnation=1, tensor_name=\"edge_709_decoder_2/while/BeamSearchDecoderStep/truediv_1\", tensor_type=DT_DOUBLE, _device=\"/job:localhost/replica:0/task:0/cpu:0\"](^_cloopdecoder_2/while/BeamSearchDecoderStep/Reshape_13/shape/_489)]]",
      "\nDuring handling of the above exception, another exception occurred:\n",
      "\u001b[0;31mInvalidArgumentError\u001b[0m                      Traceback (most recent call last)",
      "\u001b[0;32m<ipython-input-432-e44558384ee7>\u001b[0m in \u001b[0;36m<module>\u001b[0;34m()\u001b[0m\n\u001b[0;32m----> 1\u001b[0;31m \u001b[0minput_ids\u001b[0m\u001b[0;34m,\u001b[0m \u001b[0moutput_ids\u001b[0m \u001b[0;34m=\u001b[0m \u001b[0msess\u001b[0m\u001b[0;34m.\u001b[0m\u001b[0mrun\u001b[0m\u001b[0;34m(\u001b[0m\u001b[0;34m[\u001b[0m\u001b[0msrc_ids\u001b[0m\u001b[0;34m,\u001b[0m \u001b[0mbm_outputs\u001b[0m\u001b[0;34m.\u001b[0m\u001b[0mpredicted_ids\u001b[0m\u001b[0;34m]\u001b[0m\u001b[0;34m)\u001b[0m\u001b[0;34m\u001b[0m\u001b[0m\n\u001b[0m\u001b[1;32m      2\u001b[0m \u001b[0moutput_ids\u001b[0m\u001b[0;34m\u001b[0m\u001b[0m\n\u001b[1;32m      3\u001b[0m \u001b[0;34m\u001b[0m\u001b[0m\n\u001b[1;32m      4\u001b[0m \u001b[0mall_decoded\u001b[0m \u001b[0;34m=\u001b[0m \u001b[0;34m[\u001b[0m\u001b[0;34m]\u001b[0m\u001b[0;34m\u001b[0m\u001b[0m\n\u001b[1;32m      5\u001b[0m \u001b[0;32mfor\u001b[0m \u001b[0mbeam_i\u001b[0m \u001b[0;32min\u001b[0m \u001b[0mrange\u001b[0m\u001b[0;34m(\u001b[0m\u001b[0mbeam_width\u001b[0m\u001b[0;34m)\u001b[0m\u001b[0;34m:\u001b[0m\u001b[0;34m\u001b[0m\u001b[0m\n",
      "\u001b[0;32m/mnt/store/judit/.virtualenvs/deep/lib/python3.4/site-packages/tensorflow/python/client/session.py\u001b[0m in \u001b[0;36mrun\u001b[0;34m(self, fetches, feed_dict, options, run_metadata)\u001b[0m\n\u001b[1;32m    787\u001b[0m     \u001b[0;32mtry\u001b[0m\u001b[0;34m:\u001b[0m\u001b[0;34m\u001b[0m\u001b[0m\n\u001b[1;32m    788\u001b[0m       result = self._run(None, fetches, feed_dict, options_ptr,\n\u001b[0;32m--> 789\u001b[0;31m                          run_metadata_ptr)\n\u001b[0m\u001b[1;32m    790\u001b[0m       \u001b[0;32mif\u001b[0m \u001b[0mrun_metadata\u001b[0m\u001b[0;34m:\u001b[0m\u001b[0;34m\u001b[0m\u001b[0m\n\u001b[1;32m    791\u001b[0m         \u001b[0mproto_data\u001b[0m \u001b[0;34m=\u001b[0m \u001b[0mtf_session\u001b[0m\u001b[0;34m.\u001b[0m\u001b[0mTF_GetBuffer\u001b[0m\u001b[0;34m(\u001b[0m\u001b[0mrun_metadata_ptr\u001b[0m\u001b[0;34m)\u001b[0m\u001b[0;34m\u001b[0m\u001b[0m\n",
      "\u001b[0;32m/mnt/store/judit/.virtualenvs/deep/lib/python3.4/site-packages/tensorflow/python/client/session.py\u001b[0m in \u001b[0;36m_run\u001b[0;34m(self, handle, fetches, feed_dict, options, run_metadata)\u001b[0m\n\u001b[1;32m    995\u001b[0m     \u001b[0;32mif\u001b[0m \u001b[0mfinal_fetches\u001b[0m \u001b[0;32mor\u001b[0m \u001b[0mfinal_targets\u001b[0m\u001b[0;34m:\u001b[0m\u001b[0;34m\u001b[0m\u001b[0m\n\u001b[1;32m    996\u001b[0m       results = self._do_run(handle, final_targets, final_fetches,\n\u001b[0;32m--> 997\u001b[0;31m                              feed_dict_string, options, run_metadata)\n\u001b[0m\u001b[1;32m    998\u001b[0m     \u001b[0;32melse\u001b[0m\u001b[0;34m:\u001b[0m\u001b[0;34m\u001b[0m\u001b[0m\n\u001b[1;32m    999\u001b[0m       \u001b[0mresults\u001b[0m \u001b[0;34m=\u001b[0m \u001b[0;34m[\u001b[0m\u001b[0;34m]\u001b[0m\u001b[0;34m\u001b[0m\u001b[0m\n",
      "\u001b[0;32m/mnt/store/judit/.virtualenvs/deep/lib/python3.4/site-packages/tensorflow/python/client/session.py\u001b[0m in \u001b[0;36m_do_run\u001b[0;34m(self, handle, target_list, fetch_list, feed_dict, options, run_metadata)\u001b[0m\n\u001b[1;32m   1130\u001b[0m     \u001b[0;32mif\u001b[0m \u001b[0mhandle\u001b[0m \u001b[0;32mis\u001b[0m \u001b[0;32mNone\u001b[0m\u001b[0;34m:\u001b[0m\u001b[0;34m\u001b[0m\u001b[0m\n\u001b[1;32m   1131\u001b[0m       return self._do_call(_run_fn, self._session, feed_dict, fetch_list,\n\u001b[0;32m-> 1132\u001b[0;31m                            target_list, options, run_metadata)\n\u001b[0m\u001b[1;32m   1133\u001b[0m     \u001b[0;32melse\u001b[0m\u001b[0;34m:\u001b[0m\u001b[0;34m\u001b[0m\u001b[0m\n\u001b[1;32m   1134\u001b[0m       return self._do_call(_prun_fn, self._session, handle, feed_dict,\n",
      "\u001b[0;32m/mnt/store/judit/.virtualenvs/deep/lib/python3.4/site-packages/tensorflow/python/client/session.py\u001b[0m in \u001b[0;36m_do_call\u001b[0;34m(self, fn, *args)\u001b[0m\n\u001b[1;32m   1150\u001b[0m         \u001b[0;32mexcept\u001b[0m \u001b[0mKeyError\u001b[0m\u001b[0;34m:\u001b[0m\u001b[0;34m\u001b[0m\u001b[0m\n\u001b[1;32m   1151\u001b[0m           \u001b[0;32mpass\u001b[0m\u001b[0;34m\u001b[0m\u001b[0m\n\u001b[0;32m-> 1152\u001b[0;31m       \u001b[0;32mraise\u001b[0m \u001b[0mtype\u001b[0m\u001b[0;34m(\u001b[0m\u001b[0me\u001b[0m\u001b[0;34m)\u001b[0m\u001b[0;34m(\u001b[0m\u001b[0mnode_def\u001b[0m\u001b[0;34m,\u001b[0m \u001b[0mop\u001b[0m\u001b[0;34m,\u001b[0m \u001b[0mmessage\u001b[0m\u001b[0;34m)\u001b[0m\u001b[0;34m\u001b[0m\u001b[0m\n\u001b[0m\u001b[1;32m   1153\u001b[0m \u001b[0;34m\u001b[0m\u001b[0m\n\u001b[1;32m   1154\u001b[0m   \u001b[0;32mdef\u001b[0m \u001b[0m_extend_graph\u001b[0m\u001b[0;34m(\u001b[0m\u001b[0mself\u001b[0m\u001b[0;34m)\u001b[0m\u001b[0;34m:\u001b[0m\u001b[0;34m\u001b[0m\u001b[0m\n",
      "\u001b[0;31mInvalidArgumentError\u001b[0m: Input to reshape is a tensor with 51200 values, but the requested shape has 2048\n\t [[Node: Reshape = Reshape[T=DT_FLOAT, Tshape=DT_INT32, _device=\"/job:localhost/replica:0/task:0/gpu:0\"](tile_batch/Reshape, concat_1)]]\n\t [[Node: decoder_2/while/BeamSearchDecoderStep/truediv_1/_573 = _Recv[client_terminated=false, recv_device=\"/job:localhost/replica:0/task:0/cpu:0\", send_device=\"/job:localhost/replica:0/task:0/gpu:0\", send_device_incarnation=1, tensor_name=\"edge_709_decoder_2/while/BeamSearchDecoderStep/truediv_1\", tensor_type=DT_DOUBLE, _device=\"/job:localhost/replica:0/task:0/cpu:0\"](^_cloopdecoder_2/while/BeamSearchDecoderStep/Reshape_13/shape/_489)]]\n\nCaused by op 'Reshape', defined at:\n  File \"/usr/lib/python3.4/runpy.py\", line 170, in _run_module_as_main\n    \"__main__\", mod_spec)\n  File \"/usr/lib/python3.4/runpy.py\", line 85, in _run_code\n    exec(code, run_globals)\n  File \"/mnt/store/judit/.virtualenvs/deep/lib/python3.4/site-packages/ipykernel/__main__.py\", line 3, in <module>\n    app.launch_new_instance()\n  File \"/mnt/store/judit/.virtualenvs/deep/lib/python3.4/site-packages/traitlets/config/application.py\", line 658, in launch_instance\n    app.start()\n  File \"/mnt/store/judit/.virtualenvs/deep/lib/python3.4/site-packages/ipykernel/kernelapp.py\", line 474, in start\n    ioloop.IOLoop.instance().start()\n  File \"/mnt/store/judit/.virtualenvs/deep/lib/python3.4/site-packages/zmq/eventloop/ioloop.py\", line 177, in start\n    super(ZMQIOLoop, self).start()\n  File \"/mnt/store/judit/.virtualenvs/deep/lib/python3.4/site-packages/tornado/ioloop.py\", line 887, in start\n    handler_func(fd_obj, events)\n  File \"/mnt/store/judit/.virtualenvs/deep/lib/python3.4/site-packages/tornado/stack_context.py\", line 275, in null_wrapper\n    return fn(*args, **kwargs)\n  File \"/mnt/store/judit/.virtualenvs/deep/lib/python3.4/site-packages/zmq/eventloop/zmqstream.py\", line 440, in _handle_events\n    self._handle_recv()\n  File \"/mnt/store/judit/.virtualenvs/deep/lib/python3.4/site-packages/zmq/eventloop/zmqstream.py\", line 472, in _handle_recv\n    self._run_callback(callback, msg)\n  File \"/mnt/store/judit/.virtualenvs/deep/lib/python3.4/site-packages/zmq/eventloop/zmqstream.py\", line 414, in _run_callback\n    callback(*args, **kwargs)\n  File \"/mnt/store/judit/.virtualenvs/deep/lib/python3.4/site-packages/tornado/stack_context.py\", line 275, in null_wrapper\n    return fn(*args, **kwargs)\n  File \"/mnt/store/judit/.virtualenvs/deep/lib/python3.4/site-packages/ipykernel/kernelbase.py\", line 276, in dispatcher\n    return self.dispatch_shell(stream, msg)\n  File \"/mnt/store/judit/.virtualenvs/deep/lib/python3.4/site-packages/ipykernel/kernelbase.py\", line 228, in dispatch_shell\n    handler(stream, idents, msg)\n  File \"/mnt/store/judit/.virtualenvs/deep/lib/python3.4/site-packages/ipykernel/kernelbase.py\", line 390, in execute_request\n    user_expressions, allow_stdin)\n  File \"/mnt/store/judit/.virtualenvs/deep/lib/python3.4/site-packages/ipykernel/ipkernel.py\", line 196, in do_execute\n    res = shell.run_cell(code, store_history=store_history, silent=silent)\n  File \"/mnt/store/judit/.virtualenvs/deep/lib/python3.4/site-packages/ipykernel/zmqshell.py\", line 501, in run_cell\n    return super(ZMQInteractiveShell, self).run_cell(*args, **kwargs)\n  File \"/mnt/store/judit/.virtualenvs/deep/lib/python3.4/site-packages/IPython/core/interactiveshell.py\", line 2717, in run_cell\n    interactivity=interactivity, compiler=compiler, result=result)\n  File \"/mnt/store/judit/.virtualenvs/deep/lib/python3.4/site-packages/IPython/core/interactiveshell.py\", line 2821, in run_ast_nodes\n    if self.run_code(code, result):\n  File \"/mnt/store/judit/.virtualenvs/deep/lib/python3.4/site-packages/IPython/core/interactiveshell.py\", line 2881, in run_code\n    exec(code_obj, self.user_global_ns, self.user_ns)\n  File \"<ipython-input-431-96cf957ab113>\", line 11, in <module>\n    end_token=EOS,\n  File \"/mnt/store/judit/.virtualenvs/deep/lib/python3.4/site-packages/tensorflow/contrib/seq2seq/python/ops/beam_search_decoder.py\", line 193, in __init__\n    initial_state, self._cell.state_size)\n  File \"/mnt/store/judit/.virtualenvs/deep/lib/python3.4/site-packages/tensorflow/python/util/nest.py\", line 325, in map_structure\n    structure[0], [func(*x) for x in entries])\n  File \"/mnt/store/judit/.virtualenvs/deep/lib/python3.4/site-packages/tensorflow/python/util/nest.py\", line 325, in <listcomp>\n    structure[0], [func(*x) for x in entries])\n  File \"/mnt/store/judit/.virtualenvs/deep/lib/python3.4/site-packages/tensorflow/contrib/seq2seq/python/ops/beam_search_decoder.py\", line 374, in _maybe_split_batch_beams\n    return self._split_batch_beams(t, s)\n  File \"/mnt/store/judit/.virtualenvs/deep/lib/python3.4/site-packages/tensorflow/contrib/seq2seq/python/ops/beam_search_decoder.py\", line 339, in _split_batch_beams\n    ([self._batch_size, self._beam_width], t_shape[1:]), 0))\n  File \"/mnt/store/judit/.virtualenvs/deep/lib/python3.4/site-packages/tensorflow/python/ops/gen_array_ops.py\", line 2451, in reshape\n    name=name)\n  File \"/mnt/store/judit/.virtualenvs/deep/lib/python3.4/site-packages/tensorflow/python/framework/op_def_library.py\", line 767, in apply_op\n    op_def=op_def)\n  File \"/mnt/store/judit/.virtualenvs/deep/lib/python3.4/site-packages/tensorflow/python/framework/ops.py\", line 2506, in create_op\n    original_op=self._default_original_op, op_def=op_def)\n  File \"/mnt/store/judit/.virtualenvs/deep/lib/python3.4/site-packages/tensorflow/python/framework/ops.py\", line 1269, in __init__\n    self._traceback = _extract_stack()\n\nInvalidArgumentError (see above for traceback): Input to reshape is a tensor with 51200 values, but the requested shape has 2048\n\t [[Node: Reshape = Reshape[T=DT_FLOAT, Tshape=DT_INT32, _device=\"/job:localhost/replica:0/task:0/gpu:0\"](tile_batch/Reshape, concat_1)]]\n\t [[Node: decoder_2/while/BeamSearchDecoderStep/truediv_1/_573 = _Recv[client_terminated=false, recv_device=\"/job:localhost/replica:0/task:0/cpu:0\", send_device=\"/job:localhost/replica:0/task:0/gpu:0\", send_device_incarnation=1, tensor_name=\"edge_709_decoder_2/while/BeamSearchDecoderStep/truediv_1\", tensor_type=DT_DOUBLE, _device=\"/job:localhost/replica:0/task:0/cpu:0\"](^_cloopdecoder_2/while/BeamSearchDecoderStep/Reshape_13/shape/_489)]]\n"
     ]
    }
   ],
   "source": [
    "input_ids, output_ids = sess.run([src_ids, bm_outputs.predicted_ids])\n",
    "output_ids\n",
    "\n",
    "all_decoded = []\n",
    "for beam_i in range(beam_width):\n",
    "    inputs = []\n",
    "    all_decoded.append([])\n",
    "    decoded = decode_ids(input_ids, output_ids[:,:,beam_i])\n",
    "    for dec in decoded:\n",
    "        all_decoded[-1].append(dec[1])\n",
    "        inputs.append(dec[0])\n",
    "\n",
    "print('\\n'.join(\n",
    "    '{} ---> {}'.format(inputs[i], ' / '.join(d[i] for d in all_decoded))\n",
    "                        for i in range(len(inputs))\n",
    "))"
   ]
  },
  {
   "cell_type": "code",
   "execution_count": null,
   "metadata": {
    "collapsed": true
   },
   "outputs": [],
   "source": []
  }
 ],
 "metadata": {
  "kernelspec": {
   "display_name": "Python 3",
   "language": "python",
   "name": "python3"
  },
  "language_info": {
   "codemirror_mode": {
    "name": "ipython",
    "version": 3
   },
   "file_extension": ".py",
   "mimetype": "text/x-python",
   "name": "python",
   "nbconvert_exporter": "python",
   "pygments_lexer": "ipython3",
   "version": "3.4.2"
  }
 },
 "nbformat": 4,
 "nbformat_minor": 2
}
