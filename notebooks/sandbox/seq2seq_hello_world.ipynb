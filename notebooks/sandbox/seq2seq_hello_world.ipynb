{
 "cells": [
  {
   "cell_type": "code",
   "execution_count": 1,
   "metadata": {
    "collapsed": true
   },
   "outputs": [],
   "source": [
    "import tensorflow as tf\n",
    "from tensorflow.python.ops import lookup_ops\n",
    "from tensorflow.python.layers import core as layers_core"
   ]
  },
  {
   "cell_type": "code",
   "execution_count": 2,
   "metadata": {},
   "outputs": [
    {
     "name": "stdout",
     "output_type": "stream",
     "text": [
      "0 1.1095\n",
      "1 0.881862\n",
      "2 0.826861\n",
      "3 0.717166\n",
      "4 0.629941\n",
      "5 0.405157\n",
      "6 0.468002\n",
      "7 0.158661\n",
      "8 0.265651\n",
      "9 0.082523\n"
     ]
    }
   ],
   "source": [
    "tf.reset_default_graph()\n",
    "\n",
    "with open('/tmp/toy_data.txt', 'w') as data_file:\n",
    "    for _ in range(100):\n",
    "        data_file.write(\"abc\\tdef\\n\")\n",
    "        data_file.write(\"aabc\\tdef\\n\")\n",
    "        data_file.write(\"def\\taf\\n\")\n",
    "        data_file.write(\"def\\taf\\n\")\n",
    "    \n",
    "table = lookup_ops.index_table_from_tensor(\n",
    "    tf.constant(['PAD'] + list(\"abcdef\"))\n",
    ")\n",
    "\n",
    "dataset = tf.contrib.data.TextLineDataset('/tmp/toy_data.txt')\n",
    "dataset = dataset.map(lambda string: tf.string_split([string], delimiter='\\t').values)\n",
    "source = dataset.map(lambda string: string[0])\n",
    "target = dataset.map(lambda string: string[1])\n",
    "\n",
    "source = source.map(lambda string: tf.string_split([string], delimiter='').values)\n",
    "source = source.map(lambda words: table.lookup(words))\n",
    "target = target.map(lambda string: tf.string_split([string], delimiter='').values)\n",
    "target = target.map(lambda words: table.lookup(words))\n",
    "\n",
    "src_tgt_dataset = tf.contrib.data.Dataset.zip((source, target))\n",
    "src_tgt_dataset = src_tgt_dataset.map(\n",
    "    lambda src, tgt: (src,\n",
    "                      tf.concat(([0], tgt), 0),\n",
    "                      tf.concat((tgt, [0]), 0),)\n",
    ")\n",
    "src_tgt_dataset = src_tgt_dataset.map(\n",
    "    lambda src, tgt_in, tgt_out: (src, tgt_in, tgt_out, tf.size(src), tf.size(tgt_in))\n",
    ")\n",
    "\n",
    "# if I set the third padding shape to tf.TensorShape([5]),\n",
    "# it fails if there is no 4 character long sample in the batch\n",
    "# WHY???\n",
    "batched = src_tgt_dataset.padded_batch(1, padded_shapes=(\n",
    "    tf.TensorShape([6]), tf.TensorShape([5]), tf.TensorShape([None]),\n",
    "         tf.TensorShape([]), tf.TensorShape([])))\n",
    "batched_iter = batched.make_initializable_iterator()\n",
    "src_ids, tgt_in_ids, tgt_out_ids, src_size, tgt_size = batched_iter.get_next()\n",
    "\n",
    "table_initializer = tf.tables_initializer()\n",
    "\n",
    "embedding = tf.get_variable(\"embedding\", [7, 3], dtype=tf.float32)\n",
    "\n",
    "encoder_emb_inp = tf.nn.embedding_lookup(embedding, src_ids)\n",
    "    \n",
    "encoder_cell = tf.contrib.rnn.BasicLSTMCell(16)\n",
    "\n",
    "encoder_outputs, encoder_state = tf.nn.dynamic_rnn(encoder_cell, encoder_emb_inp, dtype=tf.float32,\n",
    "                                                   sequence_length=src_size)\n",
    "\n",
    "decoder_initial_state = encoder_state\n",
    "decoder_cell = tf.contrib.rnn.BasicLSTMCell(16)\n",
    "decoder_emb_inp = tf.nn.embedding_lookup(embedding, tgt_in_ids)\n",
    "helper = tf.contrib.seq2seq.TrainingHelper(decoder_emb_inp, tgt_size)\n",
    "decoder = tf.contrib.seq2seq.BasicDecoder(decoder_cell, helper, decoder_initial_state)\n",
    "outputs, final_context_state, _ = tf.contrib.seq2seq.dynamic_decode(decoder)\n",
    "sample_id = outputs.sample_id\n",
    "output_proj = layers_core.Dense(7, name=\"output_projection\")\n",
    "logits = output_proj(outputs.rnn_output)\n",
    "\n",
    "crossent = tf.nn.sparse_softmax_cross_entropy_with_logits(labels=tgt_out_ids, logits=logits)\n",
    "target_weights = tf.sequence_mask(tgt_size, tf.shape(tgt_out_ids)[1], tf.float32)\n",
    "loss = tf.reduce_sum(crossent * target_weights) / tf.to_float(5)\n",
    "\n",
    "optimizer =tf.train.AdamOptimizer(0.1)\n",
    "params = tf.trainable_variables()\n",
    "gradients = tf.gradients(loss, params)\n",
    "update = optimizer.apply_gradients(zip(gradients, params))\n",
    "\n",
    "sess = tf.InteractiveSession()\n",
    "sess.run(table_initializer)\n",
    "sess.run(batched_iter.initializer)\n",
    "sess.run(tf.global_variables_initializer())\n",
    "\n",
    "for i in range(10):\n",
    "    sess.run(update)\n",
    "    l = sess.run(loss)\n",
    "    print(i, l)"
   ]
  },
  {
   "cell_type": "code",
   "execution_count": 3,
   "metadata": {},
   "outputs": [
    {
     "name": "stdout",
     "output_type": "stream",
     "text": [
      "[array([[1, 2, 3, 0, 0, 0]]), array([[0, 4, 5, 6, 0]])]\n"
     ]
    }
   ],
   "source": [
    "print(sess.run([src_ids, tgt_in_ids]))"
   ]
  },
  {
   "cell_type": "code",
   "execution_count": 4,
   "metadata": {},
   "outputs": [
    {
     "data": {
      "text/plain": [
       "TensorShape([Dimension(None), Dimension(None)])"
      ]
     },
     "execution_count": 4,
     "metadata": {},
     "output_type": "execute_result"
    }
   ],
   "source": [
    "tgt_out_ids.shape"
   ]
  },
  {
   "cell_type": "code",
   "execution_count": 5,
   "metadata": {
    "collapsed": true
   },
   "outputs": [],
   "source": [
    "o = sess.run(outputs)"
   ]
  },
  {
   "cell_type": "code",
   "execution_count": 6,
   "metadata": {},
   "outputs": [
    {
     "data": {
      "text/plain": [
       "array([[5, 1, 1, 0]])"
      ]
     },
     "execution_count": 6,
     "metadata": {},
     "output_type": "execute_result"
    }
   ],
   "source": [
    "probs = o.rnn_output\n",
    "\n",
    "import numpy as np\n",
    "\n",
    "np.argmax(probs, axis=-1)"
   ]
  },
  {
   "cell_type": "code",
   "execution_count": 7,
   "metadata": {},
   "outputs": [
    {
     "data": {
      "text/plain": [
       "7"
      ]
     },
     "execution_count": 7,
     "metadata": {},
     "output_type": "execute_result"
    }
   ],
   "source": [
    "sess.run(table.size())"
   ]
  },
  {
   "cell_type": "markdown",
   "metadata": {},
   "source": [
    "# Questions\n",
    "\n",
    "* Should the decoder cell be different from the encoder cell?"
   ]
  }
 ],
 "metadata": {
  "kernelspec": {
   "display_name": "Python 3",
   "language": "python",
   "name": "python3"
  },
  "language_info": {
   "codemirror_mode": {
    "name": "ipython",
    "version": 3
   },
   "file_extension": ".py",
   "mimetype": "text/x-python",
   "name": "python",
   "nbconvert_exporter": "python",
   "pygments_lexer": "ipython3",
   "version": "3.6.1"
  }
 },
 "nbformat": 4,
 "nbformat_minor": 2
}
