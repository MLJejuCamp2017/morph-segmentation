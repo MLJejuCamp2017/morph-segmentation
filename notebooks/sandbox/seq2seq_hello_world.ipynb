{
 "cells": [
  {
   "cell_type": "code",
   "execution_count": 1,
   "metadata": {
    "collapsed": true
   },
   "outputs": [],
   "source": [
    "import tensorflow as tf\n",
    "from tensorflow.python.ops import lookup_ops\n",
    "from tensorflow.python.layers import core as layers_core\n",
    "\n",
    "tf.reset_default_graph()"
   ]
  },
  {
   "cell_type": "markdown",
   "metadata": {},
   "source": [
    "# Create training data"
   ]
  },
  {
   "cell_type": "code",
   "execution_count": 2,
   "metadata": {
    "collapsed": true
   },
   "outputs": [],
   "source": [
    "with open('/tmp/toy_data.txt', 'w') as data_file:\n",
    "    for _ in range(1000):\n",
    "        data_file.write(\"abc\\tdefdef\\n\")\n",
    "        data_file.write(\"def\\tabcabc\\n\")"
   ]
  },
  {
   "cell_type": "markdown",
   "metadata": {},
   "source": [
    "# Vocabulary as a lookup table"
   ]
  },
  {
   "cell_type": "code",
   "execution_count": 3,
   "metadata": {
    "collapsed": true
   },
   "outputs": [],
   "source": [
    "vocab = ['PAD', 'EOS', 'SOS'] + list(\"aábcdef\")\n",
    "EOS = 1  # end of sentence\n",
    "SOS = 2  # start of sentence (GO symbol)\n",
    "table = lookup_ops.index_table_from_tensor(tf.constant(vocab))\n",
    "vocab = {k: i for i, k in enumerate(vocab)}\n",
    "vocab_size = len(vocab)\n",
    "\n",
    "table_initializer = tf.tables_initializer()"
   ]
  },
  {
   "cell_type": "markdown",
   "metadata": {},
   "source": [
    "# Reading dataset\n",
    "\n",
    "Format:\n",
    "\n",
    "~~~\n",
    "input TAB output\n",
    "input TAB output\n",
    "~~~"
   ]
  },
  {
   "cell_type": "code",
   "execution_count": 4,
   "metadata": {
    "collapsed": true
   },
   "outputs": [],
   "source": [
    "dataset = tf.contrib.data.TextLineDataset('/tmp/toy_data.txt')\n",
    "dataset = dataset.map(lambda string: tf.string_split([string], delimiter='\\t').values)\n",
    "source = dataset.map(lambda string: string[0])\n",
    "target = dataset.map(lambda string: string[1])\n",
    "\n",
    "source = source.map(lambda string: tf.string_split([string], delimiter='').values)\n",
    "source = source.map(lambda words: table.lookup(words))\n",
    "target = target.map(lambda string: tf.string_split([string], delimiter='').values)\n",
    "target = target.map(lambda words: table.lookup(words))\n",
    "\n",
    "src_tgt_dataset = tf.contrib.data.Dataset.zip((source, target))\n",
    "src_tgt_dataset = src_tgt_dataset.map(\n",
    "    lambda src, tgt: (src,\n",
    "                      tf.concat(([SOS], tgt), 0),\n",
    "                      tf.concat((tgt, [EOS]), 0),)\n",
    ")\n",
    "src_tgt_dataset = src_tgt_dataset.map(\n",
    "    lambda src, tgt_in, tgt_out: (src, tgt_in, tgt_out, tf.size(src), tf.size(tgt_in))\n",
    ")"
   ]
  },
  {
   "cell_type": "markdown",
   "metadata": {},
   "source": [
    "# Padded batch"
   ]
  },
  {
   "cell_type": "code",
   "execution_count": 5,
   "metadata": {
    "collapsed": true
   },
   "outputs": [],
   "source": [
    "# if I set the third padding shape to tf.TensorShape([5]),\n",
    "# it fails if there is no 4 character long sample in the batch\n",
    "# WHY???\n",
    "batched = src_tgt_dataset.padded_batch(4, padded_shapes=(\n",
    "    tf.TensorShape([6]), tf.TensorShape([9]), tf.TensorShape([None]),\n",
    "         tf.TensorShape([]), tf.TensorShape([])))\n",
    "batched_iter = batched.make_initializable_iterator()\n",
    "src_ids, tgt_in_ids, tgt_out_ids, src_size, tgt_size = batched_iter.get_next()"
   ]
  },
  {
   "cell_type": "markdown",
   "metadata": {},
   "source": [
    "# Encoder"
   ]
  },
  {
   "cell_type": "code",
   "execution_count": 6,
   "metadata": {
    "collapsed": true
   },
   "outputs": [],
   "source": [
    "embedding = tf.get_variable(\"embedding\", [vocab_size, 3], dtype=tf.float32)\n",
    "\n",
    "encoder_emb_inp = tf.nn.embedding_lookup(embedding, src_ids)\n",
    "    \n",
    "encoder_cell = tf.contrib.rnn.BasicLSTMCell(16)\n",
    "\n",
    "encoder_outputs, encoder_state = tf.nn.dynamic_rnn(encoder_cell, encoder_emb_inp, dtype=tf.float32,\n",
    "                                                   sequence_length=src_size)"
   ]
  },
  {
   "cell_type": "markdown",
   "metadata": {},
   "source": [
    "# Decoder"
   ]
  },
  {
   "cell_type": "code",
   "execution_count": 7,
   "metadata": {
    "collapsed": true
   },
   "outputs": [],
   "source": [
    "decoder_initial_state = encoder_state\n",
    "decoder_cell = tf.contrib.rnn.BasicLSTMCell(16)\n",
    "decoder_emb_inp = tf.nn.embedding_lookup(embedding, tgt_in_ids)\n",
    "helper = tf.contrib.seq2seq.TrainingHelper(decoder_emb_inp, tgt_size)\n",
    "decoder = tf.contrib.seq2seq.BasicDecoder(decoder_cell, helper, decoder_initial_state)\n",
    "outputs, final_context_state, _ = tf.contrib.seq2seq.dynamic_decode(decoder)\n",
    "sample_id = outputs.sample_id\n",
    "output_proj = layers_core.Dense(vocab_size, name=\"output_projection\")\n",
    "logits = output_proj(outputs.rnn_output)"
   ]
  },
  {
   "cell_type": "markdown",
   "metadata": {},
   "source": [
    "# Loss"
   ]
  },
  {
   "cell_type": "code",
   "execution_count": 8,
   "metadata": {
    "collapsed": true
   },
   "outputs": [],
   "source": [
    "crossent = tf.nn.sparse_softmax_cross_entropy_with_logits(labels=tgt_out_ids, logits=logits)\n",
    "target_weights = tf.sequence_mask(tgt_size, tf.shape(tgt_out_ids)[1], tf.float32)\n",
    "loss = tf.reduce_sum(crossent * target_weights) / tf.to_float(5)"
   ]
  },
  {
   "cell_type": "markdown",
   "metadata": {},
   "source": [
    "# Optimizer and gradient update"
   ]
  },
  {
   "cell_type": "code",
   "execution_count": 9,
   "metadata": {
    "collapsed": true
   },
   "outputs": [],
   "source": [
    "optimizer =tf.train.AdamOptimizer(0.1)\n",
    "params = tf.trainable_variables()\n",
    "gradients = tf.gradients(loss, params)\n",
    "update = optimizer.apply_gradients(zip(gradients, params))"
   ]
  },
  {
   "cell_type": "markdown",
   "metadata": {},
   "source": [
    "# Starting session"
   ]
  },
  {
   "cell_type": "code",
   "execution_count": 10,
   "metadata": {
    "collapsed": true
   },
   "outputs": [],
   "source": [
    "sess = tf.InteractiveSession()\n",
    "sess.run(table_initializer)\n",
    "sess.run(batched_iter.initializer)\n",
    "sess.run(tf.global_variables_initializer())"
   ]
  },
  {
   "cell_type": "markdown",
   "metadata": {},
   "source": [
    "# Training"
   ]
  },
  {
   "cell_type": "code",
   "execution_count": 11,
   "metadata": {},
   "outputs": [
    {
     "name": "stdout",
     "output_type": "stream",
     "text": [
      "Iteration: 10, training loss: 2.7747371196746826\n",
      "Iteration: 20, training loss: 0.1978912651538849\n",
      "Iteration: 30, training loss: 0.030035044997930527\n",
      "Iteration: 40, training loss: 0.01124502345919609\n",
      "Iteration: 50, training loss: 0.006356580648571253\n",
      "Iteration: 60, training loss: 0.004859971813857555\n",
      "Iteration: 70, training loss: 0.004096614196896553\n",
      "Iteration: 80, training loss: 0.003633463056758046\n",
      "Iteration: 90, training loss: 0.003309317398816347\n",
      "Iteration: 100, training loss: 0.003039924893528223\n"
     ]
    }
   ],
   "source": [
    "for i in range(100):\n",
    "    sess.run(update)\n",
    "    l = sess.run(loss)\n",
    "    if i % 10 == 9:\n",
    "        print(\"Iteration: {}, training loss: {}\".format(i+1, l))"
   ]
  },
  {
   "cell_type": "markdown",
   "metadata": {},
   "source": [
    "# Manual greedy decoding\n",
    "\n",
    "NOTE: running logits iterates over the next batch in the dataset, so running this cell multiple times decodes a different batch in the dataset."
   ]
  },
  {
   "cell_type": "code",
   "execution_count": 12,
   "metadata": {
    "collapsed": true
   },
   "outputs": [],
   "source": [
    "inv_vocab = {v: k for k, v in vocab.items()}\n",
    "inv_vocab[-1] = 'UNK'\n",
    "skip_symbols = ('PAD', 'SOS', 'EOS', 'UNK')"
   ]
  },
  {
   "cell_type": "markdown",
   "metadata": {},
   "source": [
    "## Input and output labels\n",
    "\n",
    "Greed: just take the highest probabilty along the last axis."
   ]
  },
  {
   "cell_type": "code",
   "execution_count": 13,
   "metadata": {},
   "outputs": [
    {
     "data": {
      "text/plain": [
       "(4, 7)"
      ]
     },
     "execution_count": 13,
     "metadata": {},
     "output_type": "execute_result"
    }
   ],
   "source": [
    "input_ids, out_probs = sess.run([src_ids, logits])\n",
    "output_ids = out_probs.argmax(axis=-1)\n",
    "\n",
    "output_ids.shape"
   ]
  },
  {
   "cell_type": "markdown",
   "metadata": {},
   "source": [
    "## Convert labels to characters"
   ]
  },
  {
   "cell_type": "code",
   "execution_count": 14,
   "metadata": {},
   "outputs": [
    {
     "name": "stdout",
     "output_type": "stream",
     "text": [
      "abc ---> defdef\n",
      "def ---> abcabc\n",
      "abc ---> defdef\n",
      "def ---> abcabc\n"
     ]
    }
   ],
   "source": [
    "def decode_ids(input_ids, output_ids):\n",
    "    decoded = []\n",
    "    for sample_i in range(output_ids.shape[0]):\n",
    "        input_sample = input_ids[sample_i]\n",
    "        output_sample = output_ids[sample_i]\n",
    "        input_decoded = [inv_vocab[s] for s in input_sample]\n",
    "        input_decoded = ''.join(c for c in input_decoded if c not in skip_symbols)\n",
    "        output_decoded = [inv_vocab[s] for s in output_sample]\n",
    "        output_decoded = ''.join(c for c in output_decoded if c not in skip_symbols)\n",
    "        decoded.append((input_decoded, output_decoded))\n",
    "    return decoded\n",
    " \n",
    "decoded = decode_ids(input_ids, output_ids)\n",
    "print('\\n'.join(\n",
    "    '{} ---> {}'.format(dec[0], dec[1]) for dec in decoded\n",
    "))"
   ]
  },
  {
   "cell_type": "markdown",
   "metadata": {},
   "source": [
    "# Greedy decoding with `GreedyEmbeddingHelper`\n",
    "\n",
    "The encoder stays the same but we need to redefine the decoder."
   ]
  },
  {
   "cell_type": "code",
   "execution_count": 15,
   "metadata": {
    "collapsed": true
   },
   "outputs": [],
   "source": [
    "helper = tf.contrib.seq2seq.GreedyEmbeddingHelper(embedding, tf.fill([4], SOS), EOS)\n",
    "decoder = tf.contrib.seq2seq.BasicDecoder(decoder_cell, helper, encoder_state,\n",
    "                                         output_layer=output_proj)\n",
    "\n",
    "outputs, _, _ = tf.contrib.seq2seq.dynamic_decode(decoder, maximum_iterations=4)"
   ]
  },
  {
   "cell_type": "code",
   "execution_count": 16,
   "metadata": {},
   "outputs": [
    {
     "name": "stdout",
     "output_type": "stream",
     "text": [
      "abc ---> defd\n",
      "def ---> abca\n",
      "abc ---> defd\n",
      "def ---> abca\n"
     ]
    }
   ],
   "source": [
    "input_ids, output_ids = sess.run([src_ids, outputs.sample_id])\n",
    "decoded = decode_ids(input_ids, output_ids)\n",
    "print('\\n'.join(\n",
    "    '{} ---> {}'.format(dec[0], dec[1]) for dec in decoded\n",
    "))"
   ]
  },
  {
   "cell_type": "markdown",
   "metadata": {},
   "source": [
    "# Beam search decoding"
   ]
  },
  {
   "cell_type": "code",
   "execution_count": 17,
   "metadata": {
    "collapsed": true
   },
   "outputs": [],
   "source": [
    "beam_width = 2\n",
    "start_tokens = tf.fill([4], SOS)\n",
    "bm_decoder_initial_state = tf.contrib.seq2seq.tile_batch(encoder_state, multiplier=beam_width)\n",
    "bm_decoder = tf.contrib.seq2seq.BeamSearchDecoder(\n",
    "    cell=decoder_cell,\n",
    "    embedding=embedding,\n",
    "    start_tokens=start_tokens,\n",
    "    initial_state=bm_decoder_initial_state,\n",
    "    beam_width=beam_width,\n",
    "    output_layer=output_proj,\n",
    "    end_token=EOS,\n",
    ")\n",
    "bm_outputs, _, _ = tf.contrib.seq2seq.dynamic_decode(bm_decoder, maximum_iterations=100)"
   ]
  },
  {
   "cell_type": "code",
   "execution_count": 18,
   "metadata": {},
   "outputs": [
    {
     "name": "stdout",
     "output_type": "stream",
     "text": [
      "abc ---> defdef / deffdef\n",
      "def ---> abcabc / abcabca\n",
      "abc ---> defdef / deffdef\n",
      "def ---> abcabc / abcabca\n"
     ]
    }
   ],
   "source": [
    "input_ids, output_ids = sess.run([src_ids, bm_outputs.predicted_ids])\n",
    "output_ids\n",
    "\n",
    "all_decoded = []\n",
    "for beam_i in range(beam_width):\n",
    "    inputs = []\n",
    "    all_decoded.append([])\n",
    "    decoded = decode_ids(input_ids, output_ids[:,:,beam_i])\n",
    "    for dec in decoded:\n",
    "        all_decoded[-1].append(dec[1])\n",
    "        inputs.append(dec[0])\n",
    "\n",
    "print('\\n'.join(\n",
    "    '{} ---> {}'.format(inputs[i], ' / '.join(d[i] for d in all_decoded))\n",
    "                        for i in range(len(inputs))\n",
    "))"
   ]
  }
 ],
 "metadata": {
  "kernelspec": {
   "display_name": "Python 3",
   "language": "python",
   "name": "python3"
  },
  "language_info": {
   "codemirror_mode": {
    "name": "ipython",
    "version": 3
   },
   "file_extension": ".py",
   "mimetype": "text/x-python",
   "name": "python",
   "nbconvert_exporter": "python",
   "pygments_lexer": "ipython3",
   "version": "3.6.1"
  }
 },
 "nbformat": 4,
 "nbformat_minor": 2
}
