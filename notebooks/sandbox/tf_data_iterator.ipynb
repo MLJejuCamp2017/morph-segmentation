{
 "cells": [
  {
   "cell_type": "code",
   "execution_count": 1,
   "metadata": {
    "collapsed": true
   },
   "outputs": [],
   "source": [
    "import tensorflow as tf\n",
    "from tensorflow.python.ops import lookup_ops"
   ]
  },
  {
   "cell_type": "markdown",
   "metadata": {},
   "source": [
    "# Define dataset and TF constants"
   ]
  },
  {
   "cell_type": "code",
   "execution_count": 2,
   "metadata": {},
   "outputs": [
    {
     "data": {
      "text/plain": [
       "array([[ 1,  3, -1, -1,  0,  0],\n",
       "       [ 1,  4, -1, -1,  0,  0],\n",
       "       [ 3,  4,  5,  0,  0,  0]])"
      ]
     },
     "execution_count": 2,
     "metadata": {},
     "output_type": "execute_result"
    }
   ],
   "source": [
    "tf.reset_default_graph()\n",
    "\n",
    "sess = tf.InteractiveSession()\n",
    "\n",
    "\n",
    "table = lookup_ops.index_table_from_tensor(\n",
    "    tf.constant(['PAD'] + list('aábcde'))\n",
    ")\n",
    "\n",
    "dataset = tf.contrib.data.Dataset.from_tensor_slices(\n",
    "    tf.constant([\"abá\", \"acű\", \"bcd\"])\n",
    ")\n",
    "dataset = dataset.map(lambda string: tf.string_split([string], delimiter='').values)\n",
    "dataset = dataset.map(lambda words: table.lookup(words))\n",
    "\n",
    "batched = dataset.padded_batch(5, padded_shapes=(tf.TensorShape([6])))\n",
    "batched_iter = batched.make_initializable_iterator()\n",
    "bstart = batched_iter.get_next()\n",
    "\n",
    "table_initializer = tf.tables_initializer()\n",
    "\n",
    "\n",
    "sess.run(table_initializer)\n",
    "\n",
    "sess.run(batched_iter.initializer)\n",
    "\n",
    "s = sess.run(bstart)\n",
    "\n",
    "s"
   ]
  },
  {
   "cell_type": "markdown",
   "metadata": {},
   "source": [
    "# Read data from file\n",
    "\n",
    "## Create data file"
   ]
  },
  {
   "cell_type": "code",
   "execution_count": 3,
   "metadata": {},
   "outputs": [],
   "source": [
    "with open('/tmp/toy_data.txt', 'w') as data_file:\n",
    "    data_file.write(\"abc\\tdef\\n\")\n",
    "    data_file.write(\"def\\tábc\\n\")"
   ]
  },
  {
   "cell_type": "code",
   "execution_count": 4,
   "metadata": {},
   "outputs": [
    {
     "data": {
      "text/plain": [
       "array([[ 5,  6, -1,  0,  0,  0],\n",
       "       [-1, -1,  3,  4,  0,  0]])"
      ]
     },
     "execution_count": 4,
     "metadata": {},
     "output_type": "execute_result"
    }
   ],
   "source": [
    "tf.reset_default_graph()\n",
    "\n",
    "sess = tf.InteractiveSession()\n",
    "\n",
    "\n",
    "table = lookup_ops.index_table_from_tensor(\n",
    "    tf.constant(['PAD'] + list('aábcde'))\n",
    ")\n",
    "\n",
    "dataset = tf.contrib.data.TextLineDataset('/tmp/toy_data.txt')\n",
    "dataset = dataset.map(lambda string: tf.string_split([string], delimiter='\\t').values)\n",
    "source = dataset.map(lambda string: string[0])\n",
    "target = dataset.map(lambda string: string[1])\n",
    "dataset = target\n",
    "dataset = dataset.map(lambda string: tf.string_split([string], delimiter='').values)\n",
    "dataset = dataset.map(lambda words: table.lookup(words))\n",
    "\n",
    "batched = dataset.padded_batch(5, padded_shapes=(tf.TensorShape([6])))\n",
    "batched_iter = batched.make_initializable_iterator()\n",
    "bstart = batched_iter.get_next()\n",
    "\n",
    "table_initializer = tf.tables_initializer()\n",
    "\n",
    "\n",
    "sess.run(table_initializer)\n",
    "\n",
    "sess.run(batched_iter.initializer)\n",
    "\n",
    "s = sess.run(bstart)\n",
    "\n",
    "s"
   ]
  }
 ],
 "metadata": {
  "kernelspec": {
   "display_name": "Python 3",
   "language": "python",
   "name": "python3"
  },
  "language_info": {
   "codemirror_mode": {
    "name": "ipython",
    "version": 3
   },
   "file_extension": ".py",
   "mimetype": "text/x-python",
   "name": "python",
   "nbconvert_exporter": "python",
   "pygments_lexer": "ipython3",
   "version": "3.6.1"
  }
 },
 "nbformat": 4,
 "nbformat_minor": 2
}
